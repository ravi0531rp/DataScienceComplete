{
 "cells": [
  {
   "cell_type": "code",
   "execution_count": 1,
   "id": "531d53e3",
   "metadata": {},
   "outputs": [],
   "source": [
    "import cv2"
   ]
  },
  {
   "cell_type": "code",
   "execution_count": 2,
   "id": "2885490b",
   "metadata": {},
   "outputs": [],
   "source": [
    "import numpy as np"
   ]
  },
  {
   "cell_type": "code",
   "execution_count": 6,
   "id": "cf1ef191",
   "metadata": {},
   "outputs": [],
   "source": [
    "x = np.zeros((720,1280),dtype=np.uint8)\n",
    "x[300:700,300:700] = 255\n",
    "cv2.imshow(\"ss\",x)\n",
    "cv2.waitKey(0)\n",
    "cv2.destroyAllWindows()"
   ]
  },
  {
   "cell_type": "code",
   "execution_count": 7,
   "id": "7ed6d261",
   "metadata": {},
   "outputs": [],
   "source": [
    "x = np.zeros((720,1280),dtype=np.uint8)\n",
    "x[300:500,300:500] = 255\n",
    "cv2.imshow(\"ss\",x)\n",
    "cv2.waitKey(0)\n",
    "cv2.destroyAllWindows()"
   ]
  },
  {
   "cell_type": "code",
   "execution_count": 10,
   "id": "1dfc9579",
   "metadata": {},
   "outputs": [],
   "source": [
    "x = np.zeros((720,1280),dtype=np.uint8)\n",
    "x[300:450,300:450] = 255\n",
    "cv2.imshow(\"ss\",x)\n",
    "cv2.waitKey(0)\n",
    "cv2.destroyAllWindows()"
   ]
  },
  {
   "cell_type": "code",
   "execution_count": 8,
   "id": "44ddf842",
   "metadata": {},
   "outputs": [
    {
     "data": {
      "text/plain": [
       "707.1067811865476"
      ]
     },
     "execution_count": 8,
     "metadata": {},
     "output_type": "execute_result"
    }
   ],
   "source": [
    "np.sqrt(500000)"
   ]
  },
  {
   "cell_type": "code",
   "execution_count": 9,
   "id": "3ab7b938",
   "metadata": {},
   "outputs": [],
   "source": [
    "x = np.zeros((720,1280),dtype=np.uint8)\n",
    "x[100:800,100:800] = 255\n",
    "cv2.imshow(\"ss\",x)\n",
    "cv2.waitKey(0)\n",
    "cv2.destroyAllWindows()"
   ]
  },
  {
   "cell_type": "code",
   "execution_count": null,
   "id": "5d37aaed",
   "metadata": {},
   "outputs": [],
   "source": []
  }
 ],
 "metadata": {
  "kernelspec": {
   "display_name": "Python 3",
   "language": "python",
   "name": "python3"
  },
  "language_info": {
   "codemirror_mode": {
    "name": "ipython",
    "version": 3
   },
   "file_extension": ".py",
   "mimetype": "text/x-python",
   "name": "python",
   "nbconvert_exporter": "python",
   "pygments_lexer": "ipython3",
   "version": "3.8.11"
  }
 },
 "nbformat": 4,
 "nbformat_minor": 5
}
