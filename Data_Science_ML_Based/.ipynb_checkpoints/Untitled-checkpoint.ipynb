{
 "cells": [
  {
   "cell_type": "code",
   "execution_count": 1,
   "id": "3f933e36",
   "metadata": {},
   "outputs": [],
   "source": [
    "import numpy as np"
   ]
  },
  {
   "cell_type": "markdown",
   "id": "7504785c",
   "metadata": {},
   "source": [
    "### Generating arrays from python lists"
   ]
  },
  {
   "cell_type": "code",
   "execution_count": 2,
   "id": "f11c6aed",
   "metadata": {},
   "outputs": [],
   "source": [
    "lst = [\n",
    "    [1,2,3],\n",
    "    [3,4,6],\n",
    "    [3,55,67]\n",
    "]"
   ]
  },
  {
   "cell_type": "code",
   "execution_count": 3,
   "id": "ee2bcd38",
   "metadata": {},
   "outputs": [
    {
     "data": {
      "text/plain": [
       "list"
      ]
     },
     "execution_count": 3,
     "metadata": {},
     "output_type": "execute_result"
    }
   ],
   "source": [
    "type(lst)"
   ]
  },
  {
   "cell_type": "code",
   "execution_count": 4,
   "id": "183c4e30",
   "metadata": {},
   "outputs": [],
   "source": [
    "np_arr = np.array(lst)"
   ]
  },
  {
   "cell_type": "code",
   "execution_count": 5,
   "id": "78c0511d",
   "metadata": {},
   "outputs": [
    {
     "data": {
      "text/plain": [
       "array([[ 1,  2,  3],\n",
       "       [ 3,  4,  6],\n",
       "       [ 3, 55, 67]])"
      ]
     },
     "execution_count": 5,
     "metadata": {},
     "output_type": "execute_result"
    }
   ],
   "source": [
    "np_arr"
   ]
  },
  {
   "cell_type": "code",
   "execution_count": 6,
   "id": "a8f39d62",
   "metadata": {},
   "outputs": [
    {
     "data": {
      "text/plain": [
       "(3, 3)"
      ]
     },
     "execution_count": 6,
     "metadata": {},
     "output_type": "execute_result"
    }
   ],
   "source": [
    "np_arr.shape"
   ]
  },
  {
   "cell_type": "code",
   "execution_count": 7,
   "id": "ee8933b3",
   "metadata": {},
   "outputs": [
    {
     "name": "stdout",
     "output_type": "stream",
     "text": [
      "[[ 1  2  3]\n",
      " [ 3  4  6]\n",
      " [ 3 55 67]]\n"
     ]
    }
   ],
   "source": [
    "print(np_arr)"
   ]
  },
  {
   "cell_type": "code",
   "execution_count": 8,
   "id": "0f39675a",
   "metadata": {},
   "outputs": [
    {
     "data": {
      "text/plain": [
       "numpy.ndarray"
      ]
     },
     "execution_count": 8,
     "metadata": {},
     "output_type": "execute_result"
    }
   ],
   "source": [
    "type(np_arr)"
   ]
  },
  {
   "cell_type": "code",
   "execution_count": 9,
   "id": "5f99bd39",
   "metadata": {},
   "outputs": [
    {
     "data": {
      "text/plain": [
       "3"
      ]
     },
     "execution_count": 9,
     "metadata": {},
     "output_type": "execute_result"
    }
   ],
   "source": [
    "len(np_arr)"
   ]
  },
  {
   "cell_type": "code",
   "execution_count": 10,
   "id": "6274935e",
   "metadata": {},
   "outputs": [
    {
     "data": {
      "text/plain": [
       "9"
      ]
     },
     "execution_count": 10,
     "metadata": {},
     "output_type": "execute_result"
    }
   ],
   "source": [
    "np.size(np_arr)"
   ]
  },
  {
   "cell_type": "markdown",
   "id": "48671b4d",
   "metadata": {},
   "source": [
    "## Generating arrays using builtin fns like arange, linspace"
   ]
  },
  {
   "cell_type": "code",
   "execution_count": 13,
   "id": "64f9d4be",
   "metadata": {},
   "outputs": [],
   "source": [
    "x = np.arange(0,100,2) # doesn't include"
   ]
  },
  {
   "cell_type": "code",
   "execution_count": 14,
   "id": "a1858336",
   "metadata": {},
   "outputs": [
    {
     "data": {
      "text/plain": [
       "array([ 0,  2,  4,  6,  8, 10, 12, 14, 16, 18, 20, 22, 24, 26, 28, 30, 32,\n",
       "       34, 36, 38, 40, 42, 44, 46, 48, 50, 52, 54, 56, 58, 60, 62, 64, 66,\n",
       "       68, 70, 72, 74, 76, 78, 80, 82, 84, 86, 88, 90, 92, 94, 96, 98])"
      ]
     },
     "execution_count": 14,
     "metadata": {},
     "output_type": "execute_result"
    }
   ],
   "source": [
    "x"
   ]
  },
  {
   "cell_type": "code",
   "execution_count": 15,
   "id": "7fef694c",
   "metadata": {},
   "outputs": [],
   "source": [
    "z = np.zeros((5,5),dtype= np.uint8) # rows,col or height,width or y,x"
   ]
  },
  {
   "cell_type": "code",
   "execution_count": 16,
   "id": "2a6ce43f",
   "metadata": {},
   "outputs": [
    {
     "data": {
      "text/plain": [
       "array([[0, 0, 0, 0, 0],\n",
       "       [0, 0, 0, 0, 0],\n",
       "       [0, 0, 0, 0, 0],\n",
       "       [0, 0, 0, 0, 0],\n",
       "       [0, 0, 0, 0, 0]], dtype=uint8)"
      ]
     },
     "execution_count": 16,
     "metadata": {},
     "output_type": "execute_result"
    }
   ],
   "source": [
    "z"
   ]
  },
  {
   "cell_type": "code",
   "execution_count": 20,
   "id": "ee58ee4e",
   "metadata": {},
   "outputs": [],
   "source": [
    "y = np.linspace(-10,10,10)  # start point, end point(included) , number of points we want"
   ]
  },
  {
   "cell_type": "code",
   "execution_count": 21,
   "id": "f0108275",
   "metadata": {},
   "outputs": [
    {
     "data": {
      "text/plain": [
       "array([-10.        ,  -7.77777778,  -5.55555556,  -3.33333333,\n",
       "        -1.11111111,   1.11111111,   3.33333333,   5.55555556,\n",
       "         7.77777778,  10.        ])"
      ]
     },
     "execution_count": 21,
     "metadata": {},
     "output_type": "execute_result"
    }
   ],
   "source": [
    "y"
   ]
  },
  {
   "cell_type": "code",
   "execution_count": 22,
   "id": "7690ce1e",
   "metadata": {},
   "outputs": [
    {
     "data": {
      "text/plain": [
       "(10,)"
      ]
     },
     "execution_count": 22,
     "metadata": {},
     "output_type": "execute_result"
    }
   ],
   "source": [
    "y.shape"
   ]
  },
  {
   "cell_type": "code",
   "execution_count": 27,
   "id": "19349b70",
   "metadata": {},
   "outputs": [],
   "source": [
    "O = np.ones((3,8))"
   ]
  },
  {
   "cell_type": "code",
   "execution_count": 28,
   "id": "77a81934",
   "metadata": {},
   "outputs": [
    {
     "data": {
      "text/plain": [
       "array([[1., 1., 1., 1., 1., 1., 1., 1.],\n",
       "       [1., 1., 1., 1., 1., 1., 1., 1.],\n",
       "       [1., 1., 1., 1., 1., 1., 1., 1.]])"
      ]
     },
     "execution_count": 28,
     "metadata": {},
     "output_type": "execute_result"
    }
   ],
   "source": [
    "O"
   ]
  },
  {
   "cell_type": "code",
   "execution_count": 23,
   "id": "b1c22ad4",
   "metadata": {},
   "outputs": [],
   "source": [
    "I = np.eye(5)"
   ]
  },
  {
   "cell_type": "code",
   "execution_count": 24,
   "id": "75c48912",
   "metadata": {},
   "outputs": [
    {
     "data": {
      "text/plain": [
       "array([[1., 0., 0., 0., 0.],\n",
       "       [0., 1., 0., 0., 0.],\n",
       "       [0., 0., 1., 0., 0.],\n",
       "       [0., 0., 0., 1., 0.],\n",
       "       [0., 0., 0., 0., 1.]])"
      ]
     },
     "execution_count": 24,
     "metadata": {},
     "output_type": "execute_result"
    }
   ],
   "source": [
    "I"
   ]
  },
  {
   "cell_type": "markdown",
   "id": "6bc72edf",
   "metadata": {},
   "source": [
    "## Generating random arrays using builtin fns\n"
   ]
  },
  {
   "cell_type": "code",
   "execution_count": 38,
   "id": "1485e4a4",
   "metadata": {},
   "outputs": [],
   "source": [
    "r = np.random.rand(2,5,3) # picks a random no from 0 and 1 using a unif distr ; pass shape withut parenthesis"
   ]
  },
  {
   "cell_type": "code",
   "execution_count": 39,
   "id": "ea17a890",
   "metadata": {},
   "outputs": [
    {
     "data": {
      "text/plain": [
       "array([[[0.53849135, 0.30698984, 0.9182665 ],\n",
       "        [0.17417681, 0.07431932, 0.00843364],\n",
       "        [0.48746394, 0.07985389, 0.66325441],\n",
       "        [0.6363132 , 0.23047103, 0.91445459],\n",
       "        [0.21823908, 0.55364866, 0.18062725]],\n",
       "\n",
       "       [[0.12609864, 0.82108361, 0.73521132],\n",
       "        [0.83729259, 0.22608085, 0.87047036],\n",
       "        [0.21748675, 0.65328054, 0.34947202],\n",
       "        [0.02289124, 0.02540892, 0.75023654],\n",
       "        [0.38732757, 0.93188447, 0.40354551]]])"
      ]
     },
     "execution_count": 39,
     "metadata": {},
     "output_type": "execute_result"
    }
   ],
   "source": [
    "r"
   ]
  },
  {
   "cell_type": "code",
   "execution_count": 41,
   "id": "040cc884",
   "metadata": {},
   "outputs": [],
   "source": [
    "n = np.random.randn(2,3) # picks vals from a std normal distr"
   ]
  },
  {
   "cell_type": "code",
   "execution_count": 42,
   "id": "7e66dd74",
   "metadata": {},
   "outputs": [
    {
     "data": {
      "text/plain": [
       "array([[-0.46760878, -0.5956462 ,  1.1995445 ],\n",
       "       [ 1.04056617, -0.15286139, -1.34494871]])"
      ]
     },
     "execution_count": 42,
     "metadata": {},
     "output_type": "execute_result"
    }
   ],
   "source": [
    "n"
   ]
  },
  {
   "cell_type": "code",
   "execution_count": 47,
   "id": "7091c426",
   "metadata": {},
   "outputs": [],
   "source": [
    "i = np.random.randint(100,2000,(4,5))  # (4,5) is optional"
   ]
  },
  {
   "cell_type": "code",
   "execution_count": 48,
   "id": "f0903d38",
   "metadata": {},
   "outputs": [
    {
     "data": {
      "text/plain": [
       "array([[1378,  572,  861, 1841, 1028],\n",
       "       [ 672,  235, 1520, 1035, 1442],\n",
       "       [1710, 1807,  333,  387, 1910],\n",
       "       [1194,  462,  614,  486, 1154]])"
      ]
     },
     "execution_count": 48,
     "metadata": {},
     "output_type": "execute_result"
    }
   ],
   "source": [
    "i"
   ]
  },
  {
   "cell_type": "code",
   "execution_count": null,
   "id": "d65ea8df",
   "metadata": {},
   "outputs": [],
   "source": []
  }
 ],
 "metadata": {
  "kernelspec": {
   "display_name": "Python 3",
   "language": "python",
   "name": "python3"
  },
  "language_info": {
   "codemirror_mode": {
    "name": "ipython",
    "version": 3
   },
   "file_extension": ".py",
   "mimetype": "text/x-python",
   "name": "python",
   "nbconvert_exporter": "python",
   "pygments_lexer": "ipython3",
   "version": "3.8.11"
  }
 },
 "nbformat": 4,
 "nbformat_minor": 5
}
