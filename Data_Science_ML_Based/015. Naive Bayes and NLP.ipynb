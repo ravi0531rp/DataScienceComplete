{
 "cells": [
  {
   "cell_type": "code",
   "execution_count": 31,
   "id": "d4bde069",
   "metadata": {},
   "outputs": [],
   "source": [
    "import numpy as np\n",
    "import matplotlib.pyplot as plt\n",
    "import seaborn as sns\n",
    "import pandas as pd\n",
    "from sklearn.model_selection import train_test_split, GridSearchCV \n",
    "\n",
    "%matplotlib inline"
   ]
  },
  {
   "cell_type": "markdown",
   "id": "e5b681f4",
   "metadata": {},
   "source": [
    "## Bag of Words and Tf-idf\n",
    "In the above examples, each vector can be considered a *bag of words*. By itself these may not be helpful until we consider *term frequencies*, or how often individual words appear in documents. A simple way to calculate term frequencies is to divide the number of occurrences of a word by the total number of words in the document. In this way, the number of times a word appears in large documents can be compared to that of smaller documents.\n",
    "\n",
    "However, it may be hard to differentiate documents based on term frequency if a word shows up in a majority of documents. To handle this we also consider *inverse document frequency*, which is the total number of documents divided by the number of documents that contain the word. In practice we convert this value to a logarithmic scale, as described [here](https://en.wikipedia.org/wiki/Tf%E2%80%93idf#Inverse_document_frequency).\n",
    "\n",
    "Together these terms become [**tf-idf**](https://en.wikipedia.org/wiki/Tf%E2%80%93idf)."
   ]
  },
  {
   "cell_type": "markdown",
   "id": "5aef8d47",
   "metadata": {},
   "source": [
    "## Stop Words and Word Stems\n",
    "Some words like \"the\" and \"and\" appear so frequently, and in so many documents, that we needn't bother counting them. Also, it may make sense to only record the root of a word, say `cat` in place of both `cat` and `cats`. This will shrink our vocab array and improve performance."
   ]
  },
  {
   "cell_type": "markdown",
   "id": "02d37357",
   "metadata": {},
   "source": [
    "## Tokenization and Tagging\n",
    "When we created our vectors the first thing we did was split the incoming text on whitespace with `.split()`. This was a crude form of *tokenization* - that is, dividing a document into individual words. In this simple example we didn't worry about punctuation or different parts of speech. In the real world we rely on some fairly sophisticated *morphology* to parse text appropriately.\n",
    "\n",
    "Once the text is divided, we can go back and *tag* our tokens with information about parts of speech, grammatical dependencies, etc. This adds more dimensions to our data and enables a deeper understanding of the context of specific documents. For this reason, vectors become ***high dimensional sparse matrices***."
   ]
  },
  {
   "cell_type": "code",
   "execution_count": 9,
   "id": "4ec7a73e",
   "metadata": {},
   "outputs": [],
   "source": [
    "text = ['This is a line',\n",
    "           \"This is another line and has no connection with previous line\",\n",
    "       \"Completely different line\"]"
   ]
  },
  {
   "cell_type": "code",
   "execution_count": 16,
   "id": "6890fe00",
   "metadata": {},
   "outputs": [],
   "source": [
    "from sklearn.feature_extraction.text import TfidfTransformer,TfidfVectorizer,CountVectorizer\n",
    "cv = CountVectorizer(stop_words='english') # ignore the stop words!! \n",
    "cv.fit_transform(text)\n",
    "\n",
    "sparse_mat = cv.fit_transform(text)"
   ]
  },
  {
   "cell_type": "code",
   "execution_count": 17,
   "id": "8c49363d",
   "metadata": {},
   "outputs": [
    {
     "data": {
      "text/plain": [
       "<3x5 sparse matrix of type '<class 'numpy.int64'>'\n",
       "\twith 7 stored elements in Compressed Sparse Row format>"
      ]
     },
     "execution_count": 17,
     "metadata": {},
     "output_type": "execute_result"
    }
   ],
   "source": [
    "sparse_mat"
   ]
  },
  {
   "cell_type": "code",
   "execution_count": 18,
   "id": "ebc92b8f",
   "metadata": {},
   "outputs": [
    {
     "name": "stdout",
     "output_type": "stream",
     "text": [
      "  (0, 3)\t1\n",
      "  (1, 3)\t2\n",
      "  (1, 1)\t1\n",
      "  (1, 4)\t1\n",
      "  (2, 3)\t1\n",
      "  (2, 0)\t1\n",
      "  (2, 2)\t1\n"
     ]
    }
   ],
   "source": [
    "print(sparse_mat)"
   ]
  },
  {
   "cell_type": "code",
   "execution_count": 19,
   "id": "082aad9a",
   "metadata": {},
   "outputs": [
    {
     "data": {
      "text/plain": [
       "matrix([[0, 0, 0, 1, 0],\n",
       "        [0, 1, 0, 2, 1],\n",
       "        [1, 0, 1, 1, 0]], dtype=int64)"
      ]
     },
     "execution_count": 19,
     "metadata": {},
     "output_type": "execute_result"
    }
   ],
   "source": [
    "sparse_mat.todense() # Avoid for big Datasets"
   ]
  },
  {
   "cell_type": "code",
   "execution_count": 20,
   "id": "e1e2d0b0",
   "metadata": {},
   "outputs": [
    {
     "data": {
      "text/plain": [
       "{'line': 3, 'connection': 1, 'previous': 4, 'completely': 0, 'different': 2}"
      ]
     },
     "execution_count": 20,
     "metadata": {},
     "output_type": "execute_result"
    }
   ],
   "source": [
    "cv.vocabulary_"
   ]
  },
  {
   "cell_type": "code",
   "execution_count": 21,
   "id": "4409559f",
   "metadata": {},
   "outputs": [],
   "source": [
    "tfidf_transformer = TfidfTransformer()"
   ]
  },
  {
   "cell_type": "code",
   "execution_count": 22,
   "id": "484fecb1",
   "metadata": {},
   "outputs": [],
   "source": [
    "cv = CountVectorizer()\n",
    "counts = cv.fit_transform(text)"
   ]
  },
  {
   "cell_type": "code",
   "execution_count": 23,
   "id": "59a821d4",
   "metadata": {},
   "outputs": [
    {
     "data": {
      "text/plain": [
       "<3x12 sparse matrix of type '<class 'numpy.int64'>'\n",
       "\twith 16 stored elements in Compressed Sparse Row format>"
      ]
     },
     "execution_count": 23,
     "metadata": {},
     "output_type": "execute_result"
    }
   ],
   "source": [
    "counts"
   ]
  },
  {
   "cell_type": "code",
   "execution_count": 24,
   "id": "db9bdbba",
   "metadata": {},
   "outputs": [
    {
     "data": {
      "text/plain": [
       "matrix([[0, 0, 0, 0, 0, 0, 1, 1, 0, 0, 1, 0],\n",
       "        [1, 1, 0, 1, 0, 1, 1, 2, 1, 1, 1, 1],\n",
       "        [0, 0, 1, 0, 1, 0, 0, 1, 0, 0, 0, 0]], dtype=int64)"
      ]
     },
     "execution_count": 24,
     "metadata": {},
     "output_type": "execute_result"
    }
   ],
   "source": [
    "counts.todense()"
   ]
  },
  {
   "cell_type": "code",
   "execution_count": 25,
   "id": "bcf317d4",
   "metadata": {},
   "outputs": [],
   "source": [
    "tfidf = tfidf_transformer.fit_transform(counts)"
   ]
  },
  {
   "cell_type": "code",
   "execution_count": 26,
   "id": "734b48f6",
   "metadata": {},
   "outputs": [
    {
     "data": {
      "text/plain": [
       "matrix([[0.        , 0.        , 0.        , 0.        , 0.        ,\n",
       "         0.        , 0.61980538, 0.48133417, 0.        , 0.        ,\n",
       "         0.61980538, 0.        ],\n",
       "        [0.32355669, 0.32355669, 0.        , 0.32355669, 0.        ,\n",
       "         0.32355669, 0.2460732 , 0.38219558, 0.32355669, 0.32355669,\n",
       "         0.2460732 , 0.32355669],\n",
       "        [0.        , 0.        , 0.65249088, 0.        , 0.65249088,\n",
       "         0.        , 0.        , 0.38537163, 0.        , 0.        ,\n",
       "         0.        , 0.        ]])"
      ]
     },
     "execution_count": 26,
     "metadata": {},
     "output_type": "execute_result"
    }
   ],
   "source": [
    "tfidf.todense()"
   ]
  },
  {
   "cell_type": "code",
   "execution_count": 27,
   "id": "14ae2f50",
   "metadata": {},
   "outputs": [
    {
     "data": {
      "text/plain": [
       "<3x12 sparse matrix of type '<class 'numpy.float64'>'\n",
       "\twith 16 stored elements in Compressed Sparse Row format>"
      ]
     },
     "execution_count": 27,
     "metadata": {},
     "output_type": "execute_result"
    }
   ],
   "source": [
    "from sklearn.pipeline import Pipeline\n",
    "pipe = Pipeline([('cv',CountVectorizer()),('tfidf',TfidfTransformer())])\n",
    "results = pipe.fit_transform(text)\n",
    "results"
   ]
  },
  {
   "cell_type": "code",
   "execution_count": 28,
   "id": "ca555c37",
   "metadata": {},
   "outputs": [
    {
     "data": {
      "text/plain": [
       "matrix([[0.        , 0.        , 0.        , 0.        , 0.        ,\n",
       "         0.        , 0.61980538, 0.48133417, 0.        , 0.        ,\n",
       "         0.61980538, 0.        ],\n",
       "        [0.32355669, 0.32355669, 0.        , 0.32355669, 0.        ,\n",
       "         0.32355669, 0.2460732 , 0.38219558, 0.32355669, 0.32355669,\n",
       "         0.2460732 , 0.32355669],\n",
       "        [0.        , 0.        , 0.65249088, 0.        , 0.65249088,\n",
       "         0.        , 0.        , 0.38537163, 0.        , 0.        ,\n",
       "         0.        , 0.        ]])"
      ]
     },
     "execution_count": 28,
     "metadata": {},
     "output_type": "execute_result"
    }
   ],
   "source": [
    "results.todense()"
   ]
  },
  {
   "cell_type": "markdown",
   "id": "f38b2953",
   "metadata": {},
   "source": [
    "### Instead do all at once!"
   ]
  },
  {
   "cell_type": "code",
   "execution_count": 29,
   "id": "499b343d",
   "metadata": {},
   "outputs": [
    {
     "data": {
      "text/plain": [
       "matrix([[0.        , 0.        , 0.        , 0.        , 0.        ,\n",
       "         0.        , 0.61980538, 0.48133417, 0.        , 0.        ,\n",
       "         0.61980538, 0.        ],\n",
       "        [0.32355669, 0.32355669, 0.        , 0.32355669, 0.        ,\n",
       "         0.32355669, 0.2460732 , 0.38219558, 0.32355669, 0.32355669,\n",
       "         0.2460732 , 0.32355669],\n",
       "        [0.        , 0.        , 0.65249088, 0.        , 0.65249088,\n",
       "         0.        , 0.        , 0.38537163, 0.        , 0.        ,\n",
       "         0.        , 0.        ]])"
      ]
     },
     "execution_count": 29,
     "metadata": {},
     "output_type": "execute_result"
    }
   ],
   "source": [
    "tfidf = TfidfVectorizer()\n",
    "new = tfidf.fit_transform(text)\n",
    "new.todense()"
   ]
  },
  {
   "cell_type": "markdown",
   "id": "529a925e",
   "metadata": {},
   "source": [
    "# NLP with Naive Bayes"
   ]
  },
  {
   "cell_type": "markdown",
   "id": "10d6e81c",
   "metadata": {},
   "source": [
    "### The Data\n",
    "\n",
    "Source: https://www.kaggle.com/crowdflower/twitter-airline-sentiment?select=Tweets.csv\n",
    "\n",
    "This data originally came from Crowdflower's Data for Everyone library.\n",
    "\n",
    "As the original source says,\n",
    "\n",
    "A sentiment analysis job about the problems of each major U.S. airline. Twitter data was scraped from February of 2015 and contributors were asked to first classify positive, negative, and neutral tweets, followed by categorizing negative reasons (such as \"late flight\" or \"rude service\").\n",
    "\n",
    "#### The Goal: Create a Machine Learning Algorithm that can predict if a tweet is positive, neutral, or negative. In the future we could use such an algorithm to automatically read and flag tweets for an airline for a customer service agent to reach out to contact."
   ]
  },
  {
   "cell_type": "code",
   "execution_count": 32,
   "id": "6d56ee78",
   "metadata": {},
   "outputs": [],
   "source": [
    "df = pd.read_csv(\"DATA/airline_tweets.csv\")"
   ]
  },
  {
   "cell_type": "code",
   "execution_count": 33,
   "id": "c943833f",
   "metadata": {},
   "outputs": [
    {
     "data": {
      "text/html": [
       "<div>\n",
       "<style scoped>\n",
       "    .dataframe tbody tr th:only-of-type {\n",
       "        vertical-align: middle;\n",
       "    }\n",
       "\n",
       "    .dataframe tbody tr th {\n",
       "        vertical-align: top;\n",
       "    }\n",
       "\n",
       "    .dataframe thead th {\n",
       "        text-align: right;\n",
       "    }\n",
       "</style>\n",
       "<table border=\"1\" class=\"dataframe\">\n",
       "  <thead>\n",
       "    <tr style=\"text-align: right;\">\n",
       "      <th></th>\n",
       "      <th>tweet_id</th>\n",
       "      <th>airline_sentiment</th>\n",
       "      <th>airline_sentiment_confidence</th>\n",
       "      <th>negativereason</th>\n",
       "      <th>negativereason_confidence</th>\n",
       "      <th>airline</th>\n",
       "      <th>airline_sentiment_gold</th>\n",
       "      <th>name</th>\n",
       "      <th>negativereason_gold</th>\n",
       "      <th>retweet_count</th>\n",
       "      <th>text</th>\n",
       "      <th>tweet_coord</th>\n",
       "      <th>tweet_created</th>\n",
       "      <th>tweet_location</th>\n",
       "      <th>user_timezone</th>\n",
       "    </tr>\n",
       "  </thead>\n",
       "  <tbody>\n",
       "    <tr>\n",
       "      <th>0</th>\n",
       "      <td>570306133677760513</td>\n",
       "      <td>neutral</td>\n",
       "      <td>1.0000</td>\n",
       "      <td>NaN</td>\n",
       "      <td>NaN</td>\n",
       "      <td>Virgin America</td>\n",
       "      <td>NaN</td>\n",
       "      <td>cairdin</td>\n",
       "      <td>NaN</td>\n",
       "      <td>0</td>\n",
       "      <td>@VirginAmerica What @dhepburn said.</td>\n",
       "      <td>NaN</td>\n",
       "      <td>2015-02-24 11:35:52 -0800</td>\n",
       "      <td>NaN</td>\n",
       "      <td>Eastern Time (US &amp; Canada)</td>\n",
       "    </tr>\n",
       "    <tr>\n",
       "      <th>1</th>\n",
       "      <td>570301130888122368</td>\n",
       "      <td>positive</td>\n",
       "      <td>0.3486</td>\n",
       "      <td>NaN</td>\n",
       "      <td>0.0000</td>\n",
       "      <td>Virgin America</td>\n",
       "      <td>NaN</td>\n",
       "      <td>jnardino</td>\n",
       "      <td>NaN</td>\n",
       "      <td>0</td>\n",
       "      <td>@VirginAmerica plus you've added commercials t...</td>\n",
       "      <td>NaN</td>\n",
       "      <td>2015-02-24 11:15:59 -0800</td>\n",
       "      <td>NaN</td>\n",
       "      <td>Pacific Time (US &amp; Canada)</td>\n",
       "    </tr>\n",
       "    <tr>\n",
       "      <th>2</th>\n",
       "      <td>570301083672813571</td>\n",
       "      <td>neutral</td>\n",
       "      <td>0.6837</td>\n",
       "      <td>NaN</td>\n",
       "      <td>NaN</td>\n",
       "      <td>Virgin America</td>\n",
       "      <td>NaN</td>\n",
       "      <td>yvonnalynn</td>\n",
       "      <td>NaN</td>\n",
       "      <td>0</td>\n",
       "      <td>@VirginAmerica I didn't today... Must mean I n...</td>\n",
       "      <td>NaN</td>\n",
       "      <td>2015-02-24 11:15:48 -0800</td>\n",
       "      <td>Lets Play</td>\n",
       "      <td>Central Time (US &amp; Canada)</td>\n",
       "    </tr>\n",
       "    <tr>\n",
       "      <th>3</th>\n",
       "      <td>570301031407624196</td>\n",
       "      <td>negative</td>\n",
       "      <td>1.0000</td>\n",
       "      <td>Bad Flight</td>\n",
       "      <td>0.7033</td>\n",
       "      <td>Virgin America</td>\n",
       "      <td>NaN</td>\n",
       "      <td>jnardino</td>\n",
       "      <td>NaN</td>\n",
       "      <td>0</td>\n",
       "      <td>@VirginAmerica it's really aggressive to blast...</td>\n",
       "      <td>NaN</td>\n",
       "      <td>2015-02-24 11:15:36 -0800</td>\n",
       "      <td>NaN</td>\n",
       "      <td>Pacific Time (US &amp; Canada)</td>\n",
       "    </tr>\n",
       "    <tr>\n",
       "      <th>4</th>\n",
       "      <td>570300817074462722</td>\n",
       "      <td>negative</td>\n",
       "      <td>1.0000</td>\n",
       "      <td>Can't Tell</td>\n",
       "      <td>1.0000</td>\n",
       "      <td>Virgin America</td>\n",
       "      <td>NaN</td>\n",
       "      <td>jnardino</td>\n",
       "      <td>NaN</td>\n",
       "      <td>0</td>\n",
       "      <td>@VirginAmerica and it's a really big bad thing...</td>\n",
       "      <td>NaN</td>\n",
       "      <td>2015-02-24 11:14:45 -0800</td>\n",
       "      <td>NaN</td>\n",
       "      <td>Pacific Time (US &amp; Canada)</td>\n",
       "    </tr>\n",
       "  </tbody>\n",
       "</table>\n",
       "</div>"
      ],
      "text/plain": [
       "             tweet_id airline_sentiment  airline_sentiment_confidence  \\\n",
       "0  570306133677760513           neutral                        1.0000   \n",
       "1  570301130888122368          positive                        0.3486   \n",
       "2  570301083672813571           neutral                        0.6837   \n",
       "3  570301031407624196          negative                        1.0000   \n",
       "4  570300817074462722          negative                        1.0000   \n",
       "\n",
       "  negativereason  negativereason_confidence         airline  \\\n",
       "0            NaN                        NaN  Virgin America   \n",
       "1            NaN                     0.0000  Virgin America   \n",
       "2            NaN                        NaN  Virgin America   \n",
       "3     Bad Flight                     0.7033  Virgin America   \n",
       "4     Can't Tell                     1.0000  Virgin America   \n",
       "\n",
       "  airline_sentiment_gold        name negativereason_gold  retweet_count  \\\n",
       "0                    NaN     cairdin                 NaN              0   \n",
       "1                    NaN    jnardino                 NaN              0   \n",
       "2                    NaN  yvonnalynn                 NaN              0   \n",
       "3                    NaN    jnardino                 NaN              0   \n",
       "4                    NaN    jnardino                 NaN              0   \n",
       "\n",
       "                                                text tweet_coord  \\\n",
       "0                @VirginAmerica What @dhepburn said.         NaN   \n",
       "1  @VirginAmerica plus you've added commercials t...         NaN   \n",
       "2  @VirginAmerica I didn't today... Must mean I n...         NaN   \n",
       "3  @VirginAmerica it's really aggressive to blast...         NaN   \n",
       "4  @VirginAmerica and it's a really big bad thing...         NaN   \n",
       "\n",
       "               tweet_created tweet_location               user_timezone  \n",
       "0  2015-02-24 11:35:52 -0800            NaN  Eastern Time (US & Canada)  \n",
       "1  2015-02-24 11:15:59 -0800            NaN  Pacific Time (US & Canada)  \n",
       "2  2015-02-24 11:15:48 -0800      Lets Play  Central Time (US & Canada)  \n",
       "3  2015-02-24 11:15:36 -0800            NaN  Pacific Time (US & Canada)  \n",
       "4  2015-02-24 11:14:45 -0800            NaN  Pacific Time (US & Canada)  "
      ]
     },
     "execution_count": 33,
     "metadata": {},
     "output_type": "execute_result"
    }
   ],
   "source": [
    "df.head()"
   ]
  },
  {
   "cell_type": "code",
   "execution_count": 34,
   "id": "fba07320",
   "metadata": {},
   "outputs": [
    {
     "data": {
      "text/plain": [
       "Index(['tweet_id', 'airline_sentiment', 'airline_sentiment_confidence',\n",
       "       'negativereason', 'negativereason_confidence', 'airline',\n",
       "       'airline_sentiment_gold', 'name', 'negativereason_gold',\n",
       "       'retweet_count', 'text', 'tweet_coord', 'tweet_created',\n",
       "       'tweet_location', 'user_timezone'],\n",
       "      dtype='object')"
      ]
     },
     "execution_count": 34,
     "metadata": {},
     "output_type": "execute_result"
    }
   ],
   "source": [
    "df.columns"
   ]
  },
  {
   "cell_type": "code",
   "execution_count": 35,
   "id": "c798ccb5",
   "metadata": {},
   "outputs": [
    {
     "data": {
      "text/plain": [
       "tweet_id                            0\n",
       "airline_sentiment                   0\n",
       "airline_sentiment_confidence        0\n",
       "negativereason                   5462\n",
       "negativereason_confidence        4118\n",
       "airline                             0\n",
       "airline_sentiment_gold          14600\n",
       "name                                0\n",
       "negativereason_gold             14608\n",
       "retweet_count                       0\n",
       "text                                0\n",
       "tweet_coord                     13621\n",
       "tweet_created                       0\n",
       "tweet_location                   4733\n",
       "user_timezone                    4820\n",
       "dtype: int64"
      ]
     },
     "execution_count": 35,
     "metadata": {},
     "output_type": "execute_result"
    }
   ],
   "source": [
    "df.isna().sum()"
   ]
  },
  {
   "cell_type": "code",
   "execution_count": 36,
   "id": "5544d15a",
   "metadata": {},
   "outputs": [
    {
     "data": {
      "text/plain": [
       "<AxesSubplot:xlabel='airline_sentiment', ylabel='count'>"
      ]
     },
     "execution_count": 36,
     "metadata": {},
     "output_type": "execute_result"
    },
    {
     "data": {
      "image/png": "[encoded data removed]",
      "text/plain": [
       "<Figure size 432x288 with 1 Axes>"
      ]
     },
     "metadata": {
      "needs_background": "light"
     },
     "output_type": "display_data"
    }
   ],
   "source": [
    "sns.countplot(data=df , x = 'airline_sentiment' )"
   ]
  },
  {
   "cell_type": "code",
   "execution_count": 41,
   "id": "384aa294",
   "metadata": {},
   "outputs": [
    {
     "data": {
      "text/plain": [
       "<AxesSubplot:xlabel='airline', ylabel='count'>"
      ]
     },
     "execution_count": 41,
     "metadata": {},
     "output_type": "execute_result"
    },
    {
     "data": {
      "image/png": "[encoded data removed]",
      "text/plain": [
       "<Figure size 2400x800 with 1 Axes>"
      ]
     },
     "metadata": {
      "needs_background": "light"
     },
     "output_type": "display_data"
    }
   ],
   "source": [
    "plt.figure(figsize=(12,4) , dpi=200)\n",
    "sns.countplot(data=df,x='airline',hue='airline_sentiment')"
   ]
  },
  {
   "cell_type": "code",
   "execution_count": 40,
   "id": "7f9ff762",
   "metadata": {},
   "outputs": [
    {
     "data": {
      "text/plain": [
       "<AxesSubplot:xlabel='airline_sentiment', ylabel='count'>"
      ]
     },
     "execution_count": 40,
     "metadata": {},
     "output_type": "execute_result"
    },
    {
     "data": {
      "image/png": "[encoded data removed]",
      "text/plain": [
       "<Figure size 2400x800 with 1 Axes>"
      ]
     },
     "metadata": {
      "needs_background": "light"
     },
     "output_type": "display_data"
    }
   ],
   "source": [
    "plt.figure(figsize=(12,4) , dpi=200)\n",
    "sns.countplot(data=df,x='airline_sentiment',hue='airline') # "
   ]
  },
  {
   "cell_type": "code",
   "execution_count": 43,
   "id": "dc3ef6a5",
   "metadata": {},
   "outputs": [
    {
     "data": {
      "image/png": "[encoded data removed]",
      "text/plain": [
       "<Figure size 2400x800 with 1 Axes>"
      ]
     },
     "metadata": {
      "needs_background": "light"
     },
     "output_type": "display_data"
    }
   ],
   "source": [
    "plt.figure(figsize=(12,4) , dpi=200)\n",
    "sns.countplot(data=df,x='negativereason')\n",
    "plt.xticks(rotation=90);"
   ]
  },
  {
   "cell_type": "code",
   "execution_count": 44,
   "id": "0e3e0363",
   "metadata": {},
   "outputs": [],
   "source": [
    "data = df[['airline_sentiment','text']]"
   ]
  },
  {
   "cell_type": "code",
   "execution_count": 45,
   "id": "16692f8e",
   "metadata": {},
   "outputs": [
    {
     "data": {
      "text/html": [
       "<div>\n",
       "<style scoped>\n",
       "    .dataframe tbody tr th:only-of-type {\n",
       "        vertical-align: middle;\n",
       "    }\n",
       "\n",
       "    .dataframe tbody tr th {\n",
       "        vertical-align: top;\n",
       "    }\n",
       "\n",
       "    .dataframe thead th {\n",
       "        text-align: right;\n",
       "    }\n",
       "</style>\n",
       "<table border=\"1\" class=\"dataframe\">\n",
       "  <thead>\n",
       "    <tr style=\"text-align: right;\">\n",
       "      <th></th>\n",
       "      <th>airline_sentiment</th>\n",
       "      <th>text</th>\n",
       "    </tr>\n",
       "  </thead>\n",
       "  <tbody>\n",
       "    <tr>\n",
       "      <th>0</th>\n",
       "      <td>neutral</td>\n",
       "      <td>@VirginAmerica What @dhepburn said.</td>\n",
       "    </tr>\n",
       "    <tr>\n",
       "      <th>1</th>\n",
       "      <td>positive</td>\n",
       "      <td>@VirginAmerica plus you've added commercials t...</td>\n",
       "    </tr>\n",
       "    <tr>\n",
       "      <th>2</th>\n",
       "      <td>neutral</td>\n",
       "      <td>@VirginAmerica I didn't today... Must mean I n...</td>\n",
       "    </tr>\n",
       "    <tr>\n",
       "      <th>3</th>\n",
       "      <td>negative</td>\n",
       "      <td>@VirginAmerica it's really aggressive to blast...</td>\n",
       "    </tr>\n",
       "    <tr>\n",
       "      <th>4</th>\n",
       "      <td>negative</td>\n",
       "      <td>@VirginAmerica and it's a really big bad thing...</td>\n",
       "    </tr>\n",
       "  </tbody>\n",
       "</table>\n",
       "</div>"
      ],
      "text/plain": [
       "  airline_sentiment                                               text\n",
       "0           neutral                @VirginAmerica What @dhepburn said.\n",
       "1          positive  @VirginAmerica plus you've added commercials t...\n",
       "2           neutral  @VirginAmerica I didn't today... Must mean I n...\n",
       "3          negative  @VirginAmerica it's really aggressive to blast...\n",
       "4          negative  @VirginAmerica and it's a really big bad thing..."
      ]
     },
     "execution_count": 45,
     "metadata": {},
     "output_type": "execute_result"
    }
   ],
   "source": [
    "data.head()"
   ]
  },
  {
   "cell_type": "code",
   "execution_count": 46,
   "id": "23d1e7d8",
   "metadata": {},
   "outputs": [
    {
     "data": {
      "text/plain": [
       "airline_sentiment    0\n",
       "text                 0\n",
       "dtype: int64"
      ]
     },
     "execution_count": 46,
     "metadata": {},
     "output_type": "execute_result"
    }
   ],
   "source": [
    "data.isna().sum()"
   ]
  },
  {
   "cell_type": "code",
   "execution_count": 47,
   "id": "2e581e95",
   "metadata": {},
   "outputs": [],
   "source": [
    "def remove_tagged(text):\n",
    "    text = \" \".join([s for s in text.split() if \"@\" not in s])\n",
    "    return text"
   ]
  },
  {
   "cell_type": "code",
   "execution_count": 49,
   "id": "062256db",
   "metadata": {},
   "outputs": [
    {
     "data": {
      "text/plain": [
       "\"plus you've added commercials. I will complain to Usa\""
      ]
     },
     "execution_count": 49,
     "metadata": {},
     "output_type": "execute_result"
    }
   ],
   "source": [
    "remove_tagged(\"@VirginAmerica plus you've added commercials. I will complain to @DGM Usa\")"
   ]
  },
  {
   "cell_type": "code",
   "execution_count": 52,
   "id": "e1329786",
   "metadata": {},
   "outputs": [
    {
     "name": "stderr",
     "output_type": "stream",
     "text": [
      "<ipython-input-52-3f8a24154989>:1: SettingWithCopyWarning: \n",
      "A value is trying to be set on a copy of a slice from a DataFrame.\n",
      "Try using .loc[row_indexer,col_indexer] = value instead\n",
      "\n",
      "See the caveats in the documentation: https://pandas.pydata.org/pandas-docs/stable/user_guide/indexing.html#returning-a-view-versus-a-copy\n",
      "  data['text'] = data['text'].apply(remove_tagged)\n"
     ]
    }
   ],
   "source": [
    "data['text'] = data['text'].apply(remove_tagged)"
   ]
  },
  {
   "cell_type": "code",
   "execution_count": 53,
   "id": "f685c412",
   "metadata": {},
   "outputs": [
    {
     "data": {
      "text/html": [
       "<div>\n",
       "<style scoped>\n",
       "    .dataframe tbody tr th:only-of-type {\n",
       "        vertical-align: middle;\n",
       "    }\n",
       "\n",
       "    .dataframe tbody tr th {\n",
       "        vertical-align: top;\n",
       "    }\n",
       "\n",
       "    .dataframe thead th {\n",
       "        text-align: right;\n",
       "    }\n",
       "</style>\n",
       "<table border=\"1\" class=\"dataframe\">\n",
       "  <thead>\n",
       "    <tr style=\"text-align: right;\">\n",
       "      <th></th>\n",
       "      <th>airline_sentiment</th>\n",
       "      <th>text</th>\n",
       "    </tr>\n",
       "  </thead>\n",
       "  <tbody>\n",
       "    <tr>\n",
       "      <th>0</th>\n",
       "      <td>neutral</td>\n",
       "      <td>What said.</td>\n",
       "    </tr>\n",
       "    <tr>\n",
       "      <th>1</th>\n",
       "      <td>positive</td>\n",
       "      <td>plus you've added commercials to the experienc...</td>\n",
       "    </tr>\n",
       "    <tr>\n",
       "      <th>2</th>\n",
       "      <td>neutral</td>\n",
       "      <td>I didn't today... Must mean I need to take ano...</td>\n",
       "    </tr>\n",
       "    <tr>\n",
       "      <th>3</th>\n",
       "      <td>negative</td>\n",
       "      <td>it's really aggressive to blast obnoxious \"ent...</td>\n",
       "    </tr>\n",
       "    <tr>\n",
       "      <th>4</th>\n",
       "      <td>negative</td>\n",
       "      <td>and it's a really big bad thing about it</td>\n",
       "    </tr>\n",
       "  </tbody>\n",
       "</table>\n",
       "</div>"
      ],
      "text/plain": [
       "  airline_sentiment                                               text\n",
       "0           neutral                                         What said.\n",
       "1          positive  plus you've added commercials to the experienc...\n",
       "2           neutral  I didn't today... Must mean I need to take ano...\n",
       "3          negative  it's really aggressive to blast obnoxious \"ent...\n",
       "4          negative           and it's a really big bad thing about it"
      ]
     },
     "execution_count": 53,
     "metadata": {},
     "output_type": "execute_result"
    }
   ],
   "source": [
    "data.head()"
   ]
  },
  {
   "cell_type": "code",
   "execution_count": 55,
   "id": "6d2731ed",
   "metadata": {},
   "outputs": [],
   "source": [
    "y = data['airline_sentiment']\n",
    "X = data['text']"
   ]
  },
  {
   "cell_type": "code",
   "execution_count": 56,
   "id": "c9fc79a5",
   "metadata": {},
   "outputs": [],
   "source": [
    "from sklearn.model_selection import train_test_split\n",
    "from sklearn.feature_extraction.text import TfidfVectorizer\n",
    "\n",
    "X_train, X_test, y_train, y_test = train_test_split(X, y, test_size=0.2, random_state=101)\n",
    "\n",
    "tfidf = TfidfVectorizer(stop_words='english')\n",
    "tfidf.fit(X_train)\n",
    "\n",
    "X_train_tfidf = tfidf.transform(X_train)\n",
    "X_test_tfidf = tfidf.transform(X_test)\n"
   ]
  },
  {
   "cell_type": "code",
   "execution_count": 57,
   "id": "1824b699",
   "metadata": {},
   "outputs": [
    {
     "data": {
      "text/plain": [
       "<2928x12254 sparse matrix of type '<class 'numpy.float64'>'\n",
       "\twith 21872 stored elements in Compressed Sparse Row format>"
      ]
     },
     "execution_count": 57,
     "metadata": {},
     "output_type": "execute_result"
    }
   ],
   "source": [
    "X_test_tfidf"
   ]
  },
  {
   "cell_type": "code",
   "execution_count": 58,
   "id": "e9436118",
   "metadata": {},
   "outputs": [
    {
     "data": {
      "text/plain": [
       "MultinomialNB()"
      ]
     },
     "execution_count": 58,
     "metadata": {},
     "output_type": "execute_result"
    }
   ],
   "source": [
    "from sklearn.naive_bayes import MultinomialNB\n",
    "nb = MultinomialNB()\n",
    "nb.fit(X_train_tfidf,y_train)"
   ]
  },
  {
   "cell_type": "code",
   "execution_count": 59,
   "id": "f9a7c467",
   "metadata": {},
   "outputs": [
    {
     "data": {
      "text/plain": [
       "LogisticRegression(max_iter=1000)"
      ]
     },
     "execution_count": 59,
     "metadata": {},
     "output_type": "execute_result"
    }
   ],
   "source": [
    "from sklearn.linear_model import LogisticRegression\n",
    "log = LogisticRegression(max_iter=1000)\n",
    "log.fit(X_train_tfidf,y_train)"
   ]
  },
  {
   "cell_type": "code",
   "execution_count": 60,
   "id": "3e3adf2b",
   "metadata": {},
   "outputs": [
    {
     "data": {
      "text/plain": [
       "LinearSVC()"
      ]
     },
     "execution_count": 60,
     "metadata": {},
     "output_type": "execute_result"
    }
   ],
   "source": [
    "from sklearn.svm import LinearSVC\n",
    "svc = LinearSVC()\n",
    "svc.fit(X_train_tfidf,y_train)"
   ]
  },
  {
   "cell_type": "code",
   "execution_count": 61,
   "id": "8e48a338",
   "metadata": {},
   "outputs": [],
   "source": [
    "from sklearn.metrics import plot_confusion_matrix,classification_report\n",
    "def report(model):\n",
    "    preds = model.predict(X_test_tfidf)\n",
    "    print(classification_report(y_test,preds))\n",
    "    plot_confusion_matrix(model,X_test_tfidf,y_test)"
   ]
  },
  {
   "cell_type": "code",
   "execution_count": 62,
   "id": "bd3db1fb",
   "metadata": {},
   "outputs": [
    {
     "name": "stdout",
     "output_type": "stream",
     "text": [
      "NB MODEL\n",
      "              precision    recall  f1-score   support\n",
      "\n",
      "    negative       0.67      0.99      0.80      1817\n",
      "     neutral       0.79      0.16      0.26       628\n",
      "    positive       0.87      0.18      0.30       483\n",
      "\n",
      "    accuracy                           0.68      2928\n",
      "   macro avg       0.78      0.44      0.45      2928\n",
      "weighted avg       0.73      0.68      0.60      2928\n",
      "\n"
     ]
    },
    {
     "data": {
      "image/png": "[encoded data removed]",
      "text/plain": [
       "<Figure size 432x288 with 2 Axes>"
      ]
     },
     "metadata": {
      "needs_background": "light"
     },
     "output_type": "display_data"
    }
   ],
   "source": [
    "print(\"NB MODEL\")\n",
    "report(nb)"
   ]
  },
  {
   "cell_type": "code",
   "execution_count": 63,
   "id": "6f7c6d00",
   "metadata": {},
   "outputs": [
    {
     "name": "stdout",
     "output_type": "stream",
     "text": [
      "Logistic Regression\n",
      "              precision    recall  f1-score   support\n",
      "\n",
      "    negative       0.79      0.94      0.85      1817\n",
      "     neutral       0.64      0.44      0.52       628\n",
      "    positive       0.81      0.55      0.66       483\n",
      "\n",
      "    accuracy                           0.77      2928\n",
      "   macro avg       0.74      0.64      0.68      2928\n",
      "weighted avg       0.76      0.77      0.75      2928\n",
      "\n"
     ]
    },
    {
     "data": {
      "image/png": "[encoded data removed]",
      "text/plain": [
       "<Figure size 432x288 with 2 Axes>"
      ]
     },
     "metadata": {
      "needs_background": "light"
     },
     "output_type": "display_data"
    }
   ],
   "source": [
    "print(\"Logistic Regression\")\n",
    "report(log)"
   ]
  },
  {
   "cell_type": "code",
   "execution_count": 64,
   "id": "6ac2fec6",
   "metadata": {},
   "outputs": [
    {
     "name": "stdout",
     "output_type": "stream",
     "text": [
      "SVC\n",
      "              precision    recall  f1-score   support\n",
      "\n",
      "    negative       0.82      0.90      0.86      1817\n",
      "     neutral       0.60      0.52      0.56       628\n",
      "    positive       0.75      0.62      0.68       483\n",
      "\n",
      "    accuracy                           0.77      2928\n",
      "   macro avg       0.72      0.68      0.70      2928\n",
      "weighted avg       0.76      0.77      0.76      2928\n",
      "\n"
     ]
    },
    {
     "data": {
      "image/png": "[encoded data removed]",
      "text/plain": [
       "<Figure size 432x288 with 2 Axes>"
      ]
     },
     "metadata": {
      "needs_background": "light"
     },
     "output_type": "display_data"
    }
   ],
   "source": [
    "print('SVC')\n",
    "report(svc)"
   ]
  },
  {
   "cell_type": "code",
   "execution_count": 65,
   "id": "161100ea",
   "metadata": {},
   "outputs": [
    {
     "data": {
      "text/plain": [
       "Pipeline(steps=[('tfidf', TfidfVectorizer()), ('svc', LinearSVC())])"
      ]
     },
     "execution_count": 65,
     "metadata": {},
     "output_type": "execute_result"
    }
   ],
   "source": [
    "from sklearn.pipeline import Pipeline\n",
    "pipe = Pipeline([('tfidf',TfidfVectorizer()),('svc',LinearSVC())])\n",
    "pipe.fit(df['text'],df['airline_sentiment'])"
   ]
  },
  {
   "cell_type": "code",
   "execution_count": 66,
   "id": "f6ffbdef",
   "metadata": {},
   "outputs": [
    {
     "data": {
      "text/plain": [
       "array(['positive'], dtype=object)"
      ]
     },
     "execution_count": 66,
     "metadata": {},
     "output_type": "execute_result"
    }
   ],
   "source": [
    "pipe.predict( ['good flight'])"
   ]
  },
  {
   "cell_type": "code",
   "execution_count": 67,
   "id": "80c514c0",
   "metadata": {},
   "outputs": [
    {
     "data": {
      "text/plain": [
       "array(['negative'], dtype=object)"
      ]
     },
     "execution_count": 67,
     "metadata": {},
     "output_type": "execute_result"
    }
   ],
   "source": [
    "pipe.predict( ['It was a terrible flight. I though things would get better!'])"
   ]
  },
  {
   "cell_type": "code",
   "execution_count": 69,
   "id": "1316b64a",
   "metadata": {},
   "outputs": [
    {
     "data": {
      "text/plain": [
       "array(['negative'], dtype=object)"
      ]
     },
     "execution_count": 69,
     "metadata": {},
     "output_type": "execute_result"
    }
   ],
   "source": [
    "pipe.predict( ['Things could have been way better'])"
   ]
  },
  {
   "cell_type": "code",
   "execution_count": 70,
   "id": "49dc8b10",
   "metadata": {},
   "outputs": [
    {
     "data": {
      "text/plain": [
       "array(['negative'], dtype=object)"
      ]
     },
     "execution_count": 70,
     "metadata": {},
     "output_type": "execute_result"
    }
   ],
   "source": [
    "pipe.predict( ['The behaviour could have been nice'])"
   ]
  },
  {
   "cell_type": "code",
   "execution_count": 71,
   "id": "00cfe789",
   "metadata": {},
   "outputs": [
    {
     "data": {
      "text/plain": [
       "array(['positive'], dtype=object)"
      ]
     },
     "execution_count": 71,
     "metadata": {},
     "output_type": "execute_result"
    }
   ],
   "source": [
    "pipe.predict( ['The behaviour was nice'])"
   ]
  },
  {
   "cell_type": "markdown",
   "id": "6323d493",
   "metadata": {},
   "source": [
    "## Using the same data with Tensorflow Models"
   ]
  },
  {
   "cell_type": "code",
   "execution_count": 72,
   "id": "b74abc4e",
   "metadata": {},
   "outputs": [],
   "source": [
    "import tensorflow as tf\n",
    "\n",
    "from tensorflow.keras.preprocessing.sequence import pad_sequences\n",
    "from tensorflow.keras.layers import Embedding, LSTM, Dense, Bidirectional\n",
    "from tensorflow.keras.preprocessing.text import Tokenizer\n",
    "from tensorflow.keras.models import Sequential\n",
    "from tensorflow.keras.optimizers import Adam\n",
    "import numpy as np"
   ]
  },
  {
   "cell_type": "code",
   "execution_count": 73,
   "id": "067671bc",
   "metadata": {},
   "outputs": [
    {
     "data": {
      "text/html": [
       "<div>\n",
       "<style scoped>\n",
       "    .dataframe tbody tr th:only-of-type {\n",
       "        vertical-align: middle;\n",
       "    }\n",
       "\n",
       "    .dataframe tbody tr th {\n",
       "        vertical-align: top;\n",
       "    }\n",
       "\n",
       "    .dataframe thead th {\n",
       "        text-align: right;\n",
       "    }\n",
       "</style>\n",
       "<table border=\"1\" class=\"dataframe\">\n",
       "  <thead>\n",
       "    <tr style=\"text-align: right;\">\n",
       "      <th></th>\n",
       "      <th>airline_sentiment</th>\n",
       "      <th>text</th>\n",
       "    </tr>\n",
       "  </thead>\n",
       "  <tbody>\n",
       "    <tr>\n",
       "      <th>0</th>\n",
       "      <td>neutral</td>\n",
       "      <td>What said.</td>\n",
       "    </tr>\n",
       "    <tr>\n",
       "      <th>1</th>\n",
       "      <td>positive</td>\n",
       "      <td>plus you've added commercials to the experienc...</td>\n",
       "    </tr>\n",
       "    <tr>\n",
       "      <th>2</th>\n",
       "      <td>neutral</td>\n",
       "      <td>I didn't today... Must mean I need to take ano...</td>\n",
       "    </tr>\n",
       "    <tr>\n",
       "      <th>3</th>\n",
       "      <td>negative</td>\n",
       "      <td>it's really aggressive to blast obnoxious \"ent...</td>\n",
       "    </tr>\n",
       "    <tr>\n",
       "      <th>4</th>\n",
       "      <td>negative</td>\n",
       "      <td>and it's a really big bad thing about it</td>\n",
       "    </tr>\n",
       "  </tbody>\n",
       "</table>\n",
       "</div>"
      ],
      "text/plain": [
       "  airline_sentiment                                               text\n",
       "0           neutral                                         What said.\n",
       "1          positive  plus you've added commercials to the experienc...\n",
       "2           neutral  I didn't today... Must mean I need to take ano...\n",
       "3          negative  it's really aggressive to blast obnoxious \"ent...\n",
       "4          negative           and it's a really big bad thing about it"
      ]
     },
     "execution_count": 73,
     "metadata": {},
     "output_type": "execute_result"
    }
   ],
   "source": [
    "data.head()"
   ]
  },
  {
   "cell_type": "code",
   "execution_count": 74,
   "id": "3785508b",
   "metadata": {},
   "outputs": [
    {
     "data": {
      "text/plain": [
       "negative    9178\n",
       "neutral     3099\n",
       "positive    2363\n",
       "Name: airline_sentiment, dtype: int64"
      ]
     },
     "execution_count": 74,
     "metadata": {},
     "output_type": "execute_result"
    }
   ],
   "source": [
    "data['airline_sentiment'].value_counts() # "
   ]
  },
  {
   "cell_type": "markdown",
   "id": "a5dbf901",
   "metadata": {},
   "source": [
    "### heavy imbalance ; we'll deal with that later\n",
    "* We can either club the Neutral and Positive together as our priority is getting the negative ones\n",
    "* Or we can augment more data\n"
   ]
  },
  {
   "cell_type": "code",
   "execution_count": 75,
   "id": "75f84af3",
   "metadata": {},
   "outputs": [],
   "source": [
    "sentences = data['text'].values"
   ]
  },
  {
   "cell_type": "code",
   "execution_count": 76,
   "id": "74decce0",
   "metadata": {},
   "outputs": [
    {
     "data": {
      "text/plain": [
       "(14640,)"
      ]
     },
     "execution_count": 76,
     "metadata": {},
     "output_type": "execute_result"
    }
   ],
   "source": [
    "sentences.shape"
   ]
  },
  {
   "cell_type": "code",
   "execution_count": 80,
   "id": "1a432a56",
   "metadata": {},
   "outputs": [
    {
     "data": {
      "text/plain": [
       "'it\\'s really aggressive to blast obnoxious \"entertainment\" in your guests\\' faces &amp; they have little recourse'"
      ]
     },
     "execution_count": 80,
     "metadata": {},
     "output_type": "execute_result"
    }
   ],
   "source": [
    "sentences[3]"
   ]
  },
  {
   "cell_type": "code",
   "execution_count": 81,
   "id": "9606145f",
   "metadata": {},
   "outputs": [],
   "source": [
    "tokenizer = Tokenizer()\n",
    "\n",
    "tokenizer.fit_on_texts(sentences)"
   ]
  },
  {
   "cell_type": "code",
   "execution_count": 83,
   "id": "673f50cf",
   "metadata": {},
   "outputs": [],
   "source": [
    "word_index = tokenizer.word_index"
   ]
  },
  {
   "cell_type": "code",
   "execution_count": 84,
   "id": "6b5b47b7",
   "metadata": {},
   "outputs": [
    {
     "data": {
      "text/plain": [
       "{'to': 1,\n",
       " 'the': 2,\n",
       " 'i': 3,\n",
       " 'a': 4,\n",
       " 'you': 5,\n",
       " 'for': 6,\n",
       " 'flight': 7,\n",
       " 'on': 8,\n",
       " 'and': 9,\n",
       " 'my': 10,\n",
       " 'is': 11,\n",
       " 'in': 12,\n",
       " 'of': 13,\n",
       " 'me': 14,\n",
       " 'it': 15,\n",
       " 'your': 16,\n",
       " 'have': 17,\n",
       " 'was': 18,\n",
       " 'not': 19,\n",
       " 'with': 20,\n",
       " 'no': 21,\n",
       " 'that': 22,\n",
       " 'at': 23,\n",
       " 'this': 24,\n",
       " 'get': 25,\n",
       " 'but': 26,\n",
       " 't': 27,\n",
       " 'co': 28,\n",
       " 'be': 29,\n",
       " 'from': 30,\n",
       " 'http': 31,\n",
       " 'can': 32,\n",
       " 'are': 33,\n",
       " 'thanks': 34,\n",
       " 'cancelled': 35,\n",
       " 'we': 36,\n",
       " 'now': 37,\n",
       " 'an': 38,\n",
       " 'just': 39,\n",
       " 'service': 40,\n",
       " 'do': 41,\n",
       " 'so': 42,\n",
       " '2': 43,\n",
       " 'help': 44,\n",
       " 'been': 45,\n",
       " 'time': 46,\n",
       " 'will': 47,\n",
       " 'customer': 48,\n",
       " 'up': 49,\n",
       " 'out': 50,\n",
       " 'our': 51,\n",
       " 'they': 52,\n",
       " \"i'm\": 53,\n",
       " 'amp': 54,\n",
       " 'hours': 55,\n",
       " 'us': 56,\n",
       " 'what': 57,\n",
       " 'when': 58,\n",
       " 'flights': 59,\n",
       " 'how': 60,\n",
       " 'hold': 61,\n",
       " 'plane': 62,\n",
       " 'if': 63,\n",
       " 'all': 64,\n",
       " 'why': 65,\n",
       " 'thank': 66,\n",
       " 'still': 67,\n",
       " 'there': 68,\n",
       " 'one': 69,\n",
       " 'please': 70,\n",
       " 'need': 71,\n",
       " 'would': 72,\n",
       " 'delayed': 73,\n",
       " \"can't\": 74,\n",
       " 'back': 75,\n",
       " 'gate': 76,\n",
       " 'call': 77,\n",
       " 'about': 78,\n",
       " 'had': 79,\n",
       " 'flightled': 80,\n",
       " 'or': 81,\n",
       " 'bag': 82,\n",
       " \"it's\": 83,\n",
       " 'as': 84,\n",
       " 'hour': 85,\n",
       " 'has': 86,\n",
       " 'after': 87,\n",
       " 'got': 88,\n",
       " \"don't\": 89,\n",
       " 'am': 90,\n",
       " 'any': 91,\n",
       " 'phone': 92,\n",
       " 'like': 93,\n",
       " 'late': 94,\n",
       " '3': 95,\n",
       " 'today': 96,\n",
       " 'over': 97,\n",
       " 'airline': 98,\n",
       " 'more': 99,\n",
       " 'again': 100,\n",
       " 'by': 101,\n",
       " 'fly': 102,\n",
       " 'guys': 103,\n",
       " 'waiting': 104,\n",
       " 'know': 105,\n",
       " 'way': 106,\n",
       " '4': 107,\n",
       " '1': 108,\n",
       " 'trying': 109,\n",
       " 'airport': 110,\n",
       " 'u': 111,\n",
       " 'only': 112,\n",
       " 'great': 113,\n",
       " 'then': 114,\n",
       " 'day': 115,\n",
       " 'did': 116,\n",
       " 'going': 117,\n",
       " 'wait': 118,\n",
       " 'never': 119,\n",
       " 'should': 120,\n",
       " 'because': 121,\n",
       " \"i've\": 122,\n",
       " 'change': 123,\n",
       " 'flying': 124,\n",
       " 'make': 125,\n",
       " 'weather': 126,\n",
       " 'go': 127,\n",
       " 'last': 128,\n",
       " 'tomorrow': 129,\n",
       " 'really': 130,\n",
       " 'delay': 131,\n",
       " 'check': 132,\n",
       " 'good': 133,\n",
       " '5': 134,\n",
       " 'even': 135,\n",
       " 'home': 136,\n",
       " 'off': 137,\n",
       " 'minutes': 138,\n",
       " 'people': 139,\n",
       " 'here': 140,\n",
       " 'seat': 141,\n",
       " 'were': 142,\n",
       " 'bags': 143,\n",
       " 'another': 144,\n",
       " 'new': 145,\n",
       " 'told': 146,\n",
       " 'first': 147,\n",
       " 'want': 148,\n",
       " 'take': 149,\n",
       " 'very': 150,\n",
       " 'agent': 151,\n",
       " 'united': 152,\n",
       " 'w': 153,\n",
       " 'see': 154,\n",
       " 'luggage': 155,\n",
       " 'ticket': 156,\n",
       " 'them': 157,\n",
       " 'dm': 158,\n",
       " 'could': 159,\n",
       " 'than': 160,\n",
       " 'ever': 161,\n",
       " 'love': 162,\n",
       " 'getting': 163,\n",
       " 'number': 164,\n",
       " 'lost': 165,\n",
       " 'yes': 166,\n",
       " 'due': 167,\n",
       " 'travel': 168,\n",
       " 'worst': 169,\n",
       " 'too': 170,\n",
       " 'someone': 171,\n",
       " 'work': 172,\n",
       " 'email': 173,\n",
       " 'next': 174,\n",
       " 'much': 175,\n",
       " 'crew': 176,\n",
       " 'flighted': 177,\n",
       " 'baggage': 178,\n",
       " 'hrs': 179,\n",
       " 'days': 180,\n",
       " \"that's\": 181,\n",
       " 'two': 182,\n",
       " 'she': 183,\n",
       " 'through': 184,\n",
       " 'who': 185,\n",
       " 'aa': 186,\n",
       " 'trip': 187,\n",
       " 'made': 188,\n",
       " 'before': 189,\n",
       " 'right': 190,\n",
       " 'their': 191,\n",
       " 'response': 192,\n",
       " 'seats': 193,\n",
       " 'other': 194,\n",
       " 'being': 195,\n",
       " 'experience': 196,\n",
       " 'problems': 197,\n",
       " 'jfk': 198,\n",
       " 'online': 199,\n",
       " 'let': 200,\n",
       " 'some': 201,\n",
       " \"didn't\": 202,\n",
       " 'sitting': 203,\n",
       " 'her': 204,\n",
       " 'best': 205,\n",
       " '10': 206,\n",
       " 'sent': 207,\n",
       " 'staff': 208,\n",
       " 'bad': 209,\n",
       " 'passengers': 210,\n",
       " 'min': 211,\n",
       " 'does': 212,\n",
       " 'customers': 213,\n",
       " 'boarding': 214,\n",
       " 'better': 215,\n",
       " '30': 216,\n",
       " 'already': 217,\n",
       " 'book': 218,\n",
       " 'line': 219,\n",
       " 'long': 220,\n",
       " 'said': 221,\n",
       " 'booked': 222,\n",
       " 'left': 223,\n",
       " 'sure': 224,\n",
       " 'where': 225,\n",
       " 'since': 226,\n",
       " 'times': 227,\n",
       " 'stuck': 228,\n",
       " 'give': 229,\n",
       " 'well': 230,\n",
       " 'morning': 231,\n",
       " \"you're\": 232,\n",
       " 'reservation': 233,\n",
       " \"doesn't\": 234,\n",
       " 'dfw': 235,\n",
       " 'miles': 236,\n",
       " 'into': 237,\n",
       " 'flightr': 238,\n",
       " \"won't\": 239,\n",
       " '6': 240,\n",
       " \"i'll\": 241,\n",
       " 'miss': 242,\n",
       " 'same': 243,\n",
       " 'tonight': 244,\n",
       " 'website': 245,\n",
       " 'think': 246,\n",
       " 'find': 247,\n",
       " 'nothing': 248,\n",
       " 'yet': 249,\n",
       " 'lax': 250,\n",
       " 'airlines': 251,\n",
       " 'issue': 252,\n",
       " 'agents': 253,\n",
       " 'use': 254,\n",
       " 'care': 255,\n",
       " 'connection': 256,\n",
       " 'fleek': 257,\n",
       " 'says': 258,\n",
       " 'booking': 259,\n",
       " 'night': 260,\n",
       " 'delays': 261,\n",
       " 'refund': 262,\n",
       " 'hotel': 263,\n",
       " 'flt': 264,\n",
       " 'system': 265,\n",
       " \"what's\": 266,\n",
       " 'info': 267,\n",
       " 'tried': 268,\n",
       " 'he': 269,\n",
       " 'tell': 270,\n",
       " 'put': 271,\n",
       " \"fleet's\": 272,\n",
       " 'air': 273,\n",
       " 'jetblue': 274,\n",
       " 'called': 275,\n",
       " 'keep': 276,\n",
       " 'hope': 277,\n",
       " 'rebooked': 278,\n",
       " 'anything': 279,\n",
       " 'rude': 280,\n",
       " 'down': 281,\n",
       " 'pay': 282,\n",
       " 'missed': 283,\n",
       " 'nice': 284,\n",
       " 'also': 285,\n",
       " 'free': 286,\n",
       " 'ago': 287,\n",
       " 'its': 288,\n",
       " 'follow': 289,\n",
       " 'done': 290,\n",
       " 'tickets': 291,\n",
       " 'sfo': 292,\n",
       " 'class': 293,\n",
       " 'mins': 294,\n",
       " 'finally': 295,\n",
       " 'awesome': 296,\n",
       " 'rebook': 297,\n",
       " 'issues': 298,\n",
       " 'phl': 299,\n",
       " '8': 300,\n",
       " 'able': 301,\n",
       " 'checked': 302,\n",
       " 'ord': 303,\n",
       " 'week': 304,\n",
       " 'credit': 305,\n",
       " 'wifi': 306,\n",
       " 'working': 307,\n",
       " '20': 308,\n",
       " 'every': 309,\n",
       " 'business': 310,\n",
       " 'until': 311,\n",
       " 'come': 312,\n",
       " 'appreciate': 313,\n",
       " 'status': 314,\n",
       " 'say': 315,\n",
       " 'having': 316,\n",
       " 'dca': 317,\n",
       " 'anyone': 318,\n",
       " 'missing': 319,\n",
       " 'looking': 320,\n",
       " 'board': 321,\n",
       " 'app': 322,\n",
       " '7': 323,\n",
       " 'available': 324,\n",
       " 'via': 325,\n",
       " 'problem': 326,\n",
       " 'person': 327,\n",
       " 'update': 328,\n",
       " 'team': 329,\n",
       " 'always': 330,\n",
       " 'voucher': 331,\n",
       " 'without': 332,\n",
       " 'thx': 333,\n",
       " 'which': 334,\n",
       " 'answer': 335,\n",
       " '15': 336,\n",
       " 'making': 337,\n",
       " 'leave': 338,\n",
       " 'many': 339,\n",
       " 'ok': 340,\n",
       " 'terrible': 341,\n",
       " 'helpful': 342,\n",
       " 'yesterday': 343,\n",
       " 'upgrade': 344,\n",
       " 'sorry': 345,\n",
       " 'understand': 346,\n",
       " 'gt': 347,\n",
       " 'disappointed': 348,\n",
       " 'look': 349,\n",
       " 'year': 350,\n",
       " 'clt': 351,\n",
       " 'early': 352,\n",
       " '1st': 353,\n",
       " 'fail': 354,\n",
       " 'instead': 355,\n",
       " 'extra': 356,\n",
       " 'amazing': 357,\n",
       " 'stop': 358,\n",
       " 'ewr': 359,\n",
       " 'name': 360,\n",
       " 'speak': 361,\n",
       " 'rep': 362,\n",
       " \"we're\": 363,\n",
       " 'open': 364,\n",
       " 'hi': 365,\n",
       " 'fix': 366,\n",
       " 'money': 367,\n",
       " 'send': 368,\n",
       " 'planes': 369,\n",
       " 'bos': 370,\n",
       " 'paid': 371,\n",
       " 'claim': 372,\n",
       " 'almost': 373,\n",
       " \"couldn't\": 374,\n",
       " 'though': 375,\n",
       " \"isn't\": 376,\n",
       " 'contact': 377,\n",
       " 'earlier': 378,\n",
       " 'pilot': 379,\n",
       " 'pass': 380,\n",
       " 'departure': 381,\n",
       " 'rt': 382,\n",
       " 'dallas': 383,\n",
       " 'happy': 384,\n",
       " 'southwest': 385,\n",
       " 'attendant': 386,\n",
       " 'full': 387,\n",
       " 'took': 388,\n",
       " \"haven't\": 389,\n",
       " 'site': 390,\n",
       " 'different': 391,\n",
       " 'connecting': 392,\n",
       " 'boston': 393,\n",
       " 'while': 394,\n",
       " 'try': 395,\n",
       " 'ridiculous': 396,\n",
       " 'talk': 397,\n",
       " 'supposed': 398,\n",
       " 'vegas': 399,\n",
       " 'hung': 400,\n",
       " 'unacceptable': 401,\n",
       " 'something': 402,\n",
       " 'received': 403,\n",
       " \"wasn't\": 404,\n",
       " 'least': 405,\n",
       " 'family': 406,\n",
       " 'poor': 407,\n",
       " 'oh': 408,\n",
       " '45': 409,\n",
       " 'airways': 410,\n",
       " 'direct': 411,\n",
       " 'horrible': 412,\n",
       " 'job': 413,\n",
       " 'actually': 414,\n",
       " 'ground': 415,\n",
       " 'employees': 416,\n",
       " 'stranded': 417,\n",
       " 'chicago': 418,\n",
       " '24': 419,\n",
       " 'show': 420,\n",
       " 'company': 421,\n",
       " 'tarmac': 422,\n",
       " 'his': 423,\n",
       " 'card': 424,\n",
       " 'old': 425,\n",
       " 'denver': 426,\n",
       " 'destinationdragons': 427,\n",
       " 'add': 428,\n",
       " 'twitter': 429,\n",
       " 'snow': 430,\n",
       " 'found': 431,\n",
       " 'everyone': 432,\n",
       " 'seriously': 433,\n",
       " 'most': 434,\n",
       " 'landed': 435,\n",
       " 'san': 436,\n",
       " '9': 437,\n",
       " 'calling': 438,\n",
       " 'those': 439,\n",
       " 'start': 440,\n",
       " 'taking': 441,\n",
       " 'ur': 442,\n",
       " 'food': 443,\n",
       " 'leaving': 444,\n",
       " '11': 445,\n",
       " 'needs': 446,\n",
       " 'doing': 447,\n",
       " 'chance': 448,\n",
       " 'maybe': 449,\n",
       " 'weeks': 450,\n",
       " '40': 451,\n",
       " '50': 452,\n",
       " \"i'd\": 453,\n",
       " 'american': 454,\n",
       " 'far': 455,\n",
       " 'away': 456,\n",
       " 'nyc': 457,\n",
       " 'policy': 458,\n",
       " 'wrong': 459,\n",
       " 'tweet': 460,\n",
       " 'wife': 461,\n",
       " 'reason': 462,\n",
       " 'might': 463,\n",
       " 'gave': 464,\n",
       " 'account': 465,\n",
       " 'reply': 466,\n",
       " 'half': 467,\n",
       " 'point': 468,\n",
       " 'vacation': 469,\n",
       " 'big': 470,\n",
       " 'fee': 471,\n",
       " 'both': 472,\n",
       " 'enough': 473,\n",
       " 'message': 474,\n",
       " 'sit': 475,\n",
       " 'went': 476,\n",
       " 'frustrated': 477,\n",
       " 'coming': 478,\n",
       " 'hr': 479,\n",
       " 'reservations': 480,\n",
       " 'thing': 481,\n",
       " 'three': 482,\n",
       " 'return': 483,\n",
       " 'option': 484,\n",
       " 'hey': 485,\n",
       " 'once': 486,\n",
       " 'desk': 487,\n",
       " 'confirmation': 488,\n",
       " 'past': 489,\n",
       " 'charge': 490,\n",
       " '25': 491,\n",
       " 'may': 492,\n",
       " 'mechanical': 493,\n",
       " 'broken': 494,\n",
       " 'bc': 495,\n",
       " 'twice': 496,\n",
       " 'little': 497,\n",
       " 'together': 498,\n",
       " 'using': 499,\n",
       " 'car': 500,\n",
       " 'these': 501,\n",
       " 'link': 502,\n",
       " 'offer': 503,\n",
       " 'question': 504,\n",
       " 'kids': 505,\n",
       " 'destination': 506,\n",
       " 'asked': 507,\n",
       " 'soon': 508,\n",
       " 'iad': 509,\n",
       " 'changed': 510,\n",
       " 'b': 511,\n",
       " 'less': 512,\n",
       " 'around': 513,\n",
       " 'pls': 514,\n",
       " 'possible': 515,\n",
       " 'him': 516,\n",
       " '800': 517,\n",
       " 'newark': 518,\n",
       " 'charlotte': 519,\n",
       " 'looks': 520,\n",
       " 'stay': 521,\n",
       " 'saying': 522,\n",
       " \"there's\": 523,\n",
       " 'phx': 524,\n",
       " 'cool': 525,\n",
       " 'c': 526,\n",
       " 'worse': 527,\n",
       " 'makes': 528,\n",
       " 'few': 529,\n",
       " 'used': 530,\n",
       " 'things': 531,\n",
       " 'fll': 532,\n",
       " 'longer': 533,\n",
       " 'lot': 534,\n",
       " 'guess': 535,\n",
       " 'houston': 536,\n",
       " 'runway': 537,\n",
       " 'lga': 538,\n",
       " 'cost': 539,\n",
       " 'traveling': 540,\n",
       " 'real': 541,\n",
       " '200': 542,\n",
       " 'landing': 543,\n",
       " 'given': 544,\n",
       " \"we've\": 545,\n",
       " 'ua': 546,\n",
       " 'awful': 547,\n",
       " 'terminal': 548,\n",
       " 're': 549,\n",
       " 'during': 550,\n",
       " 'scheduled': 551,\n",
       " 'plus': 552,\n",
       " 'hard': 553,\n",
       " 'points': 554,\n",
       " 'waited': 555,\n",
       " 'seems': 556,\n",
       " 'telling': 557,\n",
       " 'idea': 558,\n",
       " 'sat': 559,\n",
       " 'life': 560,\n",
       " 'row': 561,\n",
       " 'sucks': 562,\n",
       " 'lol': 563,\n",
       " 'lack': 564,\n",
       " 'thru': 565,\n",
       " 'attendants': 566,\n",
       " 'hear': 567,\n",
       " 'frustrating': 568,\n",
       " 'https': 569,\n",
       " 'arrived': 570,\n",
       " 'such': 571,\n",
       " 'heard': 572,\n",
       " 'happened': 573,\n",
       " 'im': 574,\n",
       " '12': 575,\n",
       " 'philly': 576,\n",
       " 'own': 577,\n",
       " 'else': 578,\n",
       " 'believe': 579,\n",
       " 'den': 580,\n",
       " 'friend': 581,\n",
       " 'mean': 582,\n",
       " 'feel': 583,\n",
       " 'member': 584,\n",
       " 'minute': 585,\n",
       " 'cust': 586,\n",
       " 'calls': 587,\n",
       " 'international': 588,\n",
       " \"you've\": 589,\n",
       " 'assistance': 590,\n",
       " 'hoping': 591,\n",
       " 'iah': 592,\n",
       " 'information': 593,\n",
       " 'arrive': 594,\n",
       " 'options': 595,\n",
       " 'end': 596,\n",
       " 'dc': 597,\n",
       " 'carry': 598,\n",
       " 'miami': 599,\n",
       " 'reflight': 600,\n",
       " 'maintenance': 601,\n",
       " 'usairways': 602,\n",
       " 'everything': 603,\n",
       " 'monday': 604,\n",
       " 'quick': 605,\n",
       " 'loyal': 606,\n",
       " \"wouldn't\": 607,\n",
       " 'changes': 608,\n",
       " 'pick': 609,\n",
       " 'swa': 610,\n",
       " 'second': 611,\n",
       " 'las': 612,\n",
       " '100': 613,\n",
       " 'error': 614,\n",
       " 'expect': 615,\n",
       " 'standby': 616,\n",
       " 'glad': 617,\n",
       " 'joke': 618,\n",
       " 'request': 619,\n",
       " 'cannot': 620,\n",
       " 'jet': 621,\n",
       " 'process': 622,\n",
       " 'forward': 623,\n",
       " 'wanted': 624,\n",
       " 'each': 625,\n",
       " 'bwi': 626,\n",
       " 'counting': 627,\n",
       " 'ceo': 628,\n",
       " 'needed': 629,\n",
       " 'busy': 630,\n",
       " '2nd': 631,\n",
       " 'non': 632,\n",
       " 'checking': 633,\n",
       " 'suck': 634,\n",
       " 'pilots': 635,\n",
       " 'thought': 636,\n",
       " 'room': 637,\n",
       " 'ask': 638,\n",
       " 'apology': 639,\n",
       " 'spent': 640,\n",
       " 'wish': 641,\n",
       " 'world': 642,\n",
       " 'group': 643,\n",
       " 'boarded': 644,\n",
       " 'reach': 645,\n",
       " 'complaint': 646,\n",
       " \"aren't\": 647,\n",
       " 'usair': 648,\n",
       " 'blue': 649,\n",
       " 'deal': 650,\n",
       " 'flew': 651,\n",
       " 'wow': 652,\n",
       " 'la': 653,\n",
       " 'human': 654,\n",
       " 'bring': 655,\n",
       " 'paying': 656,\n",
       " 'years': 657,\n",
       " 'empty': 658,\n",
       " 'computer': 659,\n",
       " 'fees': 660,\n",
       " 'case': 661,\n",
       " 'communication': 662,\n",
       " \"they're\": 663,\n",
       " 'mco': 664,\n",
       " 'club': 665,\n",
       " 'city': 666,\n",
       " 'yeah': 667,\n",
       " 'provide': 668,\n",
       " 'buy': 669,\n",
       " 'lose': 670,\n",
       " 'entire': 671,\n",
       " 'address': 672,\n",
       " 'between': 673,\n",
       " 'form': 674,\n",
       " 'guy': 675,\n",
       " 'asking': 676,\n",
       " 'unitedairlines': 677,\n",
       " 'sw': 678,\n",
       " 'award': 679,\n",
       " 'bought': 680,\n",
       " 'cant': 681,\n",
       " 'respond': 682,\n",
       " 'place': 683,\n",
       " 'currently': 684,\n",
       " \"y'all\": 685,\n",
       " 'flighting': 686,\n",
       " 'run': 687,\n",
       " 'taken': 688,\n",
       " 'sunday': 689,\n",
       " 'pretty': 690,\n",
       " 'happens': 691,\n",
       " 'month': 692,\n",
       " 'under': 693,\n",
       " 'updates': 694,\n",
       " 'helping': 695,\n",
       " 'passenger': 696,\n",
       " 'whole': 697,\n",
       " 'months': 698,\n",
       " 'drive': 699,\n",
       " 'rather': 700,\n",
       " 'leg': 701,\n",
       " 'counter': 702,\n",
       " 'list': 703,\n",
       " 'hopefully': 704,\n",
       " 'either': 705,\n",
       " \"we'll\": 706,\n",
       " 'asap': 707,\n",
       " 'tv': 708,\n",
       " 'supervisor': 709,\n",
       " 'delta': 710,\n",
       " 'seem': 711,\n",
       " 'sleep': 712,\n",
       " 'happen': 713,\n",
       " 'nashville': 714,\n",
       " 'live': 715,\n",
       " 'beyond': 716,\n",
       " 'moved': 717,\n",
       " 'super': 718,\n",
       " 'confirmed': 719,\n",
       " 'wtf': 720,\n",
       " 'price': 721,\n",
       " 'future': 722,\n",
       " 'atl': 723,\n",
       " 'fault': 724,\n",
       " 'flightlations': 725,\n",
       " 'appreciated': 726,\n",
       " 'companion': 727,\n",
       " 'holding': 728,\n",
       " 'support': 729,\n",
       " 'fine': 730,\n",
       " 'correct': 731,\n",
       " 'tsa': 732,\n",
       " 'ready': 733,\n",
       " 'purchase': 734,\n",
       " 'date': 735,\n",
       " 'automated': 736,\n",
       " 'lt': 737,\n",
       " 'easy': 738,\n",
       " 'plans': 739,\n",
       " 'austin': 740,\n",
       " 'high': 741,\n",
       " '”': 742,\n",
       " 'safety': 743,\n",
       " 'details': 744,\n",
       " 'upset': 745,\n",
       " 'okay': 746,\n",
       " 'figure': 747,\n",
       " 'pm': 748,\n",
       " 'situation': 749,\n",
       " 'sad': 750,\n",
       " 'offered': 751,\n",
       " 'checkin': 752,\n",
       " 'luv': 753,\n",
       " 'apparently': 754,\n",
       " 'access': 755,\n",
       " 'cabin': 756,\n",
       " 'orlando': 757,\n",
       " 'record': 758,\n",
       " 'top': 759,\n",
       " 'tuesday': 760,\n",
       " 'hate': 761,\n",
       " 'atlanta': 762,\n",
       " 'media': 763,\n",
       " 'customerservice': 764,\n",
       " 'flown': 765,\n",
       " '2015': 766,\n",
       " 'completely': 767,\n",
       " 'reschedule': 768,\n",
       " 'r': 769,\n",
       " 'handle': 770,\n",
       " 'treat': 771,\n",
       " 'probably': 772,\n",
       " 'set': 773,\n",
       " 'compensation': 774,\n",
       " 'employee': 775,\n",
       " 'switch': 776,\n",
       " 'following': 777,\n",
       " 'disconnected': 778,\n",
       " 'cause': 779,\n",
       " 'mia': 780,\n",
       " 'friends': 781,\n",
       " 'running': 782,\n",
       " 'charged': 783,\n",
       " 'part': 784,\n",
       " 'luck': 785,\n",
       " 'storm': 786,\n",
       " 'connections': 787,\n",
       " 'o': 788,\n",
       " 'read': 789,\n",
       " 'zero': 790,\n",
       " 'clothes': 791,\n",
       " 'original': 792,\n",
       " 'delivered': 793,\n",
       " 'means': 794,\n",
       " 'huge': 795,\n",
       " 'gets': 796,\n",
       " 'sending': 797,\n",
       " 'kind': 798,\n",
       " 'must': 799,\n",
       " 'cold': 800,\n",
       " 'middle': 801,\n",
       " 'giving': 802,\n",
       " 'gonna': 803,\n",
       " \"shouldn't\": 804,\n",
       " 'helped': 805,\n",
       " 'fare': 806,\n",
       " 'platinum': 807,\n",
       " 'members': 808,\n",
       " 'fact': 809,\n",
       " 'ice': 810,\n",
       " 'seen': 811,\n",
       " 'allowed': 812,\n",
       " 'losing': 813,\n",
       " 'dont': 814,\n",
       " 'allow': 815,\n",
       " 'schedule': 816,\n",
       " 'feb': 817,\n",
       " 'share': 818,\n",
       " 'front': 819,\n",
       " 'flightlation': 820,\n",
       " 'fun': 821,\n",
       " 'gives': 822,\n",
       " \"let's\": 823,\n",
       " 'several': 824,\n",
       " '1k': 825,\n",
       " 's': 826,\n",
       " 'explain': 827,\n",
       " 'myself': 828,\n",
       " 'rdu': 829,\n",
       " 'changing': 830,\n",
       " 'answering': 831,\n",
       " 'four': 832,\n",
       " 'friendly': 833,\n",
       " \"she's\": 834,\n",
       " 'pre': 835,\n",
       " 'priority': 836,\n",
       " 'gold': 837,\n",
       " 'came': 838,\n",
       " 'despite': 839,\n",
       " 'round': 840,\n",
       " 'shit': 841,\n",
       " 'word': 842,\n",
       " 'aircraft': 843,\n",
       " 'winter': 844,\n",
       " 'weekend': 845,\n",
       " 'extremely': 846,\n",
       " 'multiple': 847,\n",
       " 'crazy': 848,\n",
       " 'hello': 849,\n",
       " 'country': 850,\n",
       " 'yall': 851,\n",
       " 'layover': 852,\n",
       " 'lots': 853,\n",
       " 'takes': 854,\n",
       " 'route': 855,\n",
       " 'space': 856,\n",
       " 'spoke': 857,\n",
       " 'reps': 858,\n",
       " 'ppl': 859,\n",
       " 'services': 860,\n",
       " 'held': 861,\n",
       " 'lounge': 862,\n",
       " 'fixed': 863,\n",
       " 'unable': 864,\n",
       " 'sense': 865,\n",
       " 'water': 866,\n",
       " 'bna': 867,\n",
       " 'birthday': 868,\n",
       " 'rock': 869,\n",
       " '000': 870,\n",
       " 'mobile': 871,\n",
       " 'friday': 872,\n",
       " 'rescheduled': 873,\n",
       " 'land': 874,\n",
       " 'inconvenience': 875,\n",
       " 'mileage': 876,\n",
       " 'tix': 877,\n",
       " 'complete': 878,\n",
       " 'knew': 879,\n",
       " 'works': 880,\n",
       " 'arrival': 881,\n",
       " 'answers': 882,\n",
       " 'unfortunately': 883,\n",
       " 'id': 884,\n",
       " 'true': 885,\n",
       " 'wall': 886,\n",
       " 'f': 887,\n",
       " 'news': 888,\n",
       " 'totally': 889,\n",
       " 'area': 890,\n",
       " 'afternoon': 891,\n",
       " 'report': 892,\n",
       " 'husband': 893,\n",
       " 'absolutely': 894,\n",
       " 'overnight': 895,\n",
       " 'mine': 896,\n",
       " 'goes': 897,\n",
       " 'kudos': 898,\n",
       " 'load': 899,\n",
       " 'confirm': 900,\n",
       " 'nope': 901,\n",
       " 'responding': 902,\n",
       " 'phones': 903,\n",
       " 'control': 904,\n",
       " 'treated': 905,\n",
       " 'hang': 906,\n",
       " 'plan': 907,\n",
       " \"hasn't\": 908,\n",
       " 'relations': 909,\n",
       " 'haha': 910,\n",
       " 'code': 911,\n",
       " 'folks': 912,\n",
       " 'keeps': 913,\n",
       " 'spend': 914,\n",
       " 'small': 915,\n",
       " '3rd': 916,\n",
       " 'learn': 917,\n",
       " 'overhead': 918,\n",
       " '90': 919,\n",
       " 'wonderful': 920,\n",
       " 'drop': 921,\n",
       " 'worth': 922,\n",
       " 'literally': 923,\n",
       " 'dealing': 924,\n",
       " 'showing': 925,\n",
       " 'attitude': 926,\n",
       " 'social': 927,\n",
       " 'letter': 928,\n",
       " 'dividend': 929,\n",
       " 'plz': 930,\n",
       " 'page': 931,\n",
       " 'anyway': 932,\n",
       " '23': 933,\n",
       " 'closed': 934,\n",
       " 'ny': 935,\n",
       " 'bit': 936,\n",
       " 'march': 937,\n",
       " 'course': 938,\n",
       " 'yr': 939,\n",
       " 'excellent': 940,\n",
       " 'man': 941,\n",
       " 'saw': 942,\n",
       " 'short': 943,\n",
       " 'vouchers': 944,\n",
       " '22': 945,\n",
       " 'baby': 946,\n",
       " 'matter': 947,\n",
       " 'offering': 948,\n",
       " 'door': 949,\n",
       " 'lines': 950,\n",
       " 'fl': 951,\n",
       " 'gone': 952,\n",
       " 'virgin': 953,\n",
       " 'sign': 954,\n",
       " 'flyer': 955,\n",
       " 'ride': 956,\n",
       " 'watch': 957,\n",
       " '35': 958,\n",
       " 'depart': 959,\n",
       " 'choice': 960,\n",
       " 'americanairlines': 961,\n",
       " 'passbook': 962,\n",
       " 'evening': 963,\n",
       " 'child': 964,\n",
       " 'submitted': 965,\n",
       " 'others': 966,\n",
       " 'anymore': 967,\n",
       " 'connect': 968,\n",
       " 'arriving': 969,\n",
       " 'conf': 970,\n",
       " 'note': 971,\n",
       " 'feedback': 972,\n",
       " 'neveragain': 973,\n",
       " 'letting': 974,\n",
       " 'however': 975,\n",
       " '1hr': 976,\n",
       " '75': 977,\n",
       " 'mess': 978,\n",
       " 'worries': 979,\n",
       " 'excited': 980,\n",
       " 'seating': 981,\n",
       " 'mind': 982,\n",
       " 'shows': 983,\n",
       " 'trouble': 984,\n",
       " 'saturday': 985,\n",
       " 'kept': 986,\n",
       " 'web': 987,\n",
       " \"he's\": 988,\n",
       " 'behind': 989,\n",
       " 'forced': 990,\n",
       " 'worked': 991,\n",
       " 'anywhere': 992,\n",
       " 'move': 993,\n",
       " 'phoenix': 994,\n",
       " 'n': 995,\n",
       " 'catch': 996,\n",
       " 'complaints': 997,\n",
       " 'usairwaysfail': 998,\n",
       " 'failed': 999,\n",
       " 'entertainment': 1000,\n",
       " ...}"
      ]
     },
     "execution_count": 84,
     "metadata": {},
     "output_type": "execute_result"
    }
   ],
   "source": [
    "word_index"
   ]
  },
  {
   "cell_type": "code",
   "execution_count": 85,
   "id": "9f735950",
   "metadata": {},
   "outputs": [
    {
     "data": {
      "text/plain": [
       "14912"
      ]
     },
     "execution_count": 85,
     "metadata": {},
     "output_type": "execute_result"
    }
   ],
   "source": [
    "len(word_index)"
   ]
  },
  {
   "cell_type": "code",
   "execution_count": 86,
   "id": "3b8ea886",
   "metadata": {},
   "outputs": [],
   "source": [
    "total_words = len(tokenizer.word_index) + 1\n"
   ]
  },
  {
   "cell_type": "code",
   "execution_count": 92,
   "id": "5a79707b",
   "metadata": {},
   "outputs": [],
   "source": [
    "sequences = tokenizer.texts_to_sequences(sentences)"
   ]
  },
  {
   "cell_type": "code",
   "execution_count": 93,
   "id": "71ec7848",
   "metadata": {},
   "outputs": [],
   "source": [
    "padded_sequences = pad_sequences(sequences, maxlen=10 , padding = 'post' , truncating='post')"
   ]
  },
  {
   "cell_type": "code",
   "execution_count": 94,
   "id": "46fdb0eb",
   "metadata": {},
   "outputs": [
    {
     "data": {
      "text/plain": [
       "array([132,   2, 245, 189,   5, 127,   1,   2, 110,   0])"
      ]
     },
     "execution_count": 94,
     "metadata": {},
     "output_type": "execute_result"
    }
   ],
   "source": [
    "padded_sequences[300]"
   ]
  },
  {
   "cell_type": "code",
   "execution_count": null,
   "id": "f03066c0",
   "metadata": {},
   "outputs": [],
   "source": []
  },
  {
   "cell_type": "code",
   "execution_count": null,
   "id": "a6c18903",
   "metadata": {},
   "outputs": [],
   "source": []
  },
  {
   "cell_type": "code",
   "execution_count": null,
   "id": "4c6b3321",
   "metadata": {},
   "outputs": [],
   "source": [
    "model = Sequential()\n",
    "model.add(Embedding(total_words, 64, input_length=max_sequence_len-1))\n",
    "model.add(Bidirectional(LSTM(20)))\n",
    "model.add(Dense(total_words, activation='softmax'))\n",
    "model.compile(loss='categorical_crossentropy', optimizer='adam', metrics=['accuracy'])\n",
    "history = model.fit(xs, ys, epochs=500, verbose=1)"
   ]
  }
 ],
 "metadata": {
  "kernelspec": {
   "display_name": "Python 3",
   "language": "python",
   "name": "python3"
  },
  "language_info": {
   "codemirror_mode": {
    "name": "ipython",
    "version": 3
   },
   "file_extension": ".py",
   "mimetype": "text/x-python",
   "name": "python",
   "nbconvert_exporter": "python",
   "pygments_lexer": "ipython3",
   "version": "3.8.11"
  }
 },
 "nbformat": 4,
 "nbformat_minor": 5
}
