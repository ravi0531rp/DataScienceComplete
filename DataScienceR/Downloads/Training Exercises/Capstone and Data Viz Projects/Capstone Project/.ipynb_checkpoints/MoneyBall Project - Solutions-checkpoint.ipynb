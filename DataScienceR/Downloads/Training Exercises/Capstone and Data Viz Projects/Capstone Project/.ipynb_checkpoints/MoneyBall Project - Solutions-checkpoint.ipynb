{
 "cells": [
  {
   "cell_type": "markdown",
   "metadata": {},
   "source": [
    "____\n",
    "<img src=\"moneyball_title.jpg\" >\n",
    "___\n",
    "# MoneyBall Project - Solutions\n",
    "\n"
   ]
  },
  {
   "cell_type": "markdown",
   "metadata": {},
   "source": [
    "## Rules of Baseball\n",
    "\n",
    "You don't need to know much about Baseball to complete this exercise. If you're totally unfamiliar with Baseball, check out this [useful explanatory video!](https://www.youtube.com/watch?v=0bKkGeROiPA)\n",
    "____\n",
    "## [Background](https://www.youtube.com/watch?v=yGf6LNWY9AI)\n",
    "*Source: Wikipedia*\n",
    "\n",
    "### The 2002 Oakland A's\n",
    "\n",
    "The Oakland Athletics' 2002 season was the team's 35th in Oakland, California. It was also the 102nd season in franchise history. The Athletics finished first in the American League West with a record of 103-59.\n",
    "\n",
    "The Athletics' 2002 campaign ranks among the most famous in franchise history. Following the 2001 season, Oakland saw the departure of three key players (the lost boys). Billy Beane, the team's general manager, responded with a series of under-the-radar free agent signings. The new-look Athletics, despite a comparative lack of star power, surprised the baseball world by besting the 2001 team's regular season record. The team is most famous, however, for winning 20 consecutive games between August 13 and September 4, 2002.[1] The Athletics' season was the subject of Michael Lewis' 2003 book Moneyball: The Art of Winning an Unfair Game (as Lewis was given the opportunity to follow the team around throughout that season)\n",
    "\n",
    "This project is based off the book written by Michael Lewis (later turned into a movie).\n",
    "\n",
    "### Moneyball Book\n",
    "\n",
    "The central premise of book *Moneyball* is that the collective wisdom of baseball insiders (including players, managers, coaches, scouts, and the front office) over the past century is subjective and often flawed. Statistics such as stolen bases, runs batted in, and batting average, typically used to gauge players, are relics of a 19th-century view of the game and the statistics available at that time. The book argues that the Oakland A's' front office took advantage of more analytical gauges of player performance to field a team that could better compete against richer competitors in Major League Baseball (MLB).\n",
    "\n",
    "Rigorous statistical analysis had demonstrated that on-base percentage and slugging percentage are better indicators of offensive success, and the A's became convinced that these qualities were cheaper to obtain on the open market than more historically valued qualities such as speed and contact. These observations often flew in the face of conventional baseball wisdom and the beliefs of many baseball scouts and executives.\n",
    "\n",
    "By re-evaluating the strategies that produce wins on the field, the 2002 Athletics, with approximately US 44 million dollars in salary, were competitive with larger market teams such as the New York Yankees, who spent over US$125 million in payroll that same season.\n",
    "\n",
    "\n",
    "<img src=\"salary.png\" style=\"width:478px;height:315px;\" >\n",
    "\n",
    "\n",
    "Because of the team's smaller revenues, Oakland is forced to find players undervalued by the market, and their system for finding value in undervalued players has proven itself thus far. This approach brought the A's to the playoffs in 2002 and 2003.\n",
    "\n",
    "In this project we'll work with some data and with the goal of trying to find replacement players for the ones lost at the start of the off-season - During the 2001–02 offseason, the team lost three key free agents to larger market teams: 2000 AL MVP Jason Giambi to the New York Yankees, outfielder Johnny Damon to the Boston Red Sox, and closer Jason Isringhausen to the St. Louis Cardinals.\n",
    "\n",
    "The main goal of this project is for you to feel comfortable working with R on real data to try and derive actionable insights!"
   ]
  },
  {
   "cell_type": "markdown",
   "metadata": {},
   "source": [
    "# Let's get started!\n",
    "\n",
    "** Follow the steps outlined in bold below using your new R skills and help the Oakland A's recruit under-valued players! **\n",
    "<img src=\"Moneyball.jpg\" >"
   ]
  },
  {
   "cell_type": "markdown",
   "metadata": {},
   "source": [
    "## Data\n",
    "\n",
    "We'll be using data from [Sean Lahaman's Website](http://www.seanlahman.com/baseball-archive/statistics/) a very useful source for baseball statistics. The documentation for the csv files is located in the **readme2013.txt** file. You may need to reference this to understand what acronyms stand for.\n",
    "\n",
    "** Use R to open the Batting.csv file and assign it to a dataframe called batting using *read.csv* **"
   ]
  },
  {
   "cell_type": "code",
   "execution_count": 1,
   "metadata": {
    "collapsed": false
   },
   "outputs": [],
   "source": [
    "batting <- read.csv('Batting.csv')"
   ]
  },
  {
   "cell_type": "markdown",
   "metadata": {},
   "source": [
    "** Use head() to check out the batting **"
   ]
  },
  {
   "cell_type": "code",
   "execution_count": 2,
   "metadata": {
    "collapsed": false
   },
   "outputs": [
    {
     "data": {
      "text/html": [
       "<table>\n",
       "<thead><tr><th></th><th scope=col>playerID</th><th scope=col>yearID</th><th scope=col>stint</th><th scope=col>teamID</th><th scope=col>lgID</th><th scope=col>G</th><th scope=col>G_batting</th><th scope=col>AB</th><th scope=col>R</th><th scope=col>H</th><th scope=col>X2B</th><th scope=col>X3B</th><th scope=col>HR</th><th scope=col>RBI</th><th scope=col>SB</th><th scope=col>CS</th><th scope=col>BB</th><th scope=col>SO</th><th scope=col>IBB</th><th scope=col>HBP</th><th scope=col>SH</th><th scope=col>SF</th><th scope=col>GIDP</th><th scope=col>G_old</th></tr></thead>\n",
       "<tbody>\n",
       "\t<tr><th scope=row>1</th><td>aardsda01</td><td>2004</td><td>1</td><td>SFN</td><td>NL</td><td>11</td><td>11</td><td>0</td><td>0</td><td>0</td><td>0</td><td>0</td><td>0</td><td>0</td><td>0</td><td>0</td><td>0</td><td>0</td><td>0</td><td>0</td><td>0</td><td>0</td><td>0</td><td>11</td></tr>\n",
       "\t<tr><th scope=row>2</th><td>aardsda01</td><td>2006</td><td>1</td><td>CHN</td><td>NL</td><td>45</td><td>43</td><td>2</td><td>0</td><td>0</td><td>0</td><td>0</td><td>0</td><td>0</td><td>0</td><td>0</td><td>0</td><td>0</td><td>0</td><td>0</td><td>1</td><td>0</td><td>0</td><td>45</td></tr>\n",
       "\t<tr><th scope=row>3</th><td>aardsda01</td><td>2007</td><td>1</td><td>CHA</td><td>AL</td><td>25</td><td>2</td><td>0</td><td>0</td><td>0</td><td>0</td><td>0</td><td>0</td><td>0</td><td>0</td><td>0</td><td>0</td><td>0</td><td>0</td><td>0</td><td>0</td><td>0</td><td>0</td><td>2</td></tr>\n",
       "\t<tr><th scope=row>4</th><td>aardsda01</td><td>2008</td><td>1</td><td>BOS</td><td>AL</td><td>47</td><td>5</td><td>1</td><td>0</td><td>0</td><td>0</td><td>0</td><td>0</td><td>0</td><td>0</td><td>0</td><td>0</td><td>1</td><td>0</td><td>0</td><td>0</td><td>0</td><td>0</td><td>5</td></tr>\n",
       "\t<tr><th scope=row>5</th><td>aardsda01</td><td>2009</td><td>1</td><td>SEA</td><td>AL</td><td>73</td><td>3</td><td>0</td><td>0</td><td>0</td><td>0</td><td>0</td><td>0</td><td>0</td><td>0</td><td>0</td><td>0</td><td>0</td><td>0</td><td>0</td><td>0</td><td>0</td><td>0</td><td>NA</td></tr>\n",
       "\t<tr><th scope=row>6</th><td>aardsda01</td><td>2010</td><td>1</td><td>SEA</td><td>AL</td><td>53</td><td>4</td><td>0</td><td>0</td><td>0</td><td>0</td><td>0</td><td>0</td><td>0</td><td>0</td><td>0</td><td>0</td><td>0</td><td>0</td><td>0</td><td>0</td><td>0</td><td>0</td><td>NA</td></tr>\n",
       "</tbody>\n",
       "</table>\n"
      ],
      "text/latex": [
       "\\begin{tabular}{r|llllllllllllllllllllllll}\n",
       "  & playerID & yearID & stint & teamID & lgID & G & G_batting & AB & R & H & X2B & X3B & HR & RBI & SB & CS & BB & SO & IBB & HBP & SH & SF & GIDP & G_old\\\\\n",
       "\\hline\n",
       "\t1 & aardsda01 & 2004 & 1 & SFN & NL & 11 & 11 & 0 & 0 & 0 & 0 & 0 & 0 & 0 & 0 & 0 & 0 & 0 & 0 & 0 & 0 & 0 & 0 & 11\\\\\n",
       "\t2 & aardsda01 & 2006 & 1 & CHN & NL & 45 & 43 & 2 & 0 & 0 & 0 & 0 & 0 & 0 & 0 & 0 & 0 & 0 & 0 & 0 & 1 & 0 & 0 & 45\\\\\n",
       "\t3 & aardsda01 & 2007 & 1 & CHA & AL & 25 & 2 & 0 & 0 & 0 & 0 & 0 & 0 & 0 & 0 & 0 & 0 & 0 & 0 & 0 & 0 & 0 & 0 & 2\\\\\n",
       "\t4 & aardsda01 & 2008 & 1 & BOS & AL & 47 & 5 & 1 & 0 & 0 & 0 & 0 & 0 & 0 & 0 & 0 & 0 & 1 & 0 & 0 & 0 & 0 & 0 & 5\\\\\n",
       "\t5 & aardsda01 & 2009 & 1 & SEA & AL & 73 & 3 & 0 & 0 & 0 & 0 & 0 & 0 & 0 & 0 & 0 & 0 & 0 & 0 & 0 & 0 & 0 & 0 & NA\\\\\n",
       "\t6 & aardsda01 & 2010 & 1 & SEA & AL & 53 & 4 & 0 & 0 & 0 & 0 & 0 & 0 & 0 & 0 & 0 & 0 & 0 & 0 & 0 & 0 & 0 & 0 & NA\\\\\n",
       "\\end{tabular}\n"
      ],
      "text/plain": [
       "   playerID yearID stint teamID lgID  G G_batting AB R H X2B X3B HR RBI SB CS\n",
       "1 aardsda01   2004     1    SFN   NL 11        11  0 0 0   0   0  0   0  0  0\n",
       "2 aardsda01   2006     1    CHN   NL 45        43  2 0 0   0   0  0   0  0  0\n",
       "3 aardsda01   2007     1    CHA   AL 25         2  0 0 0   0   0  0   0  0  0\n",
       "4 aardsda01   2008     1    BOS   AL 47         5  1 0 0   0   0  0   0  0  0\n",
       "5 aardsda01   2009     1    SEA   AL 73         3  0 0 0   0   0  0   0  0  0\n",
       "6 aardsda01   2010     1    SEA   AL 53         4  0 0 0   0   0  0   0  0  0\n",
       "  BB SO IBB HBP SH SF GIDP G_old\n",
       "1  0  0   0   0  0  0    0    11\n",
       "2  0  0   0   0  1  0    0    45\n",
       "3  0  0   0   0  0  0    0     2\n",
       "4  0  1   0   0  0  0    0     5\n",
       "5  0  0   0   0  0  0    0    NA\n",
       "6  0  0   0   0  0  0    0    NA"
      ]
     },
     "execution_count": 2,
     "metadata": {},
     "output_type": "execute_result"
    }
   ],
   "source": [
    "head(batting)"
   ]
  },
  {
   "cell_type": "markdown",
   "metadata": {},
   "source": [
    "** Use str() to check the structure. Pay close attention to how columns that start with a number get an 'X' in front of them! You'll need to know this to call those columns! **"
   ]
  },
  {
   "cell_type": "code",
   "execution_count": 3,
   "metadata": {
    "collapsed": false
   },
   "outputs": [
    {
     "name": "stdout",
     "output_type": "stream",
     "text": [
      "'data.frame':\t97889 obs. of  24 variables:\n",
      " $ playerID : Factor w/ 18107 levels \"aardsda01\",\"aaronha01\",..: 1 1 1 1 1 1 1 2 2 2 ...\n",
      " $ yearID   : int  2004 2006 2007 2008 2009 2010 2012 1954 1955 1956 ...\n",
      " $ stint    : int  1 1 1 1 1 1 1 1 1 1 ...\n",
      " $ teamID   : Factor w/ 149 levels \"ALT\",\"ANA\",\"ARI\",..: 117 35 33 16 116 116 93 80 80 80 ...\n",
      " $ lgID     : Factor w/ 6 levels \"AA\",\"AL\",\"FL\",..: 4 4 2 2 2 2 2 4 4 4 ...\n",
      " $ G        : int  11 45 25 47 73 53 1 122 153 153 ...\n",
      " $ G_batting: int  11 43 2 5 3 4 NA 122 153 153 ...\n",
      " $ AB       : int  0 2 0 1 0 0 NA 468 602 609 ...\n",
      " $ R        : int  0 0 0 0 0 0 NA 58 105 106 ...\n",
      " $ H        : int  0 0 0 0 0 0 NA 131 189 200 ...\n",
      " $ X2B      : int  0 0 0 0 0 0 NA 27 37 34 ...\n",
      " $ X3B      : int  0 0 0 0 0 0 NA 6 9 14 ...\n",
      " $ HR       : int  0 0 0 0 0 0 NA 13 27 26 ...\n",
      " $ RBI      : int  0 0 0 0 0 0 NA 69 106 92 ...\n",
      " $ SB       : int  0 0 0 0 0 0 NA 2 3 2 ...\n",
      " $ CS       : int  0 0 0 0 0 0 NA 2 1 4 ...\n",
      " $ BB       : int  0 0 0 0 0 0 NA 28 49 37 ...\n",
      " $ SO       : int  0 0 0 1 0 0 NA 39 61 54 ...\n",
      " $ IBB      : int  0 0 0 0 0 0 NA NA 5 6 ...\n",
      " $ HBP      : int  0 0 0 0 0 0 NA 3 3 2 ...\n",
      " $ SH       : int  0 1 0 0 0 0 NA 6 7 5 ...\n",
      " $ SF       : int  0 0 0 0 0 0 NA 4 4 7 ...\n",
      " $ GIDP     : int  0 0 0 0 0 0 NA 13 20 21 ...\n",
      " $ G_old    : int  11 45 2 5 NA NA NA 122 153 153 ...\n"
     ]
    }
   ],
   "source": [
    "str(batting)"
   ]
  },
  {
   "cell_type": "markdown",
   "metadata": {},
   "source": [
    "** Make sure you understand how to call the columns by using the $ symbol. **\n",
    "\n",
    "** Call the head() of the first five rows of AB (At Bats) column **"
   ]
  },
  {
   "cell_type": "code",
   "execution_count": 4,
   "metadata": {
    "collapsed": false
   },
   "outputs": [
    {
     "data": {
      "text/html": [
       "<ol class=list-inline>\n",
       "\t<li>0</li>\n",
       "\t<li>2</li>\n",
       "\t<li>0</li>\n",
       "\t<li>1</li>\n",
       "\t<li>0</li>\n",
       "\t<li>0</li>\n",
       "</ol>\n"
      ],
      "text/latex": [
       "\\begin{enumerate*}\n",
       "\\item 0\n",
       "\\item 2\n",
       "\\item 0\n",
       "\\item 1\n",
       "\\item 0\n",
       "\\item 0\n",
       "\\end{enumerate*}\n"
      ],
      "text/markdown": [
       "1. 0\n",
       "2. 2\n",
       "3. 0\n",
       "4. 1\n",
       "5. 0\n",
       "6. 0\n",
       "\n",
       "\n"
      ],
      "text/plain": [
       "[1] 0 2 0 1 0 0"
      ]
     },
     "execution_count": 4,
     "metadata": {},
     "output_type": "execute_result"
    }
   ],
   "source": [
    "head(batting$AB)"
   ]
  },
  {
   "cell_type": "markdown",
   "metadata": {},
   "source": [
    "** Call the head of the doubles (X2B) column **"
   ]
  },
  {
   "cell_type": "code",
   "execution_count": 5,
   "metadata": {
    "collapsed": false
   },
   "outputs": [
    {
     "data": {
      "text/html": [
       "<ol class=list-inline>\n",
       "\t<li>0</li>\n",
       "\t<li>0</li>\n",
       "\t<li>0</li>\n",
       "\t<li>0</li>\n",
       "\t<li>0</li>\n",
       "\t<li>0</li>\n",
       "</ol>\n"
      ],
      "text/latex": [
       "\\begin{enumerate*}\n",
       "\\item 0\n",
       "\\item 0\n",
       "\\item 0\n",
       "\\item 0\n",
       "\\item 0\n",
       "\\item 0\n",
       "\\end{enumerate*}\n"
      ],
      "text/markdown": [
       "1. 0\n",
       "2. 0\n",
       "3. 0\n",
       "4. 0\n",
       "5. 0\n",
       "6. 0\n",
       "\n",
       "\n"
      ],
      "text/plain": [
       "[1] 0 0 0 0 0 0"
      ]
     },
     "execution_count": 5,
     "metadata": {},
     "output_type": "execute_result"
    }
   ],
   "source": [
    "head(batting$X2B)"
   ]
  },
  {
   "cell_type": "markdown",
   "metadata": {},
   "source": [
    "** Quick Note: If you used fread() to use data.table, then you won't need to worry about these X in front of numbers, instead you would use something like: **\n",
    "\n",
    "    batting[,'2B',with=FALSE]\n",
    "There's a few more ways of doing detailed [here](http://stackoverflow.com/questions/15637132/how-to-reference-column-names-that-start-with-a-number-in-data-table).\n",
    "\n",
    "**Alright! Let's move on! **"
   ]
  },
  {
   "cell_type": "markdown",
   "metadata": {},
   "source": [
    "### Feature Engineering\n",
    "\n",
    "We need to add three more statistics that were used in Moneyball! These are:\n",
    "* [Batting Average](https://en.wikipedia.org/wiki/Batting_average)\n",
    "* [On Base Percentage](http://en.wikipedia.org/wiki/On-base_percentage)\n",
    "* [Slugging Percentage](http://en.wikipedia.org/wiki/Slugging_percentage)\n",
    "\n",
    "Click on the links provided and search the wikipedia page for the formula for creating the new statistic! For example, for Batting Average, you'll need to scroll down until you see:\n",
    "\n",
    "$$ AVG = \\frac{H}{AB} $$\n",
    "\n",
    "Which means that the Batting Average is equal to H (Hits) divided by AB (At Base). So we'll do the following to create a new column called **BA** and add it to our data frame:"
   ]
  },
  {
   "cell_type": "code",
   "execution_count": 6,
   "metadata": {
    "collapsed": true
   },
   "outputs": [],
   "source": [
    "batting$BA <- batting$H / batting$AB"
   ]
  },
  {
   "cell_type": "markdown",
   "metadata": {},
   "source": [
    "** After doing this operation, check the last 5 entries of the BA column of your data frame and it should look like this: **"
   ]
  },
  {
   "cell_type": "code",
   "execution_count": 7,
   "metadata": {
    "collapsed": false
   },
   "outputs": [
    {
     "data": {
      "text/html": [
       "<ol class=list-inline>\n",
       "\t<li>0.123076923076923</li>\n",
       "\t<li>0.274647887323944</li>\n",
       "\t<li>0.147058823529412</li>\n",
       "\t<li>0.274509803921569</li>\n",
       "\t<li>0.213872832369942</li>\n",
       "</ol>\n"
      ],
      "text/latex": [
       "\\begin{enumerate*}\n",
       "\\item 0.123076923076923\n",
       "\\item 0.274647887323944\n",
       "\\item 0.147058823529412\n",
       "\\item 0.274509803921569\n",
       "\\item 0.213872832369942\n",
       "\\end{enumerate*}\n"
      ],
      "text/markdown": [
       "1. 0.123076923076923\n",
       "2. 0.274647887323944\n",
       "3. 0.147058823529412\n",
       "4. 0.274509803921569\n",
       "5. 0.213872832369942\n",
       "\n",
       "\n"
      ],
      "text/plain": [
       "[1] 0.1230769 0.2746479 0.1470588 0.2745098 0.2138728"
      ]
     },
     "execution_count": 7,
     "metadata": {},
     "output_type": "execute_result"
    }
   ],
   "source": [
    "tail(batting$BA,5)"
   ]
  },
  {
   "cell_type": "markdown",
   "metadata": {},
   "source": [
    "** Now do the same for some new columns! On Base Percentage (OBP) and Slugging Percentage (SLG). Hint: For SLG, you need 1B (Singles), this isn't in your data frame. However you can calculate it by subtracting doubles,triples, and home runs from total hits (H):**    **1B = H-2B-3B-HR **\n",
    "\n",
    "* **Create an OBP Column **\n",
    "* ** Create an SLG Column **"
   ]
  },
  {
   "cell_type": "code",
   "execution_count": 8,
   "metadata": {
    "collapsed": true
   },
   "outputs": [],
   "source": [
    "# On Base Percentage\n",
    "batting$OBP <- (batting$H + batting$BB + batting$HBP)/(batting$AB + batting$BB + batting$HBP + batting$SF)"
   ]
  },
  {
   "cell_type": "code",
   "execution_count": 9,
   "metadata": {
    "collapsed": false
   },
   "outputs": [],
   "source": [
    "# Creating X1B (Singles)\n",
    "batting$X1B <- batting$H - batting$X2B - batting$X3B - batting$HR"
   ]
  },
  {
   "cell_type": "code",
   "execution_count": 10,
   "metadata": {
    "collapsed": false
   },
   "outputs": [],
   "source": [
    "# Creating Slugging Average (SLG)\n",
    "batting$SLG <- ((1 * batting$X1B) + (2 * batting$X2B) + (3 * batting$X3B) + (4 * batting$HR) ) / batting$AB"
   ]
  },
  {
   "cell_type": "markdown",
   "metadata": {},
   "source": [
    "** Check the structure of your data frame using str() **"
   ]
  },
  {
   "cell_type": "code",
   "execution_count": 11,
   "metadata": {
    "collapsed": false
   },
   "outputs": [
    {
     "name": "stdout",
     "output_type": "stream",
     "text": [
      "'data.frame':\t97889 obs. of  28 variables:\n",
      " $ playerID : Factor w/ 18107 levels \"aardsda01\",\"aaronha01\",..: 1 1 1 1 1 1 1 2 2 2 ...\n",
      " $ yearID   : int  2004 2006 2007 2008 2009 2010 2012 1954 1955 1956 ...\n",
      " $ stint    : int  1 1 1 1 1 1 1 1 1 1 ...\n",
      " $ teamID   : Factor w/ 149 levels \"ALT\",\"ANA\",\"ARI\",..: 117 35 33 16 116 116 93 80 80 80 ...\n",
      " $ lgID     : Factor w/ 6 levels \"AA\",\"AL\",\"FL\",..: 4 4 2 2 2 2 2 4 4 4 ...\n",
      " $ G        : int  11 45 25 47 73 53 1 122 153 153 ...\n",
      " $ G_batting: int  11 43 2 5 3 4 NA 122 153 153 ...\n",
      " $ AB       : int  0 2 0 1 0 0 NA 468 602 609 ...\n",
      " $ R        : int  0 0 0 0 0 0 NA 58 105 106 ...\n",
      " $ H        : int  0 0 0 0 0 0 NA 131 189 200 ...\n",
      " $ X2B      : int  0 0 0 0 0 0 NA 27 37 34 ...\n",
      " $ X3B      : int  0 0 0 0 0 0 NA 6 9 14 ...\n",
      " $ HR       : int  0 0 0 0 0 0 NA 13 27 26 ...\n",
      " $ RBI      : int  0 0 0 0 0 0 NA 69 106 92 ...\n",
      " $ SB       : int  0 0 0 0 0 0 NA 2 3 2 ...\n",
      " $ CS       : int  0 0 0 0 0 0 NA 2 1 4 ...\n",
      " $ BB       : int  0 0 0 0 0 0 NA 28 49 37 ...\n",
      " $ SO       : int  0 0 0 1 0 0 NA 39 61 54 ...\n",
      " $ IBB      : int  0 0 0 0 0 0 NA NA 5 6 ...\n",
      " $ HBP      : int  0 0 0 0 0 0 NA 3 3 2 ...\n",
      " $ SH       : int  0 1 0 0 0 0 NA 6 7 5 ...\n",
      " $ SF       : int  0 0 0 0 0 0 NA 4 4 7 ...\n",
      " $ GIDP     : int  0 0 0 0 0 0 NA 13 20 21 ...\n",
      " $ G_old    : int  11 45 2 5 NA NA NA 122 153 153 ...\n",
      " $ BA       : num  NaN 0 NaN 0 NaN ...\n",
      " $ OBP      : num  NaN 0 NaN 0 NaN ...\n",
      " $ X1B      : int  0 0 0 0 0 0 NA 85 116 126 ...\n",
      " $ SLG      : num  NaN 0 NaN 0 NaN ...\n"
     ]
    }
   ],
   "source": [
    "str(batting)"
   ]
  },
  {
   "cell_type": "markdown",
   "metadata": {},
   "source": [
    "____\n",
    "## Merging Salary Data with Batting Data\n",
    "\n",
    "We know we don't just want the best players, we want the most *undervalued* players, meaning we will also need to know current salary information! We have salary information in the csv file 'Salaries.csv'.\n",
    "\n",
    "Complete the following steps to merge the salary data with the player stats!"
   ]
  },
  {
   "cell_type": "markdown",
   "metadata": {},
   "source": [
    "** Load the Salaries.csv file into a dataframe called sal using read.csv **"
   ]
  },
  {
   "cell_type": "code",
   "execution_count": 12,
   "metadata": {
    "collapsed": true
   },
   "outputs": [],
   "source": [
    "sal <- read.csv('Salaries.csv')"
   ]
  },
  {
   "cell_type": "markdown",
   "metadata": {},
   "source": [
    "** Use summary to get a summary of the batting data frame and notice the minimum year in the yearID column. Our batting data goes back to 1871! Our salary data starts at 1985, meaning we need to remove the batting data that occured before 1985.**\n",
    "\n",
    "** Use subset() to reassign batting to only contain data from 1985 and onwards **"
   ]
  },
  {
   "cell_type": "code",
   "execution_count": 13,
   "metadata": {
    "collapsed": false
   },
   "outputs": [
    {
     "data": {
      "text/plain": [
       "      playerID         yearID         stint           teamID        lgID      \n",
       " mcguide01:   31   Min.   :1871   Min.   :1.000   CHN    : 4720   AA  : 1890  \n",
       " henderi01:   29   1st Qu.:1931   1st Qu.:1.000   PHI    : 4621   AL  :44369  \n",
       " newsobo01:   29   Median :1970   Median :1.000   PIT    : 4575   FL  :  470  \n",
       " johnto01 :   28   Mean   :1962   Mean   :1.077   SLN    : 4535   NL  :49944  \n",
       " kaatji01 :   28   3rd Qu.:1995   3rd Qu.:1.000   CIN    : 4393   PL  :  147  \n",
       " ansonca01:   27   Max.   :2013   Max.   :5.000   CLE    : 4318   UA  :  332  \n",
       " (Other)  :97717                                  (Other):70727   NA's:  737  \n",
       "       G            G_batting            AB              R         \n",
       " Min.   :  1.00   Min.   :  0.00   Min.   :  0.0   Min.   :  0.00  \n",
       " 1st Qu.: 13.00   1st Qu.:  7.00   1st Qu.:  9.0   1st Qu.:  0.00  \n",
       " Median : 35.00   Median : 32.00   Median : 61.0   Median :  5.00  \n",
       " Mean   : 51.65   Mean   : 49.13   Mean   :154.1   Mean   : 20.47  \n",
       " 3rd Qu.: 81.00   3rd Qu.: 81.00   3rd Qu.:260.0   3rd Qu.: 31.00  \n",
       " Max.   :165.00   Max.   :165.00   Max.   :716.0   Max.   :192.00  \n",
       "                  NA's   :1406     NA's   :6413    NA's   :6413    \n",
       "       H               X2B            X3B               HR        \n",
       " Min.   :  0.00   Min.   : 0.0   Min.   : 0.000   Min.   : 0.000  \n",
       " 1st Qu.:  1.00   1st Qu.: 0.0   1st Qu.: 0.000   1st Qu.: 0.000  \n",
       " Median : 12.00   Median : 2.0   Median : 0.000   Median : 0.000  \n",
       " Mean   : 40.37   Mean   : 6.8   Mean   : 1.424   Mean   : 3.002  \n",
       " 3rd Qu.: 66.00   3rd Qu.:10.0   3rd Qu.: 2.000   3rd Qu.: 3.000  \n",
       " Max.   :262.00   Max.   :67.0   Max.   :36.000   Max.   :73.000  \n",
       " NA's   :6413     NA's   :6413   NA's   :6413     NA's   :6413    \n",
       "      RBI               SB                CS               BB        \n",
       " Min.   :  0.00   Min.   :  0.000   Min.   : 0.000   Min.   :  0.00  \n",
       " 1st Qu.:  0.00   1st Qu.:  0.000   1st Qu.: 0.000   1st Qu.:  0.00  \n",
       " Median :  5.00   Median :  0.000   Median : 0.000   Median :  4.00  \n",
       " Mean   : 18.47   Mean   :  3.265   Mean   : 1.385   Mean   : 14.21  \n",
       " 3rd Qu.: 28.00   3rd Qu.:  2.000   3rd Qu.: 1.000   3rd Qu.: 21.00  \n",
       " Max.   :191.00   Max.   :138.000   Max.   :42.000   Max.   :232.00  \n",
       " NA's   :6837     NA's   :7713      NA's   :29867    NA's   :6413    \n",
       "       SO              IBB              HBP               SH        \n",
       " Min.   :  0.00   Min.   :  0.00   Min.   : 0.000   Min.   : 0.000  \n",
       " 1st Qu.:  2.00   1st Qu.:  0.00   1st Qu.: 0.000   1st Qu.: 0.000  \n",
       " Median : 11.00   Median :  0.00   Median : 0.000   Median : 1.000  \n",
       " Mean   : 21.95   Mean   :  1.28   Mean   : 1.136   Mean   : 2.564  \n",
       " 3rd Qu.: 31.00   3rd Qu.:  1.00   3rd Qu.: 1.000   3rd Qu.: 3.000  \n",
       " Max.   :223.00   Max.   :120.00   Max.   :51.000   Max.   :67.000  \n",
       " NA's   :14251    NA's   :42977    NA's   :9233     NA's   :12751   \n",
       "       SF             GIDP           G_old              BA       \n",
       " Min.   : 0.0    Min.   : 0.00   Min.   :  0.00   Min.   :0.000  \n",
       " 1st Qu.: 0.0    1st Qu.: 0.00   1st Qu.: 11.00   1st Qu.:0.148  \n",
       " Median : 0.0    Median : 1.00   Median : 34.00   Median :0.231  \n",
       " Mean   : 1.2    Mean   : 3.33   Mean   : 50.99   Mean   :0.209  \n",
       " 3rd Qu.: 2.0    3rd Qu.: 5.00   3rd Qu.: 82.00   3rd Qu.:0.275  \n",
       " Max.   :19.0    Max.   :36.00   Max.   :165.00   Max.   :1.000  \n",
       " NA's   :42446   NA's   :32521   NA's   :5189     NA's   :13520  \n",
       "      OBP             X1B              SLG       \n",
       " Min.   :0.00    Min.   :  0.00   Min.   :0.000  \n",
       " 1st Qu.:0.19    1st Qu.:  1.00   1st Qu.:0.179  \n",
       " Median :0.29    Median :  9.00   Median :0.309  \n",
       " Mean   :0.26    Mean   : 29.14   Mean   :0.291  \n",
       " 3rd Qu.:0.34    3rd Qu.: 48.00   3rd Qu.:0.397  \n",
       " Max.   :1.00    Max.   :225.00   Max.   :4.000  \n",
       " NA's   :49115   NA's   :6413     NA's   :13520  "
      ]
     },
     "execution_count": 13,
     "metadata": {},
     "output_type": "execute_result"
    }
   ],
   "source": [
    "summary(batting)"
   ]
  },
  {
   "cell_type": "code",
   "execution_count": 14,
   "metadata": {
    "collapsed": true
   },
   "outputs": [],
   "source": [
    "batting <- subset(batting,yearID >= 1985)"
   ]
  },
  {
   "cell_type": "markdown",
   "metadata": {},
   "source": [
    "** Now use summary again to make sure the subset reassignment worked, your yearID min should be 1985 **"
   ]
  },
  {
   "cell_type": "code",
   "execution_count": 15,
   "metadata": {
    "collapsed": false
   },
   "outputs": [
    {
     "data": {
      "text/plain": [
       "      playerID         yearID         stint          teamID      lgID      \n",
       " moyerja01:   27   Min.   :1985   Min.   :1.00   SDN    : 1313   AA:    0  \n",
       " mulhote01:   26   1st Qu.:1993   1st Qu.:1.00   CLE    : 1306   AL:17226  \n",
       " weathda01:   26   Median :2000   Median :1.00   PIT    : 1299   FL:    0  \n",
       " maddugr01:   25   Mean   :2000   Mean   :1.08   NYN    : 1297   NL:18426  \n",
       " sierrru01:   25   3rd Qu.:2007   3rd Qu.:1.00   BOS    : 1279   PL:    0  \n",
       " thomeji01:   25   Max.   :2013   Max.   :4.00   CIN    : 1279   UA:    0  \n",
       " (Other)  :35498                                 (Other):27879             \n",
       "       G           G_batting            AB              R         \n",
       " Min.   :  1.0   Min.   :  0.00   Min.   :  0.0   Min.   :  0.00  \n",
       " 1st Qu.: 14.0   1st Qu.:  4.00   1st Qu.:  3.0   1st Qu.:  0.00  \n",
       " Median : 34.0   Median : 27.00   Median : 47.0   Median :  4.00  \n",
       " Mean   : 51.7   Mean   : 46.28   Mean   :144.7   Mean   : 19.44  \n",
       " 3rd Qu.: 77.0   3rd Qu.: 77.00   3rd Qu.:241.0   3rd Qu.: 30.00  \n",
       " Max.   :163.0   Max.   :163.00   Max.   :716.0   Max.   :152.00  \n",
       "                 NA's   :1406     NA's   :4377    NA's   :4377    \n",
       "       H               X2B              X3B               HR        \n",
       " Min.   :  0.00   Min.   : 0.000   Min.   : 0.000   Min.   : 0.000  \n",
       " 1st Qu.:  0.00   1st Qu.: 0.000   1st Qu.: 0.000   1st Qu.: 0.000  \n",
       " Median :  8.00   Median : 1.000   Median : 0.000   Median : 0.000  \n",
       " Mean   : 37.95   Mean   : 7.293   Mean   : 0.824   Mean   : 4.169  \n",
       " 3rd Qu.: 61.00   3rd Qu.:11.000   3rd Qu.: 1.000   3rd Qu.: 5.000  \n",
       " Max.   :262.00   Max.   :59.000   Max.   :23.000   Max.   :73.000  \n",
       " NA's   :4377     NA's   :4377     NA's   :4377     NA's   :4377    \n",
       "      RBI               SB                CS               BB        \n",
       " Min.   :  0.00   Min.   :  0.000   Min.   : 0.000   Min.   :  0.00  \n",
       " 1st Qu.:  0.00   1st Qu.:  0.000   1st Qu.: 0.000   1st Qu.:  0.00  \n",
       " Median :  3.00   Median :  0.000   Median : 0.000   Median :  3.00  \n",
       " Mean   : 18.41   Mean   :  2.811   Mean   : 1.219   Mean   : 14.06  \n",
       " 3rd Qu.: 27.00   3rd Qu.:  2.000   3rd Qu.: 1.000   3rd Qu.: 21.00  \n",
       " Max.   :165.00   Max.   :110.000   Max.   :29.000   Max.   :232.00  \n",
       " NA's   :4377     NA's   :4377      NA's   :4377     NA's   :4377    \n",
       "       SO              IBB               HBP               SH        \n",
       " Min.   :  0.00   Min.   :  0.000   Min.   : 0.000   Min.   : 0.000  \n",
       " 1st Qu.:  1.00   1st Qu.:  0.000   1st Qu.: 0.000   1st Qu.: 0.000  \n",
       " Median : 12.00   Median :  0.000   Median : 0.000   Median : 0.000  \n",
       " Mean   : 27.03   Mean   :  1.171   Mean   : 1.273   Mean   : 1.465  \n",
       " 3rd Qu.: 42.00   3rd Qu.:  1.000   3rd Qu.: 1.000   3rd Qu.: 2.000  \n",
       " Max.   :223.00   Max.   :120.000   Max.   :35.000   Max.   :39.000  \n",
       " NA's   :4377     NA's   :4378      NA's   :4387     NA's   :4377    \n",
       "       SF              GIDP           G_old             BA       \n",
       " Min.   : 0.000   Min.   : 0.00   Min.   :  0.0   Min.   :0.000  \n",
       " 1st Qu.: 0.000   1st Qu.: 0.00   1st Qu.: 11.0   1st Qu.:0.136  \n",
       " Median : 0.000   Median : 1.00   Median : 32.0   Median :0.233  \n",
       " Mean   : 1.212   Mean   : 3.25   Mean   : 49.7   Mean   :0.205  \n",
       " 3rd Qu.: 2.000   3rd Qu.: 5.00   3rd Qu.: 77.0   3rd Qu.:0.274  \n",
       " Max.   :17.000   Max.   :35.00   Max.   :163.0   Max.   :1.000  \n",
       " NA's   :4378     NA's   :4377    NA's   :5189    NA's   :8905   \n",
       "      OBP             X1B              SLG       \n",
       " Min.   :0.000   Min.   :  0.00   Min.   :0.000  \n",
       " 1st Qu.:0.188   1st Qu.:  0.00   1st Qu.:0.167  \n",
       " Median :0.296   Median :  6.00   Median :0.333  \n",
       " Mean   :0.262   Mean   : 25.66   Mean   :0.304  \n",
       " 3rd Qu.:0.342   3rd Qu.: 42.00   3rd Qu.:0.423  \n",
       " Max.   :1.000   Max.   :225.00   Max.   :4.000  \n",
       " NA's   :8821    NA's   :4377     NA's   :8905   "
      ]
     },
     "execution_count": 15,
     "metadata": {},
     "output_type": "execute_result"
    }
   ],
   "source": [
    "summary(batting)"
   ]
  },
  {
   "cell_type": "markdown",
   "metadata": {},
   "source": [
    "Now it is time to merge the batting data with the salary data! Since we have players playing multiple years, we'll have repetitions of playerIDs for multiple years, meaning we want to merge on *both* players and years.\n",
    "\n",
    "** Use the merge() function to merge the batting and sal data frames by c('playerID','yearID'). Call the new data frame combo**"
   ]
  },
  {
   "cell_type": "code",
   "execution_count": 16,
   "metadata": {
    "collapsed": true
   },
   "outputs": [],
   "source": [
    "combo <- merge(batting,sal,by=c('playerID','yearID'))"
   ]
  },
  {
   "cell_type": "markdown",
   "metadata": {},
   "source": [
    "** Use summary to check the data **"
   ]
  },
  {
   "cell_type": "code",
   "execution_count": 17,
   "metadata": {
    "collapsed": false
   },
   "outputs": [
    {
     "data": {
      "text/plain": [
       "      playerID         yearID         stint          teamID.x     lgID.x    \n",
       " moyerja01:   27   Min.   :1985   Min.   :1.000   LAN    :  940   AA:    0  \n",
       " thomeji01:   25   1st Qu.:1993   1st Qu.:1.000   PHI    :  937   AL:12292  \n",
       " weathda01:   25   Median :1999   Median :1.000   BOS    :  935   FL:    0  \n",
       " vizquom01:   24   Mean   :1999   Mean   :1.098   NYA    :  928   NL:13105  \n",
       " gaettga01:   23   3rd Qu.:2006   3rd Qu.:1.000   CLE    :  920   PL:    0  \n",
       " griffke02:   23   Max.   :2013   Max.   :4.000   SDN    :  914   UA:    0  \n",
       " (Other)  :25250                                  (Other):19823             \n",
       "       G            G_batting            AB              R         \n",
       " Min.   :  1.00   Min.   :  0.00   Min.   :  0.0   Min.   :  0.00  \n",
       " 1st Qu.: 26.00   1st Qu.:  8.00   1st Qu.:  5.0   1st Qu.:  0.00  \n",
       " Median : 50.00   Median : 42.00   Median : 85.0   Median :  9.00  \n",
       " Mean   : 64.06   Mean   : 57.58   Mean   :182.4   Mean   : 24.71  \n",
       " 3rd Qu.:101.00   3rd Qu.:101.00   3rd Qu.:336.0   3rd Qu.: 43.00  \n",
       " Max.   :163.00   Max.   :163.00   Max.   :716.0   Max.   :152.00  \n",
       "                  NA's   :906      NA's   :2661    NA's   :2661    \n",
       "       H               X2B              X3B               HR        \n",
       " Min.   :  0.00   Min.   : 0.000   Min.   : 0.000   Min.   : 0.000  \n",
       " 1st Qu.:  1.00   1st Qu.: 0.000   1st Qu.: 0.000   1st Qu.: 0.000  \n",
       " Median : 19.00   Median : 3.000   Median : 0.000   Median : 1.000  \n",
       " Mean   : 48.18   Mean   : 9.276   Mean   : 1.033   Mean   : 5.369  \n",
       " 3rd Qu.: 87.25   3rd Qu.:16.000   3rd Qu.: 1.000   3rd Qu.: 7.000  \n",
       " Max.   :262.00   Max.   :59.000   Max.   :23.000   Max.   :73.000  \n",
       " NA's   :2661     NA's   :2661     NA's   :2661     NA's   :2661    \n",
       "      RBI               SB                CS              BB        \n",
       " Min.   :  0.00   Min.   :  0.000   Min.   : 0.00   Min.   :  0.00  \n",
       " 1st Qu.:  0.00   1st Qu.:  0.000   1st Qu.: 0.00   1st Qu.:  0.00  \n",
       " Median :  8.00   Median :  0.000   Median : 0.00   Median :  6.00  \n",
       " Mean   : 23.56   Mean   :  3.568   Mean   : 1.54   Mean   : 17.98  \n",
       " 3rd Qu.: 39.00   3rd Qu.:  3.000   3rd Qu.: 2.00   3rd Qu.: 29.00  \n",
       " Max.   :165.00   Max.   :110.000   Max.   :29.00   Max.   :232.00  \n",
       " NA's   :2661     NA's   :2661      NA's   :2661    NA's   :2661    \n",
       "       SO              IBB               HBP               SH        \n",
       " Min.   :  0.00   Min.   :  0.000   Min.   : 0.000   Min.   : 0.000  \n",
       " 1st Qu.:  2.00   1st Qu.:  0.000   1st Qu.: 0.000   1st Qu.: 0.000  \n",
       " Median : 20.00   Median :  0.000   Median : 0.000   Median : 0.000  \n",
       " Mean   : 33.52   Mean   :  1.533   Mean   : 1.614   Mean   : 1.786  \n",
       " 3rd Qu.: 55.00   3rd Qu.:  2.000   3rd Qu.: 2.000   3rd Qu.: 2.000  \n",
       " Max.   :223.00   Max.   :120.000   Max.   :35.000   Max.   :39.000  \n",
       " NA's   :2661     NA's   :2662      NA's   :2670     NA's   :2661    \n",
       "       SF              GIDP            G_old              BA       \n",
       " Min.   : 0.000   Min.   : 0.000   Min.   :  0.00   Min.   :0.000  \n",
       " 1st Qu.: 0.000   1st Qu.: 0.000   1st Qu.: 20.00   1st Qu.:0.160  \n",
       " Median : 0.000   Median : 2.000   Median : 47.00   Median :0.242  \n",
       " Mean   : 1.554   Mean   : 4.127   Mean   : 61.43   Mean   :0.212  \n",
       " 3rd Qu.: 2.000   3rd Qu.: 7.000   3rd Qu.:101.00   3rd Qu.:0.276  \n",
       " Max.   :17.000   Max.   :35.000   Max.   :163.00   Max.   :1.000  \n",
       " NA's   :2662     NA's   :2661     NA's   :3414     NA's   :5618   \n",
       "      OBP             X1B             SLG           teamID.y     lgID.y    \n",
       " Min.   :0.000   Min.   :  0.0   Min.   :0.000   CLE    :  935   AL:12304  \n",
       " 1st Qu.:0.208   1st Qu.:  0.0   1st Qu.:0.200   PIT    :  932   NL:13093  \n",
       " Median :0.305   Median : 13.0   Median :0.351   PHI    :  931             \n",
       " Mean   :0.270   Mean   : 32.5   Mean   :0.317   SDN    :  923             \n",
       " 3rd Qu.:0.346   3rd Qu.: 59.0   3rd Qu.:0.432   LAN    :  921             \n",
       " Max.   :1.000   Max.   :225.0   Max.   :4.000   CIN    :  912             \n",
       " NA's   :5562    NA's   :2661    NA's   :5618    (Other):19843             \n",
       "     salary        \n",
       " Min.   :       0  \n",
       " 1st Qu.:  255000  \n",
       " Median :  550000  \n",
       " Mean   : 1879256  \n",
       " 3rd Qu.: 2150000  \n",
       " Max.   :33000000  \n",
       "                   "
      ]
     },
     "execution_count": 17,
     "metadata": {},
     "output_type": "execute_result"
    }
   ],
   "source": [
    "summary(combo)"
   ]
  },
  {
   "cell_type": "markdown",
   "metadata": {},
   "source": [
    "## Analyzing the Lost Players\n",
    "\n",
    "As previously mentioned, the Oakland A's lost 3 key players during the off-season. We'll want to get their stats to see what we have to replace.  The players lost were: first baseman 2000 AL MVP Jason Giambi (giambja01) to the New York Yankees, outfielder Johnny Damon (damonjo01) to the Boston Red Sox and infielder Rainer Gustavo \"Ray\" Olmedo ('saenzol01').\n",
    "\n",
    "** Use the subset() function to get a data frame called lost_players from the combo data frame consisting of those 3 players. Hint: Try to figure out how to use %in% to avoid a bunch of or statements!**"
   ]
  },
  {
   "cell_type": "code",
   "execution_count": 18,
   "metadata": {
    "collapsed": true
   },
   "outputs": [],
   "source": [
    "lost_players <- subset(combo,playerID %in% c('giambja01','damonjo01','saenzol01') )"
   ]
  },
  {
   "cell_type": "code",
   "execution_count": 19,
   "metadata": {
    "collapsed": false
   },
   "outputs": [
    {
     "data": {
      "text/html": [
       "<table>\n",
       "<thead><tr><th></th><th scope=col>playerID</th><th scope=col>yearID</th><th scope=col>stint</th><th scope=col>teamID.x</th><th scope=col>lgID.x</th><th scope=col>G</th><th scope=col>G_batting</th><th scope=col>AB</th><th scope=col>R</th><th scope=col>H</th><th scope=col>X2B</th><th scope=col>X3B</th><th scope=col>HR</th><th scope=col>RBI</th><th scope=col>SB</th><th scope=col>CS</th><th scope=col>BB</th><th scope=col>SO</th><th scope=col>IBB</th><th scope=col>HBP</th><th scope=col>SH</th><th scope=col>SF</th><th scope=col>GIDP</th><th scope=col>G_old</th><th scope=col>BA</th><th scope=col>OBP</th><th scope=col>X1B</th><th scope=col>SLG</th><th scope=col>teamID.y</th><th scope=col>lgID.y</th><th scope=col>salary</th></tr></thead>\n",
       "<tbody>\n",
       "\t<tr><th scope=row>5135</th><td>damonjo01</td><td>1995</td><td>1</td><td>KCA</td><td>AL</td><td>47</td><td>47</td><td>188</td><td>32</td><td>53</td><td>11</td><td>5</td><td>3</td><td>23</td><td>7</td><td>0</td><td>12</td><td>22</td><td>0</td><td>1</td><td>2</td><td>3</td><td>2</td><td>47</td><td>0.2819149</td><td>0.3235294</td><td>34</td><td>0.4414894</td><td>KCA</td><td>AL</td><td>109000</td></tr>\n",
       "\t<tr><th scope=row>5136</th><td>damonjo01</td><td>1996</td><td>1</td><td>KCA</td><td>AL</td><td>145</td><td>145</td><td>517</td><td>61</td><td>140</td><td>22</td><td>5</td><td>6</td><td>50</td><td>25</td><td>5</td><td>31</td><td>64</td><td>3</td><td>3</td><td>10</td><td>5</td><td>4</td><td>145</td><td>0.270793</td><td>0.3129496</td><td>107</td><td>0.3675048</td><td>KCA</td><td>AL</td><td>180000</td></tr>\n",
       "\t<tr><th scope=row>5137</th><td>damonjo01</td><td>1997</td><td>1</td><td>KCA</td><td>AL</td><td>146</td><td>146</td><td>472</td><td>70</td><td>130</td><td>12</td><td>8</td><td>8</td><td>48</td><td>16</td><td>10</td><td>42</td><td>70</td><td>2</td><td>3</td><td>6</td><td>1</td><td>3</td><td>146</td><td>0.2754237</td><td>0.3378378</td><td>102</td><td>0.3855932</td><td>KCA</td><td>AL</td><td>240000</td></tr>\n",
       "\t<tr><th scope=row>5138</th><td>damonjo01</td><td>1998</td><td>1</td><td>KCA</td><td>AL</td><td>161</td><td>161</td><td>642</td><td>104</td><td>178</td><td>30</td><td>10</td><td>18</td><td>66</td><td>26</td><td>12</td><td>58</td><td>84</td><td>4</td><td>4</td><td>3</td><td>3</td><td>4</td><td>161</td><td>0.2772586</td><td>0.3394625</td><td>120</td><td>0.4392523</td><td>KCA</td><td>AL</td><td>460000</td></tr>\n",
       "\t<tr><th scope=row>5139</th><td>damonjo01</td><td>1999</td><td>1</td><td>KCA</td><td>AL</td><td>145</td><td>145</td><td>583</td><td>101</td><td>179</td><td>39</td><td>9</td><td>14</td><td>77</td><td>36</td><td>6</td><td>67</td><td>50</td><td>5</td><td>3</td><td>3</td><td>4</td><td>13</td><td>145</td><td>0.3070326</td><td>0.3789954</td><td>117</td><td>0.4768439</td><td>KCA</td><td>AL</td><td>2100000</td></tr>\n",
       "\t<tr><th scope=row>5140</th><td>damonjo01</td><td>2000</td><td>1</td><td>KCA</td><td>AL</td><td>159</td><td>159</td><td>655</td><td>136</td><td>214</td><td>42</td><td>10</td><td>16</td><td>88</td><td>46</td><td>9</td><td>65</td><td>60</td><td>4</td><td>1</td><td>8</td><td>12</td><td>7</td><td>159</td><td>0.3267176</td><td>0.3819918</td><td>146</td><td>0.4946565</td><td>KCA</td><td>AL</td><td>4000000</td></tr>\n",
       "\t<tr><th scope=row>5141</th><td>damonjo01</td><td>2001</td><td>1</td><td>OAK</td><td>AL</td><td>155</td><td>155</td><td>644</td><td>108</td><td>165</td><td>34</td><td>4</td><td>9</td><td>49</td><td>27</td><td>12</td><td>61</td><td>70</td><td>1</td><td>5</td><td>5</td><td>4</td><td>7</td><td>155</td><td>0.2562112</td><td>0.3235294</td><td>118</td><td>0.363354</td><td>OAK</td><td>AL</td><td>7100000</td></tr>\n",
       "\t<tr><th scope=row>5142</th><td>damonjo01</td><td>2002</td><td>1</td><td>BOS</td><td>AL</td><td>154</td><td>154</td><td>623</td><td>118</td><td>178</td><td>34</td><td>11</td><td>14</td><td>63</td><td>31</td><td>6</td><td>65</td><td>70</td><td>5</td><td>6</td><td>3</td><td>5</td><td>4</td><td>154</td><td>0.2857143</td><td>0.3562232</td><td>119</td><td>0.4430177</td><td>BOS</td><td>AL</td><td>7250000</td></tr>\n",
       "\t<tr><th scope=row>5143</th><td>damonjo01</td><td>2003</td><td>1</td><td>BOS</td><td>AL</td><td>145</td><td>145</td><td>608</td><td>103</td><td>166</td><td>32</td><td>6</td><td>12</td><td>67</td><td>30</td><td>6</td><td>68</td><td>74</td><td>4</td><td>2</td><td>6</td><td>6</td><td>5</td><td>145</td><td>0.2730263</td><td>0.3450292</td><td>116</td><td>0.4046053</td><td>BOS</td><td>AL</td><td>7500000</td></tr>\n",
       "\t<tr><th scope=row>5144</th><td>damonjo01</td><td>2004</td><td>1</td><td>BOS</td><td>AL</td><td>150</td><td>150</td><td>621</td><td>123</td><td>189</td><td>35</td><td>6</td><td>20</td><td>94</td><td>19</td><td>8</td><td>76</td><td>71</td><td>1</td><td>2</td><td>0</td><td>3</td><td>8</td><td>150</td><td>0.3043478</td><td>0.3803419</td><td>128</td><td>0.4766506</td><td>BOS</td><td>AL</td><td>8000000</td></tr>\n",
       "\t<tr><th scope=row>5145</th><td>damonjo01</td><td>2005</td><td>1</td><td>BOS</td><td>AL</td><td>148</td><td>148</td><td>624</td><td>117</td><td>197</td><td>35</td><td>6</td><td>10</td><td>75</td><td>18</td><td>1</td><td>53</td><td>69</td><td>3</td><td>2</td><td>0</td><td>9</td><td>5</td><td>148</td><td>0.3157051</td><td>0.3662791</td><td>146</td><td>0.4391026</td><td>BOS</td><td>AL</td><td>8250000</td></tr>\n",
       "\t<tr><th scope=row>5146</th><td>damonjo01</td><td>2006</td><td>1</td><td>NYA</td><td>AL</td><td>149</td><td>149</td><td>593</td><td>115</td><td>169</td><td>35</td><td>5</td><td>24</td><td>80</td><td>25</td><td>10</td><td>67</td><td>85</td><td>1</td><td>4</td><td>2</td><td>5</td><td>4</td><td>149</td><td>0.2849916</td><td>0.3587444</td><td>105</td><td>0.4822934</td><td>NYA</td><td>AL</td><td>13000000</td></tr>\n",
       "\t<tr><th scope=row>5147</th><td>damonjo01</td><td>2007</td><td>1</td><td>NYA</td><td>AL</td><td>141</td><td>141</td><td>533</td><td>93</td><td>144</td><td>27</td><td>2</td><td>12</td><td>63</td><td>27</td><td>3</td><td>66</td><td>79</td><td>1</td><td>2</td><td>1</td><td>3</td><td>4</td><td>141</td><td>0.2701689</td><td>0.3509934</td><td>103</td><td>0.3958724</td><td>NYA</td><td>AL</td><td>13000000</td></tr>\n",
       "\t<tr><th scope=row>5148</th><td>damonjo01</td><td>2008</td><td>1</td><td>NYA</td><td>AL</td><td>143</td><td>143</td><td>555</td><td>95</td><td>168</td><td>27</td><td>5</td><td>17</td><td>71</td><td>29</td><td>8</td><td>64</td><td>82</td><td>0</td><td>1</td><td>2</td><td>1</td><td>5</td><td>143</td><td>0.3027027</td><td>0.3752013</td><td>119</td><td>0.4612613</td><td>NYA</td><td>AL</td><td>13000000</td></tr>\n",
       "\t<tr><th scope=row>5149</th><td>damonjo01</td><td>2009</td><td>1</td><td>NYA</td><td>AL</td><td>143</td><td>143</td><td>550</td><td>107</td><td>155</td><td>36</td><td>3</td><td>24</td><td>82</td><td>12</td><td>0</td><td>71</td><td>98</td><td>1</td><td>2</td><td>2</td><td>1</td><td>9</td><td>NA</td><td>0.2818182</td><td>0.3653846</td><td>92</td><td>0.4890909</td><td>NYA</td><td>AL</td><td>13000000</td></tr>\n",
       "\t<tr><th scope=row>5150</th><td>damonjo01</td><td>2010</td><td>1</td><td>DET</td><td>AL</td><td>145</td><td>145</td><td>539</td><td>81</td><td>146</td><td>36</td><td>5</td><td>8</td><td>51</td><td>11</td><td>1</td><td>69</td><td>90</td><td>2</td><td>2</td><td>2</td><td>1</td><td>5</td><td>NA</td><td>0.270872</td><td>0.3551555</td><td>97</td><td>0.4007421</td><td>DET</td><td>AL</td><td>8000000</td></tr>\n",
       "\t<tr><th scope=row>5151</th><td>damonjo01</td><td>2011</td><td>1</td><td>TBA</td><td>AL</td><td>150</td><td>150</td><td>582</td><td>79</td><td>152</td><td>29</td><td>7</td><td>16</td><td>73</td><td>19</td><td>6</td><td>51</td><td>92</td><td>1</td><td>7</td><td>2</td><td>5</td><td>4</td><td>150</td><td>0.2611684</td><td>0.3255814</td><td>100</td><td>0.4175258</td><td>TBA</td><td>AL</td><td>5250000</td></tr>\n",
       "\t<tr><th scope=row>7872</th><td>giambja01</td><td>1995</td><td>1</td><td>OAK</td><td>AL</td><td>54</td><td>54</td><td>176</td><td>27</td><td>45</td><td>7</td><td>0</td><td>6</td><td>25</td><td>2</td><td>1</td><td>28</td><td>31</td><td>0</td><td>3</td><td>1</td><td>2</td><td>4</td><td>54</td><td>0.2556818</td><td>0.3636364</td><td>32</td><td>0.3977273</td><td>OAK</td><td>AL</td><td>109000</td></tr>\n",
       "\t<tr><th scope=row>7873</th><td>giambja01</td><td>1996</td><td>1</td><td>OAK</td><td>AL</td><td>140</td><td>140</td><td>536</td><td>84</td><td>156</td><td>40</td><td>1</td><td>20</td><td>79</td><td>0</td><td>1</td><td>51</td><td>95</td><td>3</td><td>5</td><td>1</td><td>5</td><td>15</td><td>140</td><td>0.2910448</td><td>0.3551089</td><td>95</td><td>0.4813433</td><td>OAK</td><td>AL</td><td>120000</td></tr>\n",
       "\t<tr><th scope=row>7874</th><td>giambja01</td><td>1997</td><td>1</td><td>OAK</td><td>AL</td><td>142</td><td>142</td><td>519</td><td>66</td><td>152</td><td>41</td><td>2</td><td>20</td><td>81</td><td>0</td><td>1</td><td>55</td><td>89</td><td>3</td><td>6</td><td>0</td><td>8</td><td>11</td><td>142</td><td>0.2928709</td><td>0.3622449</td><td>89</td><td>0.495183</td><td>OAK</td><td>AL</td><td>205000</td></tr>\n",
       "\t<tr><th scope=row>7875</th><td>giambja01</td><td>1998</td><td>1</td><td>OAK</td><td>AL</td><td>153</td><td>153</td><td>562</td><td>92</td><td>166</td><td>28</td><td>0</td><td>27</td><td>110</td><td>2</td><td>2</td><td>81</td><td>102</td><td>7</td><td>5</td><td>0</td><td>9</td><td>16</td><td>153</td><td>0.2953737</td><td>0.3835616</td><td>111</td><td>0.4893238</td><td>OAK</td><td>AL</td><td>315000</td></tr>\n",
       "\t<tr><th scope=row>7876</th><td>giambja01</td><td>1999</td><td>1</td><td>OAK</td><td>AL</td><td>158</td><td>158</td><td>575</td><td>115</td><td>181</td><td>36</td><td>1</td><td>33</td><td>123</td><td>1</td><td>1</td><td>105</td><td>106</td><td>6</td><td>7</td><td>0</td><td>8</td><td>11</td><td>158</td><td>0.3147826</td><td>0.4215827</td><td>111</td><td>0.5530435</td><td>OAK</td><td>AL</td><td>2103333</td></tr>\n",
       "\t<tr><th scope=row>7877</th><td>giambja01</td><td>2000</td><td>1</td><td>OAK</td><td>AL</td><td>152</td><td>152</td><td>510</td><td>108</td><td>170</td><td>29</td><td>1</td><td>43</td><td>137</td><td>2</td><td>0</td><td>137</td><td>96</td><td>6</td><td>9</td><td>0</td><td>8</td><td>9</td><td>152</td><td>0.3333333</td><td>0.4759036</td><td>97</td><td>0.6470588</td><td>OAK</td><td>AL</td><td>3103333</td></tr>\n",
       "\t<tr><th scope=row>7878</th><td>giambja01</td><td>2001</td><td>1</td><td>OAK</td><td>AL</td><td>154</td><td>154</td><td>520</td><td>109</td><td>178</td><td>47</td><td>2</td><td>38</td><td>120</td><td>2</td><td>0</td><td>129</td><td>83</td><td>24</td><td>13</td><td>0</td><td>9</td><td>17</td><td>154</td><td>0.3423077</td><td>0.4769001</td><td>91</td><td>0.6596154</td><td>OAK</td><td>AL</td><td>4103333</td></tr>\n",
       "\t<tr><th scope=row>7879</th><td>giambja01</td><td>2002</td><td>1</td><td>NYA</td><td>AL</td><td>155</td><td>155</td><td>560</td><td>120</td><td>176</td><td>34</td><td>1</td><td>41</td><td>122</td><td>2</td><td>2</td><td>109</td><td>112</td><td>4</td><td>15</td><td>0</td><td>5</td><td>18</td><td>155</td><td>0.3142857</td><td>0.4354136</td><td>100</td><td>0.5982143</td><td>NYA</td><td>AL</td><td>10428571</td></tr>\n",
       "\t<tr><th scope=row>7880</th><td>giambja01</td><td>2003</td><td>1</td><td>NYA</td><td>AL</td><td>156</td><td>156</td><td>535</td><td>97</td><td>134</td><td>25</td><td>0</td><td>41</td><td>107</td><td>2</td><td>1</td><td>129</td><td>140</td><td>9</td><td>21</td><td>0</td><td>5</td><td>9</td><td>156</td><td>0.2504673</td><td>0.4115942</td><td>68</td><td>0.5271028</td><td>NYA</td><td>AL</td><td>11428571</td></tr>\n",
       "\t<tr><th scope=row>7881</th><td>giambja01</td><td>2004</td><td>1</td><td>NYA</td><td>AL</td><td>80</td><td>80</td><td>264</td><td>33</td><td>55</td><td>9</td><td>0</td><td>12</td><td>40</td><td>0</td><td>1</td><td>47</td><td>62</td><td>1</td><td>8</td><td>0</td><td>3</td><td>5</td><td>80</td><td>0.2083333</td><td>0.3416149</td><td>34</td><td>0.3787879</td><td>NYA</td><td>AL</td><td>12428571</td></tr>\n",
       "\t<tr><th scope=row>7882</th><td>giambja01</td><td>2005</td><td>1</td><td>NYA</td><td>AL</td><td>139</td><td>139</td><td>417</td><td>74</td><td>113</td><td>14</td><td>0</td><td>32</td><td>87</td><td>0</td><td>0</td><td>108</td><td>109</td><td>5</td><td>19</td><td>0</td><td>1</td><td>7</td><td>139</td><td>0.2709832</td><td>0.440367</td><td>67</td><td>0.5347722</td><td>NYA</td><td>AL</td><td>13428571</td></tr>\n",
       "\t<tr><th scope=row>7883</th><td>giambja01</td><td>2006</td><td>1</td><td>NYA</td><td>AL</td><td>139</td><td>139</td><td>446</td><td>92</td><td>113</td><td>25</td><td>0</td><td>37</td><td>113</td><td>2</td><td>0</td><td>110</td><td>106</td><td>12</td><td>16</td><td>0</td><td>7</td><td>10</td><td>139</td><td>0.2533632</td><td>0.4127807</td><td>51</td><td>0.558296</td><td>NYA</td><td>AL</td><td>20428571</td></tr>\n",
       "\t<tr><th scope=row>7884</th><td>giambja01</td><td>2007</td><td>1</td><td>NYA</td><td>AL</td><td>83</td><td>83</td><td>254</td><td>31</td><td>60</td><td>8</td><td>0</td><td>14</td><td>39</td><td>1</td><td>0</td><td>40</td><td>66</td><td>2</td><td>8</td><td>0</td><td>1</td><td>1</td><td>83</td><td>0.2362205</td><td>0.3564356</td><td>38</td><td>0.4330709</td><td>NYA</td><td>AL</td><td>23428571</td></tr>\n",
       "\t<tr><th scope=row>7885</th><td>giambja01</td><td>2008</td><td>1</td><td>NYA</td><td>AL</td><td>145</td><td>145</td><td>458</td><td>68</td><td>113</td><td>19</td><td>1</td><td>32</td><td>96</td><td>2</td><td>1</td><td>76</td><td>111</td><td>5</td><td>22</td><td>0</td><td>9</td><td>6</td><td>145</td><td>0.2467249</td><td>0.3734513</td><td>61</td><td>0.5021834</td><td>NYA</td><td>AL</td><td>23428571</td></tr>\n",
       "\t<tr><th scope=row>7886</th><td>giambja01</td><td>2009</td><td>1</td><td>OAK</td><td>AL</td><td>83</td><td>83</td><td>269</td><td>39</td><td>52</td><td>13</td><td>0</td><td>11</td><td>40</td><td>0</td><td>0</td><td>50</td><td>72</td><td>1</td><td>7</td><td>0</td><td>2</td><td>6</td><td>NA</td><td>0.1933086</td><td>0.3323171</td><td>28</td><td>0.3643123</td><td>OAK</td><td>AL</td><td>4000000</td></tr>\n",
       "\t<tr><th scope=row>7887</th><td>giambja01</td><td>2009</td><td>2</td><td>COL</td><td>NL</td><td>19</td><td>19</td><td>24</td><td>4</td><td>7</td><td>1</td><td>0</td><td>2</td><td>11</td><td>0</td><td>0</td><td>7</td><td>8</td><td>0</td><td>0</td><td>0</td><td>0</td><td>0</td><td>NA</td><td>0.2916667</td><td>0.4516129</td><td>4</td><td>0.5833333</td><td>OAK</td><td>AL</td><td>4000000</td></tr>\n",
       "\t<tr><th scope=row>7888</th><td>giambja01</td><td>2010</td><td>1</td><td>COL</td><td>NL</td><td>87</td><td>87</td><td>176</td><td>17</td><td>43</td><td>9</td><td>0</td><td>6</td><td>35</td><td>2</td><td>0</td><td>35</td><td>47</td><td>5</td><td>6</td><td>0</td><td>5</td><td>5</td><td>NA</td><td>0.2443182</td><td>0.3783784</td><td>28</td><td>0.3977273</td><td>COL</td><td>NL</td><td>1750000</td></tr>\n",
       "\t<tr><th scope=row>7889</th><td>giambja01</td><td>2011</td><td>1</td><td>COL</td><td>NL</td><td>64</td><td>64</td><td>131</td><td>20</td><td>34</td><td>6</td><td>0</td><td>13</td><td>32</td><td>0</td><td>0</td><td>17</td><td>45</td><td>0</td><td>3</td><td>0</td><td>1</td><td>1</td><td>64</td><td>0.259542</td><td>0.3552632</td><td>15</td><td>0.6030534</td><td>COL</td><td>NL</td><td>1000000</td></tr>\n",
       "\t<tr><th scope=row>7890</th><td>giambja01</td><td>2012</td><td>1</td><td>COL</td><td>NL</td><td>60</td><td>NA</td><td>89</td><td>7</td><td>20</td><td>4</td><td>0</td><td>1</td><td>8</td><td>0</td><td>0</td><td>20</td><td>24</td><td>2</td><td>2</td><td>0</td><td>2</td><td>4</td><td>NA</td><td>0.2247191</td><td>0.3716814</td><td>15</td><td>0.3033708</td><td>COL</td><td>NL</td><td>1000000</td></tr>\n",
       "\t<tr><th scope=row>7891</th><td>giambja01</td><td>2013</td><td>1</td><td>CLE</td><td>AL</td><td>71</td><td>71</td><td>186</td><td>21</td><td>34</td><td>8</td><td>0</td><td>9</td><td>31</td><td>0</td><td>1</td><td>23</td><td>56</td><td>0</td><td>4</td><td>0</td><td>3</td><td>8</td><td>NA</td><td>0.1827957</td><td>0.2824074</td><td>17</td><td>0.3709677</td><td>CLE</td><td>AL</td><td>750000</td></tr>\n",
       "\t<tr><th scope=row>20112</th><td>saenzol01</td><td>1999</td><td>1</td><td>OAK</td><td>AL</td><td>97</td><td>97</td><td>255</td><td>41</td><td>70</td><td>18</td><td>0</td><td>11</td><td>41</td><td>1</td><td>1</td><td>22</td><td>47</td><td>1</td><td>15</td><td>0</td><td>3</td><td>6</td><td>97</td><td>0.2745098</td><td>0.3627119</td><td>41</td><td>0.4745098</td><td>OAK</td><td>AL</td><td>240000</td></tr>\n",
       "\t<tr><th scope=row>20113</th><td>saenzol01</td><td>2000</td><td>1</td><td>OAK</td><td>AL</td><td>76</td><td>76</td><td>214</td><td>40</td><td>67</td><td>12</td><td>2</td><td>9</td><td>33</td><td>1</td><td>0</td><td>25</td><td>40</td><td>2</td><td>7</td><td>0</td><td>1</td><td>6</td><td>76</td><td>0.3130841</td><td>0.4008097</td><td>44</td><td>0.5140187</td><td>OAK</td><td>AL</td><td>260000</td></tr>\n",
       "\t<tr><th scope=row>20114</th><td>saenzol01</td><td>2001</td><td>1</td><td>OAK</td><td>AL</td><td>106</td><td>106</td><td>305</td><td>33</td><td>67</td><td>21</td><td>1</td><td>9</td><td>32</td><td>0</td><td>1</td><td>19</td><td>64</td><td>1</td><td>13</td><td>1</td><td>3</td><td>9</td><td>106</td><td>0.2196721</td><td>0.2911765</td><td>36</td><td>0.3836066</td><td>OAK</td><td>AL</td><td>290000</td></tr>\n",
       "\t<tr><th scope=row>20115</th><td>saenzol01</td><td>2002</td><td>1</td><td>OAK</td><td>AL</td><td>68</td><td>68</td><td>156</td><td>15</td><td>43</td><td>10</td><td>1</td><td>6</td><td>18</td><td>1</td><td>1</td><td>13</td><td>31</td><td>1</td><td>7</td><td>0</td><td>2</td><td>2</td><td>68</td><td>0.275641</td><td>0.3539326</td><td>26</td><td>0.4679487</td><td>OAK</td><td>AL</td><td>800000</td></tr>\n",
       "\t<tr><th scope=row>20116</th><td>saenzol01</td><td>2005</td><td>1</td><td>LAN</td><td>NL</td><td>109</td><td>109</td><td>319</td><td>39</td><td>84</td><td>24</td><td>0</td><td>15</td><td>63</td><td>0</td><td>1</td><td>27</td><td>63</td><td>1</td><td>3</td><td>0</td><td>2</td><td>12</td><td>109</td><td>0.2633229</td><td>0.3247863</td><td>45</td><td>0.4796238</td><td>LAN</td><td>NL</td><td>650000</td></tr>\n",
       "\t<tr><th scope=row>20117</th><td>saenzol01</td><td>2006</td><td>1</td><td>LAN</td><td>NL</td><td>103</td><td>103</td><td>179</td><td>30</td><td>53</td><td>15</td><td>0</td><td>11</td><td>48</td><td>0</td><td>0</td><td>14</td><td>47</td><td>1</td><td>7</td><td>0</td><td>4</td><td>4</td><td>103</td><td>0.2960894</td><td>0.3627451</td><td>27</td><td>0.5642458</td><td>LAN</td><td>NL</td><td>1000000</td></tr>\n",
       "\t<tr><th scope=row>20118</th><td>saenzol01</td><td>2007</td><td>1</td><td>LAN</td><td>NL</td><td>92</td><td>92</td><td>110</td><td>9</td><td>21</td><td>5</td><td>0</td><td>4</td><td>18</td><td>0</td><td>0</td><td>16</td><td>25</td><td>0</td><td>2</td><td>0</td><td>4</td><td>5</td><td>92</td><td>0.1909091</td><td>0.2954545</td><td>12</td><td>0.3454545</td><td>LAN</td><td>NL</td><td>1000000</td></tr>\n",
       "</tbody>\n",
       "</table>\n"
      ],
      "text/latex": [
       "\\begin{tabular}{r|lllllllllllllllllllllllllllllll}\n",
       "  & playerID & yearID & stint & teamID.x & lgID.x & G & G_batting & AB & R & H & X2B & X3B & HR & RBI & SB & CS & BB & SO & IBB & HBP & SH & SF & GIDP & G_old & BA & OBP & X1B & SLG & teamID.y & lgID.y & salary\\\\\n",
       "\\hline\n",
       "\t5135 & damonjo01 & 1995 & 1 & KCA & AL & 47 & 47 & 188 & 32 & 53 & 11 & 5 & 3 & 23 & 7 & 0 & 12 & 22 & 0 & 1 & 2 & 3 & 2 & 47 & 0.2819149 & 0.3235294 & 34 & 0.4414894 & KCA & AL & 109000\\\\\n",
       "\t5136 & damonjo01 & 1996 & 1 & KCA & AL & 145 & 145 & 517 & 61 & 140 & 22 & 5 & 6 & 50 & 25 & 5 & 31 & 64 & 3 & 3 & 10 & 5 & 4 & 145 & 0.270793 & 0.3129496 & 107 & 0.3675048 & KCA & AL & 180000\\\\\n",
       "\t5137 & damonjo01 & 1997 & 1 & KCA & AL & 146 & 146 & 472 & 70 & 130 & 12 & 8 & 8 & 48 & 16 & 10 & 42 & 70 & 2 & 3 & 6 & 1 & 3 & 146 & 0.2754237 & 0.3378378 & 102 & 0.3855932 & KCA & AL & 240000\\\\\n",
       "\t5138 & damonjo01 & 1998 & 1 & KCA & AL & 161 & 161 & 642 & 104 & 178 & 30 & 10 & 18 & 66 & 26 & 12 & 58 & 84 & 4 & 4 & 3 & 3 & 4 & 161 & 0.2772586 & 0.3394625 & 120 & 0.4392523 & KCA & AL & 460000\\\\\n",
       "\t5139 & damonjo01 & 1999 & 1 & KCA & AL & 145 & 145 & 583 & 101 & 179 & 39 & 9 & 14 & 77 & 36 & 6 & 67 & 50 & 5 & 3 & 3 & 4 & 13 & 145 & 0.3070326 & 0.3789954 & 117 & 0.4768439 & KCA & AL & 2100000\\\\\n",
       "\t5140 & damonjo01 & 2000 & 1 & KCA & AL & 159 & 159 & 655 & 136 & 214 & 42 & 10 & 16 & 88 & 46 & 9 & 65 & 60 & 4 & 1 & 8 & 12 & 7 & 159 & 0.3267176 & 0.3819918 & 146 & 0.4946565 & KCA & AL & 4000000\\\\\n",
       "\t5141 & damonjo01 & 2001 & 1 & OAK & AL & 155 & 155 & 644 & 108 & 165 & 34 & 4 & 9 & 49 & 27 & 12 & 61 & 70 & 1 & 5 & 5 & 4 & 7 & 155 & 0.2562112 & 0.3235294 & 118 & 0.363354 & OAK & AL & 7100000\\\\\n",
       "\t5142 & damonjo01 & 2002 & 1 & BOS & AL & 154 & 154 & 623 & 118 & 178 & 34 & 11 & 14 & 63 & 31 & 6 & 65 & 70 & 5 & 6 & 3 & 5 & 4 & 154 & 0.2857143 & 0.3562232 & 119 & 0.4430177 & BOS & AL & 7250000\\\\\n",
       "\t5143 & damonjo01 & 2003 & 1 & BOS & AL & 145 & 145 & 608 & 103 & 166 & 32 & 6 & 12 & 67 & 30 & 6 & 68 & 74 & 4 & 2 & 6 & 6 & 5 & 145 & 0.2730263 & 0.3450292 & 116 & 0.4046053 & BOS & AL & 7500000\\\\\n",
       "\t5144 & damonjo01 & 2004 & 1 & BOS & AL & 150 & 150 & 621 & 123 & 189 & 35 & 6 & 20 & 94 & 19 & 8 & 76 & 71 & 1 & 2 & 0 & 3 & 8 & 150 & 0.3043478 & 0.3803419 & 128 & 0.4766506 & BOS & AL & 8000000\\\\\n",
       "\t5145 & damonjo01 & 2005 & 1 & BOS & AL & 148 & 148 & 624 & 117 & 197 & 35 & 6 & 10 & 75 & 18 & 1 & 53 & 69 & 3 & 2 & 0 & 9 & 5 & 148 & 0.3157051 & 0.3662791 & 146 & 0.4391026 & BOS & AL & 8250000\\\\\n",
       "\t5146 & damonjo01 & 2006 & 1 & NYA & AL & 149 & 149 & 593 & 115 & 169 & 35 & 5 & 24 & 80 & 25 & 10 & 67 & 85 & 1 & 4 & 2 & 5 & 4 & 149 & 0.2849916 & 0.3587444 & 105 & 0.4822934 & NYA & AL & 13000000\\\\\n",
       "\t5147 & damonjo01 & 2007 & 1 & NYA & AL & 141 & 141 & 533 & 93 & 144 & 27 & 2 & 12 & 63 & 27 & 3 & 66 & 79 & 1 & 2 & 1 & 3 & 4 & 141 & 0.2701689 & 0.3509934 & 103 & 0.3958724 & NYA & AL & 13000000\\\\\n",
       "\t5148 & damonjo01 & 2008 & 1 & NYA & AL & 143 & 143 & 555 & 95 & 168 & 27 & 5 & 17 & 71 & 29 & 8 & 64 & 82 & 0 & 1 & 2 & 1 & 5 & 143 & 0.3027027 & 0.3752013 & 119 & 0.4612613 & NYA & AL & 13000000\\\\\n",
       "\t5149 & damonjo01 & 2009 & 1 & NYA & AL & 143 & 143 & 550 & 107 & 155 & 36 & 3 & 24 & 82 & 12 & 0 & 71 & 98 & 1 & 2 & 2 & 1 & 9 & NA & 0.2818182 & 0.3653846 & 92 & 0.4890909 & NYA & AL & 13000000\\\\\n",
       "\t5150 & damonjo01 & 2010 & 1 & DET & AL & 145 & 145 & 539 & 81 & 146 & 36 & 5 & 8 & 51 & 11 & 1 & 69 & 90 & 2 & 2 & 2 & 1 & 5 & NA & 0.270872 & 0.3551555 & 97 & 0.4007421 & DET & AL & 8000000\\\\\n",
       "\t5151 & damonjo01 & 2011 & 1 & TBA & AL & 150 & 150 & 582 & 79 & 152 & 29 & 7 & 16 & 73 & 19 & 6 & 51 & 92 & 1 & 7 & 2 & 5 & 4 & 150 & 0.2611684 & 0.3255814 & 100 & 0.4175258 & TBA & AL & 5250000\\\\\n",
       "\t7872 & giambja01 & 1995 & 1 & OAK & AL & 54 & 54 & 176 & 27 & 45 & 7 & 0 & 6 & 25 & 2 & 1 & 28 & 31 & 0 & 3 & 1 & 2 & 4 & 54 & 0.2556818 & 0.3636364 & 32 & 0.3977273 & OAK & AL & 109000\\\\\n",
       "\t7873 & giambja01 & 1996 & 1 & OAK & AL & 140 & 140 & 536 & 84 & 156 & 40 & 1 & 20 & 79 & 0 & 1 & 51 & 95 & 3 & 5 & 1 & 5 & 15 & 140 & 0.2910448 & 0.3551089 & 95 & 0.4813433 & OAK & AL & 120000\\\\\n",
       "\t7874 & giambja01 & 1997 & 1 & OAK & AL & 142 & 142 & 519 & 66 & 152 & 41 & 2 & 20 & 81 & 0 & 1 & 55 & 89 & 3 & 6 & 0 & 8 & 11 & 142 & 0.2928709 & 0.3622449 & 89 & 0.495183 & OAK & AL & 205000\\\\\n",
       "\t7875 & giambja01 & 1998 & 1 & OAK & AL & 153 & 153 & 562 & 92 & 166 & 28 & 0 & 27 & 110 & 2 & 2 & 81 & 102 & 7 & 5 & 0 & 9 & 16 & 153 & 0.2953737 & 0.3835616 & 111 & 0.4893238 & OAK & AL & 315000\\\\\n",
       "\t7876 & giambja01 & 1999 & 1 & OAK & AL & 158 & 158 & 575 & 115 & 181 & 36 & 1 & 33 & 123 & 1 & 1 & 105 & 106 & 6 & 7 & 0 & 8 & 11 & 158 & 0.3147826 & 0.4215827 & 111 & 0.5530435 & OAK & AL & 2103333\\\\\n",
       "\t7877 & giambja01 & 2000 & 1 & OAK & AL & 152 & 152 & 510 & 108 & 170 & 29 & 1 & 43 & 137 & 2 & 0 & 137 & 96 & 6 & 9 & 0 & 8 & 9 & 152 & 0.3333333 & 0.4759036 & 97 & 0.6470588 & OAK & AL & 3103333\\\\\n",
       "\t7878 & giambja01 & 2001 & 1 & OAK & AL & 154 & 154 & 520 & 109 & 178 & 47 & 2 & 38 & 120 & 2 & 0 & 129 & 83 & 24 & 13 & 0 & 9 & 17 & 154 & 0.3423077 & 0.4769001 & 91 & 0.6596154 & OAK & AL & 4103333\\\\\n",
       "\t7879 & giambja01 & 2002 & 1 & NYA & AL & 155 & 155 & 560 & 120 & 176 & 34 & 1 & 41 & 122 & 2 & 2 & 109 & 112 & 4 & 15 & 0 & 5 & 18 & 155 & 0.3142857 & 0.4354136 & 100 & 0.5982143 & NYA & AL & 10428571\\\\\n",
       "\t7880 & giambja01 & 2003 & 1 & NYA & AL & 156 & 156 & 535 & 97 & 134 & 25 & 0 & 41 & 107 & 2 & 1 & 129 & 140 & 9 & 21 & 0 & 5 & 9 & 156 & 0.2504673 & 0.4115942 & 68 & 0.5271028 & NYA & AL & 11428571\\\\\n",
       "\t7881 & giambja01 & 2004 & 1 & NYA & AL & 80 & 80 & 264 & 33 & 55 & 9 & 0 & 12 & 40 & 0 & 1 & 47 & 62 & 1 & 8 & 0 & 3 & 5 & 80 & 0.2083333 & 0.3416149 & 34 & 0.3787879 & NYA & AL & 12428571\\\\\n",
       "\t7882 & giambja01 & 2005 & 1 & NYA & AL & 139 & 139 & 417 & 74 & 113 & 14 & 0 & 32 & 87 & 0 & 0 & 108 & 109 & 5 & 19 & 0 & 1 & 7 & 139 & 0.2709832 & 0.440367 & 67 & 0.5347722 & NYA & AL & 13428571\\\\\n",
       "\t7883 & giambja01 & 2006 & 1 & NYA & AL & 139 & 139 & 446 & 92 & 113 & 25 & 0 & 37 & 113 & 2 & 0 & 110 & 106 & 12 & 16 & 0 & 7 & 10 & 139 & 0.2533632 & 0.4127807 & 51 & 0.558296 & NYA & AL & 20428571\\\\\n",
       "\t7884 & giambja01 & 2007 & 1 & NYA & AL & 83 & 83 & 254 & 31 & 60 & 8 & 0 & 14 & 39 & 1 & 0 & 40 & 66 & 2 & 8 & 0 & 1 & 1 & 83 & 0.2362205 & 0.3564356 & 38 & 0.4330709 & NYA & AL & 23428571\\\\\n",
       "\t7885 & giambja01 & 2008 & 1 & NYA & AL & 145 & 145 & 458 & 68 & 113 & 19 & 1 & 32 & 96 & 2 & 1 & 76 & 111 & 5 & 22 & 0 & 9 & 6 & 145 & 0.2467249 & 0.3734513 & 61 & 0.5021834 & NYA & AL & 23428571\\\\\n",
       "\t7886 & giambja01 & 2009 & 1 & OAK & AL & 83 & 83 & 269 & 39 & 52 & 13 & 0 & 11 & 40 & 0 & 0 & 50 & 72 & 1 & 7 & 0 & 2 & 6 & NA & 0.1933086 & 0.3323171 & 28 & 0.3643123 & OAK & AL & 4000000\\\\\n",
       "\t7887 & giambja01 & 2009 & 2 & COL & NL & 19 & 19 & 24 & 4 & 7 & 1 & 0 & 2 & 11 & 0 & 0 & 7 & 8 & 0 & 0 & 0 & 0 & 0 & NA & 0.2916667 & 0.4516129 & 4 & 0.5833333 & OAK & AL & 4000000\\\\\n",
       "\t7888 & giambja01 & 2010 & 1 & COL & NL & 87 & 87 & 176 & 17 & 43 & 9 & 0 & 6 & 35 & 2 & 0 & 35 & 47 & 5 & 6 & 0 & 5 & 5 & NA & 0.2443182 & 0.3783784 & 28 & 0.3977273 & COL & NL & 1750000\\\\\n",
       "\t7889 & giambja01 & 2011 & 1 & COL & NL & 64 & 64 & 131 & 20 & 34 & 6 & 0 & 13 & 32 & 0 & 0 & 17 & 45 & 0 & 3 & 0 & 1 & 1 & 64 & 0.259542 & 0.3552632 & 15 & 0.6030534 & COL & NL & 1000000\\\\\n",
       "\t7890 & giambja01 & 2012 & 1 & COL & NL & 60 & NA & 89 & 7 & 20 & 4 & 0 & 1 & 8 & 0 & 0 & 20 & 24 & 2 & 2 & 0 & 2 & 4 & NA & 0.2247191 & 0.3716814 & 15 & 0.3033708 & COL & NL & 1000000\\\\\n",
       "\t7891 & giambja01 & 2013 & 1 & CLE & AL & 71 & 71 & 186 & 21 & 34 & 8 & 0 & 9 & 31 & 0 & 1 & 23 & 56 & 0 & 4 & 0 & 3 & 8 & NA & 0.1827957 & 0.2824074 & 17 & 0.3709677 & CLE & AL & 750000\\\\\n",
       "\t20112 & saenzol01 & 1999 & 1 & OAK & AL & 97 & 97 & 255 & 41 & 70 & 18 & 0 & 11 & 41 & 1 & 1 & 22 & 47 & 1 & 15 & 0 & 3 & 6 & 97 & 0.2745098 & 0.3627119 & 41 & 0.4745098 & OAK & AL & 240000\\\\\n",
       "\t20113 & saenzol01 & 2000 & 1 & OAK & AL & 76 & 76 & 214 & 40 & 67 & 12 & 2 & 9 & 33 & 1 & 0 & 25 & 40 & 2 & 7 & 0 & 1 & 6 & 76 & 0.3130841 & 0.4008097 & 44 & 0.5140187 & OAK & AL & 260000\\\\\n",
       "\t20114 & saenzol01 & 2001 & 1 & OAK & AL & 106 & 106 & 305 & 33 & 67 & 21 & 1 & 9 & 32 & 0 & 1 & 19 & 64 & 1 & 13 & 1 & 3 & 9 & 106 & 0.2196721 & 0.2911765 & 36 & 0.3836066 & OAK & AL & 290000\\\\\n",
       "\t20115 & saenzol01 & 2002 & 1 & OAK & AL & 68 & 68 & 156 & 15 & 43 & 10 & 1 & 6 & 18 & 1 & 1 & 13 & 31 & 1 & 7 & 0 & 2 & 2 & 68 & 0.275641 & 0.3539326 & 26 & 0.4679487 & OAK & AL & 800000\\\\\n",
       "\t20116 & saenzol01 & 2005 & 1 & LAN & NL & 109 & 109 & 319 & 39 & 84 & 24 & 0 & 15 & 63 & 0 & 1 & 27 & 63 & 1 & 3 & 0 & 2 & 12 & 109 & 0.2633229 & 0.3247863 & 45 & 0.4796238 & LAN & NL & 650000\\\\\n",
       "\t20117 & saenzol01 & 2006 & 1 & LAN & NL & 103 & 103 & 179 & 30 & 53 & 15 & 0 & 11 & 48 & 0 & 0 & 14 & 47 & 1 & 7 & 0 & 4 & 4 & 103 & 0.2960894 & 0.3627451 & 27 & 0.5642458 & LAN & NL & 1000000\\\\\n",
       "\t20118 & saenzol01 & 2007 & 1 & LAN & NL & 92 & 92 & 110 & 9 & 21 & 5 & 0 & 4 & 18 & 0 & 0 & 16 & 25 & 0 & 2 & 0 & 4 & 5 & 92 & 0.1909091 & 0.2954545 & 12 & 0.3454545 & LAN & NL & 1000000\\\\\n",
       "\\end{tabular}\n"
      ],
      "text/plain": [
       "       playerID yearID stint teamID.x lgID.x   G G_batting  AB   R   H X2B X3B\n",
       "5135  damonjo01   1995     1      KCA     AL  47        47 188  32  53  11   5\n",
       "5136  damonjo01   1996     1      KCA     AL 145       145 517  61 140  22   5\n",
       "5137  damonjo01   1997     1      KCA     AL 146       146 472  70 130  12   8\n",
       "5138  damonjo01   1998     1      KCA     AL 161       161 642 104 178  30  10\n",
       "5139  damonjo01   1999     1      KCA     AL 145       145 583 101 179  39   9\n",
       "5140  damonjo01   2000     1      KCA     AL 159       159 655 136 214  42  10\n",
       "5141  damonjo01   2001     1      OAK     AL 155       155 644 108 165  34   4\n",
       "5142  damonjo01   2002     1      BOS     AL 154       154 623 118 178  34  11\n",
       "5143  damonjo01   2003     1      BOS     AL 145       145 608 103 166  32   6\n",
       "5144  damonjo01   2004     1      BOS     AL 150       150 621 123 189  35   6\n",
       "5145  damonjo01   2005     1      BOS     AL 148       148 624 117 197  35   6\n",
       "5146  damonjo01   2006     1      NYA     AL 149       149 593 115 169  35   5\n",
       "5147  damonjo01   2007     1      NYA     AL 141       141 533  93 144  27   2\n",
       "5148  damonjo01   2008     1      NYA     AL 143       143 555  95 168  27   5\n",
       "5149  damonjo01   2009     1      NYA     AL 143       143 550 107 155  36   3\n",
       "5150  damonjo01   2010     1      DET     AL 145       145 539  81 146  36   5\n",
       "5151  damonjo01   2011     1      TBA     AL 150       150 582  79 152  29   7\n",
       "7872  giambja01   1995     1      OAK     AL  54        54 176  27  45   7   0\n",
       "7873  giambja01   1996     1      OAK     AL 140       140 536  84 156  40   1\n",
       "7874  giambja01   1997     1      OAK     AL 142       142 519  66 152  41   2\n",
       "7875  giambja01   1998     1      OAK     AL 153       153 562  92 166  28   0\n",
       "7876  giambja01   1999     1      OAK     AL 158       158 575 115 181  36   1\n",
       "7877  giambja01   2000     1      OAK     AL 152       152 510 108 170  29   1\n",
       "7878  giambja01   2001     1      OAK     AL 154       154 520 109 178  47   2\n",
       "7879  giambja01   2002     1      NYA     AL 155       155 560 120 176  34   1\n",
       "7880  giambja01   2003     1      NYA     AL 156       156 535  97 134  25   0\n",
       "7881  giambja01   2004     1      NYA     AL  80        80 264  33  55   9   0\n",
       "7882  giambja01   2005     1      NYA     AL 139       139 417  74 113  14   0\n",
       "7883  giambja01   2006     1      NYA     AL 139       139 446  92 113  25   0\n",
       "7884  giambja01   2007     1      NYA     AL  83        83 254  31  60   8   0\n",
       "7885  giambja01   2008     1      NYA     AL 145       145 458  68 113  19   1\n",
       "7886  giambja01   2009     1      OAK     AL  83        83 269  39  52  13   0\n",
       "7887  giambja01   2009     2      COL     NL  19        19  24   4   7   1   0\n",
       "7888  giambja01   2010     1      COL     NL  87        87 176  17  43   9   0\n",
       "7889  giambja01   2011     1      COL     NL  64        64 131  20  34   6   0\n",
       "7890  giambja01   2012     1      COL     NL  60        NA  89   7  20   4   0\n",
       "7891  giambja01   2013     1      CLE     AL  71        71 186  21  34   8   0\n",
       "20112 saenzol01   1999     1      OAK     AL  97        97 255  41  70  18   0\n",
       "20113 saenzol01   2000     1      OAK     AL  76        76 214  40  67  12   2\n",
       "20114 saenzol01   2001     1      OAK     AL 106       106 305  33  67  21   1\n",
       "20115 saenzol01   2002     1      OAK     AL  68        68 156  15  43  10   1\n",
       "20116 saenzol01   2005     1      LAN     NL 109       109 319  39  84  24   0\n",
       "20117 saenzol01   2006     1      LAN     NL 103       103 179  30  53  15   0\n",
       "20118 saenzol01   2007     1      LAN     NL  92        92 110   9  21   5   0\n",
       "      HR RBI SB CS  BB  SO IBB HBP SH SF GIDP G_old        BA       OBP X1B\n",
       "5135   3  23  7  0  12  22   0   1  2  3    2    47 0.2819149 0.3235294  34\n",
       "5136   6  50 25  5  31  64   3   3 10  5    4   145 0.2707930 0.3129496 107\n",
       "5137   8  48 16 10  42  70   2   3  6  1    3   146 0.2754237 0.3378378 102\n",
       "5138  18  66 26 12  58  84   4   4  3  3    4   161 0.2772586 0.3394625 120\n",
       "5139  14  77 36  6  67  50   5   3  3  4   13   145 0.3070326 0.3789954 117\n",
       "5140  16  88 46  9  65  60   4   1  8 12    7   159 0.3267176 0.3819918 146\n",
       "5141   9  49 27 12  61  70   1   5  5  4    7   155 0.2562112 0.3235294 118\n",
       "5142  14  63 31  6  65  70   5   6  3  5    4   154 0.2857143 0.3562232 119\n",
       "5143  12  67 30  6  68  74   4   2  6  6    5   145 0.2730263 0.3450292 116\n",
       "5144  20  94 19  8  76  71   1   2  0  3    8   150 0.3043478 0.3803419 128\n",
       "5145  10  75 18  1  53  69   3   2  0  9    5   148 0.3157051 0.3662791 146\n",
       "5146  24  80 25 10  67  85   1   4  2  5    4   149 0.2849916 0.3587444 105\n",
       "5147  12  63 27  3  66  79   1   2  1  3    4   141 0.2701689 0.3509934 103\n",
       "5148  17  71 29  8  64  82   0   1  2  1    5   143 0.3027027 0.3752013 119\n",
       "5149  24  82 12  0  71  98   1   2  2  1    9    NA 0.2818182 0.3653846  92\n",
       "5150   8  51 11  1  69  90   2   2  2  1    5    NA 0.2708720 0.3551555  97\n",
       "5151  16  73 19  6  51  92   1   7  2  5    4   150 0.2611684 0.3255814 100\n",
       "7872   6  25  2  1  28  31   0   3  1  2    4    54 0.2556818 0.3636364  32\n",
       "7873  20  79  0  1  51  95   3   5  1  5   15   140 0.2910448 0.3551089  95\n",
       "7874  20  81  0  1  55  89   3   6  0  8   11   142 0.2928709 0.3622449  89\n",
       "7875  27 110  2  2  81 102   7   5  0  9   16   153 0.2953737 0.3835616 111\n",
       "7876  33 123  1  1 105 106   6   7  0  8   11   158 0.3147826 0.4215827 111\n",
       "7877  43 137  2  0 137  96   6   9  0  8    9   152 0.3333333 0.4759036  97\n",
       "7878  38 120  2  0 129  83  24  13  0  9   17   154 0.3423077 0.4769001  91\n",
       "7879  41 122  2  2 109 112   4  15  0  5   18   155 0.3142857 0.4354136 100\n",
       "7880  41 107  2  1 129 140   9  21  0  5    9   156 0.2504673 0.4115942  68\n",
       "7881  12  40  0  1  47  62   1   8  0  3    5    80 0.2083333 0.3416149  34\n",
       "7882  32  87  0  0 108 109   5  19  0  1    7   139 0.2709832 0.4403670  67\n",
       "7883  37 113  2  0 110 106  12  16  0  7   10   139 0.2533632 0.4127807  51\n",
       "7884  14  39  1  0  40  66   2   8  0  1    1    83 0.2362205 0.3564356  38\n",
       "7885  32  96  2  1  76 111   5  22  0  9    6   145 0.2467249 0.3734513  61\n",
       "7886  11  40  0  0  50  72   1   7  0  2    6    NA 0.1933086 0.3323171  28\n",
       "7887   2  11  0  0   7   8   0   0  0  0    0    NA 0.2916667 0.4516129   4\n",
       "7888   6  35  2  0  35  47   5   6  0  5    5    NA 0.2443182 0.3783784  28\n",
       "7889  13  32  0  0  17  45   0   3  0  1    1    64 0.2595420 0.3552632  15\n",
       "7890   1   8  0  0  20  24   2   2  0  2    4    NA 0.2247191 0.3716814  15\n",
       "7891   9  31  0  1  23  56   0   4  0  3    8    NA 0.1827957 0.2824074  17\n",
       "20112 11  41  1  1  22  47   1  15  0  3    6    97 0.2745098 0.3627119  41\n",
       "20113  9  33  1  0  25  40   2   7  0  1    6    76 0.3130841 0.4008097  44\n",
       "20114  9  32  0  1  19  64   1  13  1  3    9   106 0.2196721 0.2911765  36\n",
       "20115  6  18  1  1  13  31   1   7  0  2    2    68 0.2756410 0.3539326  26\n",
       "20116 15  63  0  1  27  63   1   3  0  2   12   109 0.2633229 0.3247863  45\n",
       "20117 11  48  0  0  14  47   1   7  0  4    4   103 0.2960894 0.3627451  27\n",
       "20118  4  18  0  0  16  25   0   2  0  4    5    92 0.1909091 0.2954545  12\n",
       "            SLG teamID.y lgID.y   salary\n",
       "5135  0.4414894      KCA     AL   109000\n",
       "5136  0.3675048      KCA     AL   180000\n",
       "5137  0.3855932      KCA     AL   240000\n",
       "5138  0.4392523      KCA     AL   460000\n",
       "5139  0.4768439      KCA     AL  2100000\n",
       "5140  0.4946565      KCA     AL  4000000\n",
       "5141  0.3633540      OAK     AL  7100000\n",
       "5142  0.4430177      BOS     AL  7250000\n",
       "5143  0.4046053      BOS     AL  7500000\n",
       "5144  0.4766506      BOS     AL  8000000\n",
       "5145  0.4391026      BOS     AL  8250000\n",
       "5146  0.4822934      NYA     AL 13000000\n",
       "5147  0.3958724      NYA     AL 13000000\n",
       "5148  0.4612613      NYA     AL 13000000\n",
       "5149  0.4890909      NYA     AL 13000000\n",
       "5150  0.4007421      DET     AL  8000000\n",
       "5151  0.4175258      TBA     AL  5250000\n",
       "7872  0.3977273      OAK     AL   109000\n",
       "7873  0.4813433      OAK     AL   120000\n",
       "7874  0.4951830      OAK     AL   205000\n",
       "7875  0.4893238      OAK     AL   315000\n",
       "7876  0.5530435      OAK     AL  2103333\n",
       "7877  0.6470588      OAK     AL  3103333\n",
       "7878  0.6596154      OAK     AL  4103333\n",
       "7879  0.5982143      NYA     AL 10428571\n",
       "7880  0.5271028      NYA     AL 11428571\n",
       "7881  0.3787879      NYA     AL 12428571\n",
       "7882  0.5347722      NYA     AL 13428571\n",
       "7883  0.5582960      NYA     AL 20428571\n",
       "7884  0.4330709      NYA     AL 23428571\n",
       "7885  0.5021834      NYA     AL 23428571\n",
       "7886  0.3643123      OAK     AL  4000000\n",
       "7887  0.5833333      OAK     AL  4000000\n",
       "7888  0.3977273      COL     NL  1750000\n",
       "7889  0.6030534      COL     NL  1000000\n",
       "7890  0.3033708      COL     NL  1000000\n",
       "7891  0.3709677      CLE     AL   750000\n",
       "20112 0.4745098      OAK     AL   240000\n",
       "20113 0.5140187      OAK     AL   260000\n",
       "20114 0.3836066      OAK     AL   290000\n",
       "20115 0.4679487      OAK     AL   800000\n",
       "20116 0.4796238      LAN     NL   650000\n",
       "20117 0.5642458      LAN     NL  1000000\n",
       "20118 0.3454545      LAN     NL  1000000"
      ]
     },
     "execution_count": 19,
     "metadata": {},
     "output_type": "execute_result"
    }
   ],
   "source": [
    "lost_players"
   ]
  },
  {
   "cell_type": "markdown",
   "metadata": {},
   "source": [
    "Since all these players were lost in after 2001 in the offseason, let's only concern ourselves with the data from 2001. \n",
    "\n",
    "** Use subset again to only grab the rows where the yearID was 2001. **"
   ]
  },
  {
   "cell_type": "code",
   "execution_count": 20,
   "metadata": {
    "collapsed": true
   },
   "outputs": [],
   "source": [
    "lost_players <- subset(lost_players,yearID == 2001)"
   ]
  },
  {
   "cell_type": "markdown",
   "metadata": {},
   "source": [
    "** Reduce the lost_players data frame to the following columns: playerID,H,X2B,X3B,HR,OBP,SLG,BA,AB**"
   ]
  },
  {
   "cell_type": "code",
   "execution_count": 21,
   "metadata": {
    "collapsed": false
   },
   "outputs": [],
   "source": [
    "lost_players <- lost_players[,c('playerID','H','X2B','X3B','HR','OBP','SLG','BA','AB')]"
   ]
  },
  {
   "cell_type": "code",
   "execution_count": 22,
   "metadata": {
    "collapsed": false
   },
   "outputs": [
    {
     "data": {
      "text/html": [
       "<table>\n",
       "<thead><tr><th></th><th scope=col>playerID</th><th scope=col>H</th><th scope=col>X2B</th><th scope=col>X3B</th><th scope=col>HR</th><th scope=col>OBP</th><th scope=col>SLG</th><th scope=col>BA</th><th scope=col>AB</th></tr></thead>\n",
       "<tbody>\n",
       "\t<tr><th scope=row>5141</th><td>damonjo01</td><td>165</td><td>34</td><td>4</td><td>9</td><td>0.3235294</td><td>0.363354</td><td>0.2562112</td><td>644</td></tr>\n",
       "\t<tr><th scope=row>7878</th><td>giambja01</td><td>178</td><td>47</td><td>2</td><td>38</td><td>0.4769001</td><td>0.6596154</td><td>0.3423077</td><td>520</td></tr>\n",
       "\t<tr><th scope=row>20114</th><td>saenzol01</td><td>67</td><td>21</td><td>1</td><td>9</td><td>0.2911765</td><td>0.3836066</td><td>0.2196721</td><td>305</td></tr>\n",
       "</tbody>\n",
       "</table>\n"
      ],
      "text/latex": [
       "\\begin{tabular}{r|lllllllll}\n",
       "  & playerID & H & X2B & X3B & HR & OBP & SLG & BA & AB\\\\\n",
       "\\hline\n",
       "\t5141 & damonjo01 & 165 & 34 & 4 & 9 & 0.3235294 & 0.363354 & 0.2562112 & 644\\\\\n",
       "\t7878 & giambja01 & 178 & 47 & 2 & 38 & 0.4769001 & 0.6596154 & 0.3423077 & 520\\\\\n",
       "\t20114 & saenzol01 & 67 & 21 & 1 & 9 & 0.2911765 & 0.3836066 & 0.2196721 & 305\\\\\n",
       "\\end{tabular}\n"
      ],
      "text/plain": [
       "       playerID   H X2B X3B HR       OBP       SLG        BA  AB\n",
       "5141  damonjo01 165  34   4  9 0.3235294 0.3633540 0.2562112 644\n",
       "7878  giambja01 178  47   2 38 0.4769001 0.6596154 0.3423077 520\n",
       "20114 saenzol01  67  21   1  9 0.2911765 0.3836066 0.2196721 305"
      ]
     },
     "execution_count": 22,
     "metadata": {},
     "output_type": "execute_result"
    }
   ],
   "source": [
    "head(lost_players)"
   ]
  },
  {
   "cell_type": "markdown",
   "metadata": {},
   "source": [
    "## Replacement Players\n",
    "Now we have all the information we need! Here is your final task - Find Replacement Players for the key three players we lost! However, you have three constraints:\n",
    "\n",
    "* The total combined salary of the three players can not exceed 15 million dollars.\n",
    "* Their combined number of At Bats (AB) needs to be equal to or greater than the lost players.\n",
    "* Their mean OBP had to equal to or greater than the mean OBP of the lost players\n",
    "\n",
    "** Use the combo dataframe you previously created as the source of information! Remember to just use the 2001 subset of that dataframe. There's lost of different ways you can do this, so be creative! It should be relatively simple to find 3 players that satisfy the requirements, note that there are many correct combinations available!**\n",
    "\n",
    "[Helpful info on sorting data frames](http://www.cookbook-r.com/Manipulating_data/Sorting/)"
   ]
  },
  {
   "cell_type": "markdown",
   "metadata": {},
   "source": [
    "____\n",
    "## Example Solution\n",
    "** Note: There are lots of correct answers and ways to solve this!**\n",
    "\n",
    "** First only grab available players from year 2001 **"
   ]
  },
  {
   "cell_type": "code",
   "execution_count": 38,
   "metadata": {
    "collapsed": false
   },
   "outputs": [],
   "source": [
    "library(dplyr)\n",
    "avail.players <- filter(combo,yearID==2001)"
   ]
  },
  {
   "cell_type": "markdown",
   "metadata": {},
   "source": [
    "** Then I made a quick plot to see where I should cut-off for salary in respect to OBP:**"
   ]
  },
  {
   "cell_type": "code",
   "execution_count": 39,
   "metadata": {
    "collapsed": false
   },
   "outputs": [
    {
     "name": "stderr",
     "output_type": "stream",
     "text": [
      "Warning message:\n",
      ": Removed 168 rows containing missing values (geom_point)."
     ]
    },
    {
     "data": {
      "image/png": "[encoded data removed]",
      "text/plain": [
       "plot without title"
      ]
     },
     "metadata": {
      "image/svg+xml": {
       "isolated": true
      }
     },
     "output_type": "display_data"
    }
   ],
   "source": [
    "library(ggplot2)\n",
    "ggplot(avail.players,aes(x=OBP,y=salary)) + geom_point()"
   ]
  },
  {
   "cell_type": "markdown",
   "metadata": {},
   "source": [
    "** Looks like there is no point in paying above 8 million or so (I'm just eyeballing this number). I'll choose that as a cutt off point. There are also a lot of players with OBP==0. Let's get rid of them too.**"
   ]
  },
  {
   "cell_type": "code",
   "execution_count": 41,
   "metadata": {
    "collapsed": true
   },
   "outputs": [],
   "source": [
    "avail.players <- filter(avail.players,salary<8000000,OBP>0)"
   ]
  },
  {
   "cell_type": "markdown",
   "metadata": {},
   "source": [
    "** The total AB of the lost players is 1469. This is about 1500, meaning I should probably cut off my avail.players at 1500/3= 500 AB. **"
   ]
  },
  {
   "cell_type": "code",
   "execution_count": 42,
   "metadata": {
    "collapsed": true
   },
   "outputs": [],
   "source": [
    "avail.players <- filter(avail.players,AB >= 500)"
   ]
  },
  {
   "cell_type": "markdown",
   "metadata": {},
   "source": [
    "** Now let's sort by OBP and see what we've got! **"
   ]
  },
  {
   "cell_type": "code",
   "execution_count": 44,
   "metadata": {
    "collapsed": false
   },
   "outputs": [],
   "source": [
    "possible <- head(arrange(avail.players,desc(OBP)),10)"
   ]
  },
  {
   "cell_type": "markdown",
   "metadata": {},
   "source": [
    "** Grab columns I'm interested in:**"
   ]
  },
  {
   "cell_type": "code",
   "execution_count": 45,
   "metadata": {
    "collapsed": true
   },
   "outputs": [],
   "source": [
    "possible <- possible[,c('playerID','OBP','AB','salary')]"
   ]
  },
  {
   "cell_type": "code",
   "execution_count": 46,
   "metadata": {
    "collapsed": false
   },
   "outputs": [
    {
     "data": {
      "text/html": [
       "<table>\n",
       "<thead><tr><th></th><th scope=col>playerID</th><th scope=col>OBP</th><th scope=col>AB</th><th scope=col>salary</th></tr></thead>\n",
       "<tbody>\n",
       "\t<tr><th scope=row>1</th><td>giambja01</td><td>0.4769001</td><td>520</td><td>4103333</td></tr>\n",
       "\t<tr><th scope=row>2</th><td>heltoto01</td><td>0.4316547</td><td>587</td><td>4950000</td></tr>\n",
       "\t<tr><th scope=row>3</th><td>berkmla01</td><td>0.4302326</td><td>577</td><td>305000</td></tr>\n",
       "\t<tr><th scope=row>4</th><td>gonzalu01</td><td>0.4285714</td><td>609</td><td>4833333</td></tr>\n",
       "\t<tr><th scope=row>5</th><td>thomeji01</td><td>0.4161491</td><td>526</td><td>7875000</td></tr>\n",
       "\t<tr><th scope=row>6</th><td>alomaro01</td><td>0.4146707</td><td>575</td><td>7750000</td></tr>\n",
       "\t<tr><th scope=row>7</th><td>edmonji01</td><td>0.4102142</td><td>500</td><td>6333333</td></tr>\n",
       "\t<tr><th scope=row>8</th><td>gilesbr02</td><td>0.4035608</td><td>576</td><td>7333333</td></tr>\n",
       "\t<tr><th scope=row>9</th><td>pujolal01</td><td>0.402963</td><td>590</td><td>200000</td></tr>\n",
       "\t<tr><th scope=row>10</th><td>olerujo01</td><td>0.4011799</td><td>572</td><td>6700000</td></tr>\n",
       "</tbody>\n",
       "</table>\n"
      ],
      "text/latex": [
       "\\begin{tabular}{r|llll}\n",
       "  & playerID & OBP & AB & salary\\\\\n",
       "\\hline\n",
       "\t1 & giambja01 & 0.4769001 & 520 & 4103333\\\\\n",
       "\t2 & heltoto01 & 0.4316547 & 587 & 4950000\\\\\n",
       "\t3 & berkmla01 & 0.4302326 & 577 & 305000\\\\\n",
       "\t4 & gonzalu01 & 0.4285714 & 609 & 4833333\\\\\n",
       "\t5 & thomeji01 & 0.4161491 & 526 & 7875000\\\\\n",
       "\t6 & alomaro01 & 0.4146707 & 575 & 7750000\\\\\n",
       "\t7 & edmonji01 & 0.4102142 & 500 & 6333333\\\\\n",
       "\t8 & gilesbr02 & 0.4035608 & 576 & 7333333\\\\\n",
       "\t9 & pujolal01 & 0.402963 & 590 & 200000\\\\\n",
       "\t10 & olerujo01 & 0.4011799 & 572 & 6700000\\\\\n",
       "\\end{tabular}\n"
      ],
      "text/plain": [
       "    playerID       OBP  AB  salary\n",
       "1  giambja01 0.4769001 520 4103333\n",
       "2  heltoto01 0.4316547 587 4950000\n",
       "3  berkmla01 0.4302326 577  305000\n",
       "4  gonzalu01 0.4285714 609 4833333\n",
       "5  thomeji01 0.4161491 526 7875000\n",
       "6  alomaro01 0.4146707 575 7750000\n",
       "7  edmonji01 0.4102142 500 6333333\n",
       "8  gilesbr02 0.4035608 576 7333333\n",
       "9  pujolal01 0.4029630 590  200000\n",
       "10 olerujo01 0.4011799 572 6700000"
      ]
     },
     "execution_count": 46,
     "metadata": {},
     "output_type": "execute_result"
    }
   ],
   "source": [
    "possible"
   ]
  },
  {
   "cell_type": "markdown",
   "metadata": {
    "collapsed": false
   },
   "source": [
    "** Can't choose giambja again, but the other ones look good (2-4). I choose them! **"
   ]
  },
  {
   "cell_type": "code",
   "execution_count": 47,
   "metadata": {
    "collapsed": false
   },
   "outputs": [
    {
     "data": {
      "text/html": [
       "<table>\n",
       "<thead><tr><th></th><th scope=col>playerID</th><th scope=col>OBP</th><th scope=col>AB</th><th scope=col>salary</th></tr></thead>\n",
       "<tbody>\n",
       "\t<tr><th scope=row>2</th><td>heltoto01</td><td>0.4316547</td><td>587</td><td>4950000</td></tr>\n",
       "\t<tr><th scope=row>3</th><td>berkmla01</td><td>0.4302326</td><td>577</td><td>305000</td></tr>\n",
       "\t<tr><th scope=row>4</th><td>gonzalu01</td><td>0.4285714</td><td>609</td><td>4833333</td></tr>\n",
       "</tbody>\n",
       "</table>\n"
      ],
      "text/latex": [
       "\\begin{tabular}{r|llll}\n",
       "  & playerID & OBP & AB & salary\\\\\n",
       "\\hline\n",
       "\t2 & heltoto01 & 0.4316547 & 587 & 4950000\\\\\n",
       "\t3 & berkmla01 & 0.4302326 & 577 & 305000\\\\\n",
       "\t4 & gonzalu01 & 0.4285714 & 609 & 4833333\\\\\n",
       "\\end{tabular}\n"
      ],
      "text/plain": [
       "   playerID       OBP  AB  salary\n",
       "2 heltoto01 0.4316547 587 4950000\n",
       "3 berkmla01 0.4302326 577  305000\n",
       "4 gonzalu01 0.4285714 609 4833333"
      ]
     },
     "execution_count": 47,
     "metadata": {},
     "output_type": "execute_result"
    }
   ],
   "source": [
    "possible[2:4,]"
   ]
  },
  {
   "cell_type": "markdown",
   "metadata": {},
   "source": [
    "Great, looks like I just saved the 2001 Oakland A's a lot of money! If only I had a time machine and R, I could have made a lot of money in 2001 picking players!"
   ]
  },
  {
   "cell_type": "markdown",
   "metadata": {},
   "source": [
    "# Great Job!\n",
    "## Congratulations on your first project! "
   ]
  }
 ],
 "metadata": {
  "kernelspec": {
   "display_name": "R",
   "language": "R",
   "name": "ir"
  },
  "language_info": {
   "codemirror_mode": "r",
   "file_extension": ".r",
   "mimetype": "text/x-r-source",
   "name": "R",
   "pygments_lexer": "r",
   "version": "3.2.2"
  }
 },
 "nbformat": 4,
 "nbformat_minor": 0
}
